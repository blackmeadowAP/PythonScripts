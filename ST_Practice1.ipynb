{
 "cells": [
  {
   "cell_type": "markdown",
   "id": "f7be0e19",
   "metadata": {
    "id": "f7be0e19"
   },
   "source": [
    "# Ключевые слова "
   ]
  },
  {
   "cell_type": "markdown",
   "id": "fff97de8",
   "metadata": {
    "id": "fff97de8"
   },
   "source": [
    "['False', 'None', 'True', 'and', 'as', 'assert', 'break', 'class', 'continue', 'def', 'del', 'elif', 'else', 'except', 'finally', 'for', 'from', 'global', 'if', 'import', 'in', 'is', 'lambda', 'nonlocal', 'not', 'or', 'pass', 'raise', 'return', 'try', 'while', 'with', 'yield']"
   ]
  },
  {
   "cell_type": "markdown",
   "id": "94794cd2",
   "metadata": {
    "id": "94794cd2"
   },
   "source": [
    "Типы данных\n",
    "1. None (неопределенное значение переменной)\n",
    "2. Логические переменные (Boolean Type)\n",
    "3. Числа (Numeric Type)\n",
    "    1. int – целое число\n",
    "    2. float – число с плавающей точкой\n",
    "    3. complex – комплексное число\n",
    "4. Списки (Sequence Type)\n",
    "    1. list – список\n",
    "    2. tuple – кортеж\n",
    "    3. range – диапазон\n",
    "5. Строки (Text Sequence Type )"
   ]
  },
  {
   "cell_type": "markdown",
   "id": "38466176",
   "metadata": {},
   "source": [
    "### сложите 4 и 8, результат поделите на 5, далее умножьте полученное значение на 12 и найдите остаток от деления этого числа и 2"
   ]
  },
  {
   "cell_type": "code",
   "execution_count": 2,
   "id": "738a5a7e",
   "metadata": {
    "colab": {
     "base_uri": "https://localhost:8080/"
    },
    "executionInfo": {
     "elapsed": 618,
     "status": "ok",
     "timestamp": 1666352807780,
     "user": {
      "displayName": "P.",
      "userId": "12005952613598158384"
     },
     "user_tz": -180
    },
    "id": "738a5a7e",
    "outputId": "e0972f6f-2c8b-4e3e-8613-94c60487574e"
   },
   "outputs": [
    {
     "name": "stdout",
     "output_type": "stream",
     "text": [
      "0.7999999999999972\n"
     ]
    }
   ],
   "source": [
    "print((4 + 8) / 5 * 12 % 2)"
   ]
  },
  {
   "cell_type": "markdown",
   "id": "ff042a93",
   "metadata": {
    "id": "ff042a93"
   },
   "source": [
    "# Строки"
   ]
  },
  {
   "cell_type": "markdown",
   "id": "c0cd2363",
   "metadata": {},
   "source": [
    "сложите две строки \"123\" и \"456\""
   ]
  },
  {
   "cell_type": "code",
   "execution_count": 3,
   "id": "812159e1",
   "metadata": {
    "colab": {
     "base_uri": "https://localhost:8080/",
     "height": 36
    },
    "executionInfo": {
     "elapsed": 306,
     "status": "ok",
     "timestamp": 1666352868514,
     "user": {
      "displayName": "P.",
      "userId": "12005952613598158384"
     },
     "user_tz": -180
    },
    "id": "812159e1",
    "outputId": "e0d33292-9902-4490-df38-9488be7e2ceb",
    "scrolled": true
   },
   "outputs": [
    {
     "name": "stdout",
     "output_type": "stream",
     "text": [
      "123456\n"
     ]
    }
   ],
   "source": [
    "print('123' + '456')"
   ]
  },
  {
   "cell_type": "markdown",
   "id": "f49fb415",
   "metadata": {},
   "source": [
    "### Посмотрите на выражения и определите True или False\n",
    "\n",
    "\"230\" > \"23\", \"23\" < \"1\", \"23\" == \"12\", \"230\" < \"231\", \"abcd\" > \"abce\", \"abc\" < \"ab1\""
   ]
  },
  {
   "cell_type": "code",
   "execution_count": 4,
   "id": "ebbfdbc4",
   "metadata": {
    "scrolled": true
   },
   "outputs": [
    {
     "name": "stdout",
     "output_type": "stream",
     "text": [
      "True\n"
     ]
    }
   ],
   "source": [
    "\"230\" > \"23\" True, \n",
    "'23' < '1' False,\n",
    "'23' == '12' False\n",
    "'230' < '231' True\n",
    "'abcd' > 'abce' False"
   ]
  },
  {
   "cell_type": "markdown",
   "id": "661d26ad",
   "metadata": {},
   "source": [
    "### В строке \"SoMeTeXT\" сделайте все буквы большими"
   ]
  },
  {
   "cell_type": "code",
   "execution_count": 8,
   "id": "628cf769",
   "metadata": {
    "colab": {
     "base_uri": "https://localhost:8080/",
     "height": 36
    },
    "executionInfo": {
     "elapsed": 10,
     "status": "ok",
     "timestamp": 1666353215741,
     "user": {
      "displayName": "P.",
      "userId": "12005952613598158384"
     },
     "user_tz": -180
    },
    "id": "628cf769",
    "outputId": "8ac9ee22-abb1-4184-80d4-25924e8eaf85"
   },
   "outputs": [
    {
     "name": "stdout",
     "output_type": "stream",
     "text": [
      "SOMETEXT\n"
     ]
    }
   ],
   "source": [
    "txt = 'SoMeTeXT'\n",
    "print(txt.upper())"
   ]
  },
  {
   "cell_type": "markdown",
   "id": "ee43f2ce",
   "metadata": {
    "id": "324f89d3"
   },
   "source": [
    "### True или False получится в следующих выражениях?\n",
    "\n",
    "5 == 5.0, 0.1 + 0.1 + 0.1 == 0.3, True == 1, False != 0, True >= False"
   ]
  },
  {
   "cell_type": "code",
   "execution_count": null,
   "id": "845a80ee",
   "metadata": {
    "colab": {
     "base_uri": "https://localhost:8080/"
    },
    "executionInfo": {
     "elapsed": 447,
     "status": "ok",
     "timestamp": 1666353460404,
     "user": {
      "displayName": "P.",
      "userId": "12005952613598158384"
     },
     "user_tz": -180
    },
    "id": "845a80ee",
    "outputId": "e10377d5-a9c8-4685-deee-972d5655683c"
   },
   "outputs": [],
   "source": [
    "5 == 5.0,True\n",
    "0.1 + 0.1 + 0.1 == 0.3 True\n",
    "True == 1 True\n",
    "False != 0 False\n",
    "True >= False True"
   ]
  },
  {
   "cell_type": "markdown",
   "id": "47de766b",
   "metadata": {
    "colab": {
     "base_uri": "https://localhost:8080/"
    },
    "executionInfo": {
     "elapsed": 813,
     "status": "ok",
     "timestamp": 1666353674481,
     "user": {
      "displayName": "P.",
      "userId": "12005952613598158384"
     },
     "user_tz": -180
    },
    "id": "e2f7fa1f",
    "outputId": "d3347cfb-2927-4004-de0a-7447e4800349"
   },
   "source": [
    "### С помощью встроенных функций переведите число 3 в float, 3.5 в int, True в int, True в str, 34 в str, 1 в bool"
   ]
  },
  {
   "cell_type": "code",
   "execution_count": 18,
   "id": "1b97498a",
   "metadata": {},
   "outputs": [
    {
     "name": "stdout",
     "output_type": "stream",
     "text": [
      "3.0 <class 'float'>\n",
      "3 <class 'int'>\n",
      "1 <class 'int'>\n",
      "True <class 'str'>\n",
      "34 <class 'str'>\n",
      "True <class 'bool'>\n"
     ]
    }
   ],
   "source": [
    "print(float(3), type(float(3)))\n",
    "print(int(3.5), type(int(3.5)))\n",
    "print(int(True), type(int(True)))\n",
    "print(str(True), type(str(True)))\n",
    "print(str('34'), type(str('34')))\n",
    "print(bool(1), type(bool(1)))"
   ]
  },
  {
   "cell_type": "markdown",
   "id": "909019a8",
   "metadata": {
    "id": "909019a8"
   },
   "source": [
    "# Переменные"
   ]
  },
  {
   "cell_type": "markdown",
   "id": "023facb1",
   "metadata": {
    "colab": {
     "base_uri": "https://localhost:8080/"
    },
    "executionInfo": {
     "elapsed": 309,
     "status": "ok",
     "timestamp": 1666353779137,
     "user": {
      "displayName": "P.",
      "userId": "12005952613598158384"
     },
     "user_tz": -180
    },
    "id": "3e7621bc",
    "outputId": "3f52fb63-c0ed-4a9b-e3f9-02aed31e8b46"
   },
   "source": [
    "### присвоение переменной к значению происходит через =. И задайте переменную x равной True. Выведите перменную с помощью функции print"
   ]
  },
  {
   "cell_type": "code",
   "execution_count": 20,
   "id": "2ce6cfa3",
   "metadata": {},
   "outputs": [
    {
     "name": "stdout",
     "output_type": "stream",
     "text": [
      "True\n"
     ]
    }
   ],
   "source": [
    "x = True\n",
    "print(x)\n"
   ]
  },
  {
   "cell_type": "markdown",
   "id": "292b2d85",
   "metadata": {
    "id": "e49a4cbf"
   },
   "source": [
    "### Задайте переменную y равной False, сравните два значения, чтобы получить True"
   ]
  },
  {
   "cell_type": "code",
   "execution_count": 21,
   "id": "1ffb11d9",
   "metadata": {
    "colab": {
     "base_uri": "https://localhost:8080/"
    },
    "executionInfo": {
     "elapsed": 274,
     "status": "ok",
     "timestamp": 1666353890402,
     "user": {
      "displayName": "P.",
      "userId": "12005952613598158384"
     },
     "user_tz": -180
    },
    "id": "1ffb11d9",
    "outputId": "e9d061a2-e9f6-4eb2-add9-45afd79e4330"
   },
   "outputs": [
    {
     "name": "stdout",
     "output_type": "stream",
     "text": [
      "True\n"
     ]
    }
   ],
   "source": [
    "y = False\n",
    "print(y != True)"
   ]
  },
  {
   "cell_type": "markdown",
   "id": "b6d791e3",
   "metadata": {
    "colab": {
     "base_uri": "https://localhost:8080/"
    },
    "executionInfo": {
     "elapsed": 405,
     "status": "ok",
     "timestamp": 1666353980539,
     "user": {
      "displayName": "P.",
      "userId": "12005952613598158384"
     },
     "user_tz": -180
    },
    "id": "bb8598c5",
    "outputId": "1d59cebc-d299-42c5-9cc9-119b77981f78"
   },
   "source": [
    "### В одну строку присвойте переменным x, y, z произвольные значения с разными типами данных"
   ]
  },
  {
   "cell_type": "code",
   "execution_count": 25,
   "id": "07dff805",
   "metadata": {},
   "outputs": [
    {
     "name": "stdout",
     "output_type": "stream",
     "text": [
      "<class 'float'> <class 'str'> <class 'bool'>\n"
     ]
    }
   ],
   "source": [
    "x, y, z = 3.5, 'str', True\n",
    "print(type(x), type(y), type(z))"
   ]
  },
  {
   "cell_type": "markdown",
   "id": "6ae2c369",
   "metadata": {
    "id": "6ae2c369"
   },
   "source": [
    "# Условия if, elif, else"
   ]
  },
  {
   "cell_type": "markdown",
   "id": "d14e0440",
   "metadata": {},
   "source": [
    "### Напишите программу, которая сравнивает две перменные x и y. Если значения x больше, вывести \"Первая переменная больше\", если y больше - \"Вторая переменная больше\", если значения равны - \"Переменные равны\""
   ]
  },
  {
   "cell_type": "code",
   "execution_count": 38,
   "id": "b28ee99b",
   "metadata": {
    "colab": {
     "base_uri": "https://localhost:8080/"
    },
    "executionInfo": {
     "elapsed": 293,
     "status": "ok",
     "timestamp": 1666354159950,
     "user": {
      "displayName": "P.",
      "userId": "12005952613598158384"
     },
     "user_tz": -180
    },
    "id": "b28ee99b",
    "outputId": "d8b88095-fd78-45d9-af74-e3bacbeb6ad3",
    "scrolled": true
   },
   "outputs": [
    {
     "name": "stdout",
     "output_type": "stream",
     "text": [
      "Введите x: 3\n",
      "Введите y: 3\n",
      "3 3\n",
      "Переменные равны\n"
     ]
    }
   ],
   "source": [
    "x = input('Введите x: ')\n",
    "y = input('Введите y: ')\n",
    "print(x, y)\n",
    "\n",
    "if x > y:\n",
    "    print('Первая перeменная больше: ', x)\n",
    "elif x < y:\n",
    "    print('Вторая переменная больше: ', y)\n",
    "else:\n",
    "    print('Переменные равны')"
   ]
  },
  {
   "cell_type": "markdown",
   "id": "1c90a45b",
   "metadata": {},
   "source": [
    "### Дано 3 числа (10, 21, 6). Найти минимальное среди них и вывести на экран"
   ]
  },
  {
   "cell_type": "code",
   "execution_count": 39,
   "id": "fd4cdf9b",
   "metadata": {
    "colab": {
     "base_uri": "https://localhost:8080/"
    },
    "executionInfo": {
     "elapsed": 719,
     "status": "ok",
     "timestamp": 1666355721614,
     "user": {
      "displayName": "P.",
      "userId": "12005952613598158384"
     },
     "user_tz": -180
    },
    "id": "fd4cdf9b",
    "outputId": "8b9bcc1a-9712-4126-ae20-d367fe97d665"
   },
   "outputs": [
    {
     "name": "stdout",
     "output_type": "stream",
     "text": [
      "6\n"
     ]
    }
   ],
   "source": [
    "print(min(10, 21, 6))"
   ]
  },
  {
   "cell_type": "markdown",
   "id": "723fa913",
   "metadata": {},
   "source": [
    "### Создайте пустой список. Добавьте в список значения 3 и \"Конец списка\". Удалите второй элемент списка. Расширьте список другим списком [1, 4, 5, 6]. Отсортируйте список"
   ]
  },
  {
   "cell_type": "code",
   "execution_count": 49,
   "id": "3597f8e4",
   "metadata": {
    "colab": {
     "base_uri": "https://localhost:8080/"
    },
    "executionInfo": {
     "elapsed": 7,
     "status": "ok",
     "timestamp": 1666355898580,
     "user": {
      "displayName": "P.",
      "userId": "12005952613598158384"
     },
     "user_tz": -180
    },
    "id": "3597f8e4",
    "outputId": "a83fad2a-1681-4644-9a89-3f3df6540819"
   },
   "outputs": [
    {
     "name": "stdout",
     "output_type": "stream",
     "text": [
      "[3, 'Конец списка']\n",
      "[3]\n",
      "[1, 3, 4, 5, 6]\n"
     ]
    }
   ],
   "source": [
    "a = []\n",
    "b = [1, 4, 5, 6]\n",
    "\n",
    "a.append(3)\n",
    "a.append('Конец списка')\n",
    "print(a)\n",
    "\n",
    "del a[1]\n",
    "print(a)\n",
    "\n",
    "a = sorted(a + b)\n",
    "print(a)"
   ]
  },
  {
   "cell_type": "markdown",
   "id": "160e9760",
   "metadata": {
    "id": "160e9760"
   },
   "source": [
    "# Циклы"
   ]
  },
  {
   "cell_type": "markdown",
   "id": "46d6a31b",
   "metadata": {},
   "source": [
    "### напишите программу, которая в цикле проходит по списку [1,2,3,5,6,7,54,3,50,43,0,35,5342,3] и после первого нуля в списке выводит сумму предыдущих числе. Решите задачу двумя способами (новая переменная для суммы и суммой по срезу) для цикла for"
   ]
  },
  {
   "cell_type": "code",
   "execution_count": 58,
   "id": "4e6464ba",
   "metadata": {
    "colab": {
     "base_uri": "https://localhost:8080/"
    },
    "executionInfo": {
     "elapsed": 8,
     "status": "ok",
     "timestamp": 1666356213136,
     "user": {
      "displayName": "P.",
      "userId": "12005952613598158384"
     },
     "user_tz": -180
    },
    "id": "4e6464ba",
    "outputId": "de6e57a8-8dcc-4652-8863-4165832a3384"
   },
   "outputs": [
    {
     "name": "stdout",
     "output_type": "stream",
     "text": [
      "174\n"
     ]
    }
   ],
   "source": [
    "a = [1,2,3,5,6,7,54,3,50,43,0,35,5342,3]\n",
    "i = 0\n",
    "sum_number = 0\n",
    "for i, j in enumerate(a):\n",
    "    \n",
    "    if j != 0:\n",
    "        sum_number += j\n",
    "        i += 1\n",
    "\n",
    "    else:\n",
    "        print(sum_number)\n",
    "        break\n",
    "    "
   ]
  },
  {
   "cell_type": "code",
   "execution_count": 62,
   "id": "70f5ae9d",
   "metadata": {},
   "outputs": [
    {
     "name": "stdout",
     "output_type": "stream",
     "text": [
      "14\n",
      "174\n"
     ]
    }
   ],
   "source": [
    "a = [1,2,3,5,6,7,54,3,50,43,0,35,5342,3]\n",
    "i = 0\n",
    "sum_number = 0\n",
    "\n",
    "for i in range(len(a)):\n",
    "    if a[i] == 0:\n",
    "        print(sum(a[: i]))\n",
    "        "
   ]
  },
  {
   "cell_type": "markdown",
   "id": "31237c3a",
   "metadata": {},
   "source": [
    "### Дана строка \"Anoter Esome Text Efor example. I ehave no eideas for this\". Найдите количество слов, начинающихся с буквы \"e\""
   ]
  },
  {
   "cell_type": "code",
   "execution_count": 93,
   "id": "a0c47e4d",
   "metadata": {
    "colab": {
     "base_uri": "https://localhost:8080/"
    },
    "executionInfo": {
     "elapsed": 322,
     "status": "ok",
     "timestamp": 1666357528374,
     "user": {
      "displayName": "P.",
      "userId": "12005952613598158384"
     },
     "user_tz": -180
    },
    "id": "a0c47e4d",
    "outputId": "7c34dc7a-aaae-4d22-fa20-49d4038210dd",
    "scrolled": true
   },
   "outputs": [
    {
     "name": "stdout",
     "output_type": "stream",
     "text": [
      "3\n"
     ]
    }
   ],
   "source": [
    "a = 'Anoter Esome Text Efor example. I ehave no eideas for this'\n",
    "print(a.count(' e'))"
   ]
  },
  {
   "cell_type": "markdown",
   "id": "5603badf",
   "metadata": {},
   "source": [
    "### Закодируйте строку. s = 'AttTggGGggGGCCcCAaTtTtTTGG' преобразуется в 'A1T3G8C4A2T6G2', то есть группы одинаковых символов исходной строки заменяются на этот символ и количество его повторений в этой позиции строки"
   ]
  },
  {
   "cell_type": "code",
   "execution_count": 80,
   "id": "dd9ebf4e",
   "metadata": {
    "colab": {
     "base_uri": "https://localhost:8080/",
     "height": 36
    },
    "executionInfo": {
     "elapsed": 488,
     "status": "ok",
     "timestamp": 1666375711225,
     "user": {
      "displayName": "P.",
      "userId": "12005952613598158384"
     },
     "user_tz": -180
    },
    "id": "dd9ebf4e",
    "outputId": "5735310b-868a-4e60-cce5-f85006a3e64f"
   },
   "outputs": [
    {
     "name": "stdout",
     "output_type": "stream",
     "text": [
      "A1t2T1g2G2g2G2C2c1C1A1a1T1t1T1t1T2G2\n"
     ]
    }
   ],
   "source": [
    "s = 'AttTggGGggGGCCcCAaTtTtTTGG'\n",
    "encoded_string = \"\"\n",
    "count = 1\n",
    "\n",
    "for i in range(len(s)-1):\n",
    "    if s[i] == s[i+1]:\n",
    "        count += 1\n",
    "    else:\n",
    "        encoded_string += s[i] + str(count)\n",
    "        count = 1\n",
    "\n",
    "encoded_string += s[-1] + str(count)\n",
    "print(encoded_string)"
   ]
  },
  {
   "cell_type": "markdown",
   "id": "c9546048",
   "metadata": {},
   "source": [
    "### Используя list comprehension, создайте список от 1 до 10"
   ]
  },
  {
   "cell_type": "code",
   "execution_count": 100,
   "id": "581ff651",
   "metadata": {
    "colab": {
     "base_uri": "https://localhost:8080/"
    },
    "executionInfo": {
     "elapsed": 293,
     "status": "ok",
     "timestamp": 1666359544890,
     "user": {
      "displayName": "P.",
      "userId": "12005952613598158384"
     },
     "user_tz": -180
    },
    "id": "581ff651",
    "outputId": "21db1807-5639-4bc3-ea84-6de3d8c50a57"
   },
   "outputs": [
    {
     "name": "stdout",
     "output_type": "stream",
     "text": [
      "[0, 1, 2, 3, 4, 5, 6, 7, 8, 9, 10]\n"
     ]
    }
   ],
   "source": [
    "a = [x for x in range(11)]\n",
    "print(a)"
   ]
  },
  {
   "cell_type": "markdown",
   "id": "56804115",
   "metadata": {},
   "source": [
    "### Заполните список числами range(11), где каждое последующее число больше на 2. Начать с 1"
   ]
  },
  {
   "cell_type": "code",
   "execution_count": 89,
   "id": "ab0f7708",
   "metadata": {
    "colab": {
     "base_uri": "https://localhost:8080/"
    },
    "executionInfo": {
     "elapsed": 881,
     "status": "ok",
     "timestamp": 1666379340808,
     "user": {
      "displayName": "P.",
      "userId": "12005952613598158384"
     },
     "user_tz": -180
    },
    "id": "ab0f7708",
    "outputId": "077381fe-814d-4914-a56f-002c316cc09f",
    "scrolled": true
   },
   "outputs": [
    {
     "name": "stdout",
     "output_type": "stream",
     "text": [
      "[1, 3, 5, 7, 9, 11]\n"
     ]
    }
   ],
   "source": [
    "a = [x + 2 for x in range(-1, 11, 2)  ]\n",
    "print(a)"
   ]
  },
  {
   "cell_type": "markdown",
   "id": "9b8dde7f",
   "metadata": {},
   "source": [
    "### Найдите две самые большие цифры и выведите их на экран. t = [100, 98, 1000, 2500, 299, 1898, 1989, 2001, 50, 10, 70]"
   ]
  },
  {
   "cell_type": "code",
   "execution_count": 91,
   "id": "cd415c05",
   "metadata": {
    "colab": {
     "base_uri": "https://localhost:8080/"
    },
    "executionInfo": {
     "elapsed": 522,
     "status": "ok",
     "timestamp": 1666379764133,
     "user": {
      "displayName": "P.",
      "userId": "12005952613598158384"
     },
     "user_tz": -180
    },
    "id": "cd415c05",
    "outputId": "1d72fe65-645b-4216-9932-27f2b3689089"
   },
   "outputs": [
    {
     "name": "stdout",
     "output_type": "stream",
     "text": [
      "2500\n",
      "2001\n"
     ]
    }
   ],
   "source": [
    "t = [100, 98, 1000, 2500, 299, 1898, 1989, 2001, 50, 10, 70]\n",
    "print(max(t))\n",
    "t.remove(max(t))\n",
    "print(max(t))"
   ]
  }
 ],
 "metadata": {
  "celltoolbar": "Отсутствует",
  "colab": {
   "collapsed_sections": [
    "c9f1cf15"
   ],
   "provenance": []
  },
  "kernelspec": {
   "display_name": "Python 3 (ipykernel)",
   "language": "python",
   "name": "python3"
  },
  "language_info": {
   "codemirror_mode": {
    "name": "ipython",
    "version": 3
   },
   "file_extension": ".py",
   "mimetype": "text/x-python",
   "name": "python",
   "nbconvert_exporter": "python",
   "pygments_lexer": "ipython3",
   "version": "3.9.12"
  },
  "toc": {
   "base_numbering": 1,
   "nav_menu": {},
   "number_sections": true,
   "sideBar": true,
   "skip_h1_title": false,
   "title_cell": "Table of Contents",
   "title_sidebar": "Contents",
   "toc_cell": false,
   "toc_position": {},
   "toc_section_display": true,
   "toc_window_display": false
  }
 },
 "nbformat": 4,
 "nbformat_minor": 5
}
