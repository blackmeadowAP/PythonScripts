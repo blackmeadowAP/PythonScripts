{
  "cells": [
    {
      "cell_type": "markdown",
      "metadata": {
        "id": "view-in-github",
        "colab_type": "text"
      },
      "source": [
        "<a href=\"https://colab.research.google.com/github/blackmeadowAP/PythonScripts/blob/main/trainMnist.ipynb\" target=\"_parent\"><img src=\"https://colab.research.google.com/assets/colab-badge.svg\" alt=\"Open In Colab\"/></a>"
      ]
    },
    {
      "cell_type": "code",
      "execution_count": 2,
      "metadata": {
        "colab": {
          "base_uri": "https://localhost:8080/"
        },
        "id": "w4pthIfM1sJJ",
        "outputId": "78a29417-b375-4b73-bdb2-2e986196c8b7"
      },
      "outputs": [
        {
          "output_type": "stream",
          "name": "stdout",
          "text": [
            "Drive already mounted at /content/drive; to attempt to forcibly remount, call drive.mount(\"/content/drive\", force_remount=True).\n"
          ]
        }
      ],
      "source": [
        "import zipfile\n",
        "import os\n",
        "import time\n",
        "import shutil\n",
        "from google.colab import drive\n",
        "from PIL import Image\n",
        "\n",
        "import tensorflow as tf\n",
        "#import tensorflow_datasets as tfds\n",
        "from keras.utils.vis_utils import plot_model\n",
        "import numpy as np\n",
        "\n",
        "import pandas as pd\n",
        "import matplotlib.pyplot as plt\n",
        "import inspect\n",
        "from tqdm import tqdm\n",
        "drive.mount('/content/drive')"
      ]
    },
    {
      "cell_type": "code",
      "source": [
        "print(os.getcwd())\n",
        "os.chdir('/content/drive/MyDrive/Classification/mnist')\n",
        "print(os.getcwd())"
      ],
      "metadata": {
        "colab": {
          "base_uri": "https://localhost:8080/"
        },
        "id": "d0b6pZMXNes4",
        "outputId": "66b5402e-f28b-4ecc-f4f9-16d0a535d933"
      },
      "execution_count": 3,
      "outputs": [
        {
          "output_type": "stream",
          "name": "stdout",
          "text": [
            "/content\n",
            "/content/drive/MyDrive/Classification/mnist\n"
          ]
        }
      ]
    },
    {
      "cell_type": "code",
      "execution_count": null,
      "metadata": {
        "id": "d3FJVP92axrh"
      },
      "outputs": [],
      "source": [
        "#распаковка архивов с датасетами\n",
        "shutil.unpack_archive('/content/drive/MyDrive/Classification/mnist/IMG/train/0/0 train.zip', '/content/drive/MyDrive/Classification/mnist/IMG/train/0')\n",
        "shutil.unpack_archive('/content/drive/MyDrive/Classification/mnist/IMG/train/1/1 train.zip', '/content/drive/MyDrive/Classification/mnist/IMG/train/1')\n",
        "shutil.unpack_archive('/content/drive/MyDrive/Classification/mnist/IMG/test/0/0 test.zip', '/content/drive/MyDrive/Classification/mnist/IMG/test/0')\n",
        "shutil.unpack_archive('/content/drive/MyDrive/Classification/mnist/IMG/test/1/1 test.zip', '/content/drive/MyDrive/Classification/mnist/IMG/test/1')"
      ]
    },
    {
      "cell_type": "code",
      "execution_count": 4,
      "metadata": {
        "colab": {
          "base_uri": "https://localhost:8080/"
        },
        "id": "pOP2qvE6aTx6",
        "outputId": "b20d29ba-26d7-4750-c199-adb6ada3af89"
      },
      "outputs": [
        {
          "output_type": "stream",
          "name": "stdout",
          "text": [
            "Found 2330 files belonging to 2 classes.\n",
            "Found 967 files belonging to 2 classes.\n",
            "19\n",
            "Epoch 1/10\n",
            "19/19 - 752s - loss: 0.1423 - accuracy: 0.9412 - val_loss: 0.1615 - val_accuracy: 0.9990 - 752s/epoch - 40s/step\n",
            "Epoch 2/10\n",
            "19/19 - 13s - loss: 0.0151 - accuracy: 0.9961 - val_loss: 0.1018 - val_accuracy: 1.0000 - 13s/epoch - 683ms/step\n",
            "Epoch 3/10\n",
            "19/19 - 13s - loss: 0.0109 - accuracy: 0.9970 - val_loss: 0.0774 - val_accuracy: 1.0000 - 13s/epoch - 663ms/step\n",
            "Epoch 4/10\n",
            "19/19 - 12s - loss: 0.0088 - accuracy: 0.9966 - val_loss: 0.0599 - val_accuracy: 1.0000 - 12s/epoch - 627ms/step\n",
            "Epoch 5/10\n",
            "19/19 - 12s - loss: 0.0064 - accuracy: 0.9970 - val_loss: 0.0483 - val_accuracy: 1.0000 - 12s/epoch - 607ms/step\n",
            "Epoch 6/10\n",
            "19/19 - 14s - loss: 0.0047 - accuracy: 0.9991 - val_loss: 0.0387 - val_accuracy: 1.0000 - 14s/epoch - 735ms/step\n",
            "Epoch 7/10\n",
            "19/19 - 12s - loss: 0.0043 - accuracy: 0.9983 - val_loss: 0.0300 - val_accuracy: 1.0000 - 12s/epoch - 621ms/step\n",
            "Epoch 8/10\n",
            "19/19 - 13s - loss: 0.0070 - accuracy: 0.9987 - val_loss: 0.0219 - val_accuracy: 1.0000 - 13s/epoch - 684ms/step\n",
            "Epoch 9/10\n",
            "19/19 - 11s - loss: 0.0038 - accuracy: 0.9987 - val_loss: 0.0162 - val_accuracy: 1.0000 - 11s/epoch - 596ms/step\n",
            "Epoch 10/10\n",
            "19/19 - 14s - loss: 0.0077 - accuracy: 0.9974 - val_loss: 0.0127 - val_accuracy: 0.9979 - 14s/epoch - 718ms/step\n"
          ]
        }
      ],
      "source": [
        "batch_size = 128\n",
        "image_size = (256, 256)\n",
        "num_classes = 2\n",
        "\n",
        "image_tr = os.path.join(\"IMG\",\"train\")\n",
        "image_val = os.path.join(\"IMG\",\"test\")\n",
        "\n",
        "train_ds = tf.keras.preprocessing.image_dataset_from_directory(\n",
        "    image_tr,\n",
        "    seed=1337,\n",
        "    image_size=image_size,\n",
        "    batch_size=batch_size\n",
        ")\n",
        "val_ds = tf.keras.preprocessing.image_dataset_from_directory(\n",
        "    image_val,\n",
        "    seed=1337,\n",
        "    image_size=image_size,\n",
        "    batch_size=batch_size\n",
        ")\n",
        "\n",
        "num_iterations = int(len(train_ds.file_paths)/batch_size) + 1\n",
        "\n",
        "\n",
        "train_ds = train_ds.map(lambda image, label: (tf.image.resize(image, image_size), label))\n",
        "val_ds = val_ds.map(lambda image, label: (tf.image.resize(image, image_size), label))\n",
        "\n",
        "print(len(train_ds))\n",
        "\n",
        "img_augmentation = tf.keras.models.Sequential(\n",
        "    [\n",
        "        tf.keras.layers.RandomRotation(factor=0.15),\n",
        "        tf.keras.layers.RandomTranslation(height_factor=0.1, width_factor=0.1),\n",
        "        tf.keras.layers.RandomFlip(),\n",
        "        tf.keras.layers.RandomContrast(factor=0.1),\n",
        "\n",
        "    ],\n",
        "    name=\"img_augmentation\",\n",
        ")\n",
        "\n",
        "\n",
        "def input_preprocess(image, label):\n",
        "    label = tf.one_hot(label, num_classes)\n",
        "    return image, label\n",
        "\n",
        "\n",
        "train_ds = train_ds.map(\n",
        "    input_preprocess, num_parallel_calls=tf.data.AUTOTUNE\n",
        ")\n",
        "train_ds = train_ds.prefetch(tf.data.AUTOTUNE)\n",
        "\n",
        "val_ds = val_ds.map(input_preprocess)\n",
        "\n",
        "\n",
        "inputs = tf.keras.layers.Input(shape=(image_size[0], image_size[1], 3))\n",
        "x = img_augmentation(inputs)\n",
        "\n",
        "model = tf.keras.applications.EfficientNetB0(include_top=False, input_tensor=x, weights=\"noisy.student.notop-b0.h5\", classes=num_classes)\n",
        "#model = tf.keras.applications.EfficientNetB0(include_top=False, input_tensor=x, classes=num_classes)\n",
        "\n",
        "# Freeze the pretrained weights\n",
        "model.trainable = False\n",
        "\n",
        "# Rebuild top\n",
        "x = tf.keras.layers.GlobalAveragePooling2D(name=\"avg_pool\")(model.output)\n",
        "x = tf.keras.layers.BatchNormalization()(x)\n",
        "\n",
        "top_dropout_rate = 0.6\n",
        "x = tf.keras.layers.Dropout(top_dropout_rate, name=\"top_dropout\")(x)\n",
        "outputs = tf.keras.layers.Dense(num_classes, activation=\"softmax\", name=\"pred\")(x)\n",
        "\n",
        "model = tf.keras.Model(inputs, outputs, name=\"EfficientNet\")\n",
        "\n",
        "#plot_model(model, to_file='model_plot.png', show_shapes=True, show_layer_names=True)\n",
        "#print(model.summary())\n",
        "\n",
        "learning_rate = 1e-4\n",
        "\n",
        "def unfreeze_model(model):\n",
        "    # We unfreeze the top 20 layers while leaving BatchNorm layers frozen\n",
        "    for layer in model.layers[-20:]:\n",
        "        if not isinstance(layer, tf.keras.layers.BatchNormalization):\n",
        "            layer.trainable = True\n",
        "\n",
        "    #learning_rate = 1e-4\n",
        "    optimizer = tf.keras.optimizers.Adam(learning_rate)\n",
        "    model.compile(\n",
        "        optimizer=optimizer, loss=\"categorical_crossentropy\", metrics=[\"accuracy\"]\n",
        "    )\n",
        "\n",
        "\n",
        "unfreeze_model(model)\n",
        "\n",
        "epochs = 10\n",
        "hist = model.fit(train_ds, epochs=epochs, validation_data=val_ds, verbose=2, batch_size=batch_size)\n",
        "\n",
        "\n",
        "model.save(f'E:{epochs}_LR:{learning_rate}_B:{batch_size}.h5')"
      ]
    },
    {
      "cell_type": "code",
      "source": [
        "def plot_hist(hist):\n",
        "    plt.plot(hist.history[\"accuracy\"])\n",
        "    plt.plot(hist.history[\"val_accuracy\"])\n",
        "    plt.title(\"model accuracy\")\n",
        "    plt.ylabel(\"accuracy\")\n",
        "    plt.xlabel(\"epoch\")\n",
        "    plt.xticks(np.arange(epochs))\n",
        "    plt.legend([\"train\", \"validation\"], loc=\"upper left\")\n",
        "    plt.show()\n",
        "\n",
        "\n",
        "plot_hist(hist)"
      ],
      "metadata": {
        "id": "UeBVmR7XZLWc",
        "colab": {
          "base_uri": "https://localhost:8080/",
          "height": 472
        },
        "outputId": "edc96976-0243-47f5-bbdc-aaaed80d9ec4"
      },
      "execution_count": 17,
      "outputs": [
        {
          "output_type": "display_data",
          "data": {
            "text/plain": [
              "<Figure size 640x480 with 1 Axes>"
            ],
            "image/png": "[encoded data removed]"
          },
          "metadata": {}
        }
      ]
    },
    {
      "cell_type": "code",
      "execution_count": null,
      "metadata": {
        "id": "33HSCi3BaPtG"
      },
      "outputs": [],
      "source": []
    }
  ],
  "metadata": {
    "colab": {
      "provenance": [],
      "mount_file_id": "16Ucpl52Rm9-sbFxfBqO_UcH4rdsWpk3O",
      "authorship_tag": "ABX9TyMVgW3rfyzaQqX9XxZRBP2L",
      "include_colab_link": true
    },
    "kernelspec": {
      "display_name": "Python 3",
      "name": "python3"
    },
    "language_info": {
      "name": "python"
    }
  },
  "nbformat": 4,
  "nbformat_minor": 0
}