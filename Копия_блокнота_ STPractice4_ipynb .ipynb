{
  "cells": [
    {
      "cell_type": "code",
      "execution_count": null,
      "id": "171b4c8e",
      "metadata": {
        "id": "171b4c8e"
      },
      "outputs": [],
      "source": [
        "import pandas as pd\n",
        "import numpy as np\n",
        "from sklearn.datasets import load_breast_cancer\n",
        "import matplotlib.pyplot as plt\n",
        "\n",
        "\n",
        "import warnings\n",
        "warnings.filterwarnings('ignore')\n",
        "\n",
        "data = load_breast_cancer()"
      ]
    },
    {
      "cell_type": "code",
      "source": [
        "dataframe = []\n",
        "type(data)\n",
        "df_cancer = pd.DataFrame(data=data.data, columns=data.feature_names)\n",
        "df_cancer.head()\n",
        "\n",
        "train_split = 0.7\n",
        "lenght = int(len(df_cancer) * train_split)\n",
        "\n",
        "train = df_cancer.iloc[:lenght]\n",
        "test = df_cancer.iloc[lenght:]\n",
        "print(train)\n",
        "print(test)\n"
      ],
      "metadata": {
        "colab": {
          "base_uri": "https://localhost:8080/"
        },
        "id": "Y7mQfIJq7AAk",
        "outputId": "46a52713-9bb2-4763-a1f9-7d771ca23b5f"
      },
      "id": "Y7mQfIJq7AAk",
      "execution_count": null,
      "outputs": [
        {
          "output_type": "stream",
          "name": "stdout",
          "text": [
            "     mean radius  mean texture  mean perimeter  mean area  mean smoothness  \\\n",
            "0          17.99         10.38          122.80     1001.0          0.11840   \n",
            "1          20.57         17.77          132.90     1326.0          0.08474   \n",
            "2          19.69         21.25          130.00     1203.0          0.10960   \n",
            "3          11.42         20.38           77.58      386.1          0.14250   \n",
            "4          20.29         14.34          135.10     1297.0          0.10030   \n",
            "..           ...           ...             ...        ...              ...   \n",
            "393        21.61         22.28          144.40     1407.0          0.11670   \n",
            "394        12.10         17.72           78.07      446.2          0.10290   \n",
            "395        14.06         17.18           89.75      609.1          0.08045   \n",
            "396        13.51         18.89           88.10      558.1          0.10590   \n",
            "397        12.80         17.46           83.05      508.3          0.08044   \n",
            "\n",
            "     mean compactness  mean concavity  mean concave points  mean symmetry  \\\n",
            "0             0.27760         0.30010              0.14710         0.2419   \n",
            "1             0.07864         0.08690              0.07017         0.1812   \n",
            "2             0.15990         0.19740              0.12790         0.2069   \n",
            "3             0.28390         0.24140              0.10520         0.2597   \n",
            "4             0.13280         0.19800              0.10430         0.1809   \n",
            "..                ...             ...                  ...            ...   \n",
            "393           0.20870         0.28100              0.15620         0.2162   \n",
            "394           0.09758         0.04783              0.03326         0.1937   \n",
            "395           0.05361         0.02681              0.03251         0.1641   \n",
            "396           0.11470         0.08580              0.05381         0.1806   \n",
            "397           0.08895         0.07390              0.04083         0.1574   \n",
            "\n",
            "     mean fractal dimension  ...  worst radius  worst texture  \\\n",
            "0                   0.07871  ...         25.38          17.33   \n",
            "1                   0.05667  ...         24.99          23.41   \n",
            "2                   0.05999  ...         23.57          25.53   \n",
            "3                   0.09744  ...         14.91          26.50   \n",
            "4                   0.05883  ...         22.54          16.67   \n",
            "..                      ...  ...           ...            ...   \n",
            "393                 0.06606  ...         26.23          28.74   \n",
            "394                 0.06161  ...         13.56          25.80   \n",
            "395                 0.05764  ...         14.92          25.34   \n",
            "396                 0.06079  ...         14.80          27.20   \n",
            "397                 0.05750  ...         13.74          21.06   \n",
            "\n",
            "     worst perimeter  worst area  worst smoothness  worst compactness  \\\n",
            "0             184.60      2019.0           0.16220             0.6656   \n",
            "1             158.80      1956.0           0.12380             0.1866   \n",
            "2             152.50      1709.0           0.14440             0.4245   \n",
            "3              98.87       567.7           0.20980             0.8663   \n",
            "4             152.20      1575.0           0.13740             0.2050   \n",
            "..               ...         ...               ...                ...   \n",
            "393           172.00      2081.0           0.15020             0.5717   \n",
            "394            88.33       559.5           0.14320             0.1773   \n",
            "395            96.42       684.5           0.10660             0.1231   \n",
            "396            97.33       675.2           0.14280             0.2570   \n",
            "397            90.72       591.0           0.09534             0.1812   \n",
            "\n",
            "     worst concavity  worst concave points  worst symmetry  \\\n",
            "0             0.7119               0.26540          0.4601   \n",
            "1             0.2416               0.18600          0.2750   \n",
            "2             0.4504               0.24300          0.3613   \n",
            "3             0.6869               0.25750          0.6638   \n",
            "4             0.4000               0.16250          0.2364   \n",
            "..               ...                   ...             ...   \n",
            "393           0.7053               0.24220          0.3828   \n",
            "394           0.1603               0.06266          0.3049   \n",
            "395           0.0846               0.07911          0.2523   \n",
            "396           0.3438               0.14530          0.2666   \n",
            "397           0.1901               0.08296          0.1988   \n",
            "\n",
            "     worst fractal dimension  \n",
            "0                    0.11890  \n",
            "1                    0.08902  \n",
            "2                    0.08758  \n",
            "3                    0.17300  \n",
            "4                    0.07678  \n",
            "..                       ...  \n",
            "393                  0.10070  \n",
            "394                  0.07081  \n",
            "395                  0.06609  \n",
            "396                  0.07686  \n",
            "397                  0.07053  \n",
            "\n",
            "[398 rows x 30 columns]\n",
            "     mean radius  mean texture  mean perimeter  mean area  mean smoothness  \\\n",
            "398        11.06         14.83           70.31      378.2          0.07741   \n",
            "399        11.80         17.26           75.26      431.9          0.09087   \n",
            "400        17.91         21.02          124.40      994.0          0.12300   \n",
            "401        11.93         10.91           76.14      442.7          0.08872   \n",
            "402        12.96         18.29           84.18      525.2          0.07351   \n",
            "..           ...           ...             ...        ...              ...   \n",
            "564        21.56         22.39          142.00     1479.0          0.11100   \n",
            "565        20.13         28.25          131.20     1261.0          0.09780   \n",
            "566        16.60         28.08          108.30      858.1          0.08455   \n",
            "567        20.60         29.33          140.10     1265.0          0.11780   \n",
            "568         7.76         24.54           47.92      181.0          0.05263   \n",
            "\n",
            "     mean compactness  mean concavity  mean concave points  mean symmetry  \\\n",
            "398           0.04768         0.02712             0.007246         0.1535   \n",
            "399           0.06232         0.02853             0.016380         0.1847   \n",
            "400           0.25760         0.31890             0.119800         0.2113   \n",
            "401           0.05242         0.02606             0.017960         0.1601   \n",
            "402           0.07899         0.04057             0.018830         0.1874   \n",
            "..                ...             ...                  ...            ...   \n",
            "564           0.11590         0.24390             0.138900         0.1726   \n",
            "565           0.10340         0.14400             0.097910         0.1752   \n",
            "566           0.10230         0.09251             0.053020         0.1590   \n",
            "567           0.27700         0.35140             0.152000         0.2397   \n",
            "568           0.04362         0.00000             0.000000         0.1587   \n",
            "\n",
            "     mean fractal dimension  ...  worst radius  worst texture  \\\n",
            "398                 0.06214  ...        12.680          20.35   \n",
            "399                 0.06019  ...        13.450          24.49   \n",
            "400                 0.07115  ...        20.800          27.78   \n",
            "401                 0.05541  ...        13.800          20.14   \n",
            "402                 0.05899  ...        14.130          24.61   \n",
            "..                      ...  ...           ...            ...   \n",
            "564                 0.05623  ...        25.450          26.40   \n",
            "565                 0.05533  ...        23.690          38.25   \n",
            "566                 0.05648  ...        18.980          34.12   \n",
            "567                 0.07016  ...        25.740          39.42   \n",
            "568                 0.05884  ...         9.456          30.37   \n",
            "\n",
            "     worst perimeter  worst area  worst smoothness  worst compactness  \\\n",
            "398            80.79       496.7           0.11200            0.18790   \n",
            "399            86.00       562.0           0.12440            0.17260   \n",
            "400           149.60      1304.0           0.18730            0.59170   \n",
            "401            87.64       589.5           0.13740            0.15750   \n",
            "402            96.31       621.9           0.09329            0.23180   \n",
            "..               ...         ...               ...                ...   \n",
            "564           166.10      2027.0           0.14100            0.21130   \n",
            "565           155.00      1731.0           0.11660            0.19220   \n",
            "566           126.70      1124.0           0.11390            0.30940   \n",
            "567           184.60      1821.0           0.16500            0.86810   \n",
            "568            59.16       268.6           0.08996            0.06444   \n",
            "\n",
            "     worst concavity  worst concave points  worst symmetry  \\\n",
            "398           0.2079               0.05556          0.2590   \n",
            "399           0.1449               0.05356          0.2779   \n",
            "400           0.9034               0.19640          0.3245   \n",
            "401           0.1514               0.06876          0.2460   \n",
            "402           0.1604               0.06608          0.3207   \n",
            "..               ...                   ...             ...   \n",
            "564           0.4107               0.22160          0.2060   \n",
            "565           0.3215               0.16280          0.2572   \n",
            "566           0.3403               0.14180          0.2218   \n",
            "567           0.9387               0.26500          0.4087   \n",
            "568           0.0000               0.00000          0.2871   \n",
            "\n",
            "     worst fractal dimension  \n",
            "398                  0.09158  \n",
            "399                  0.08121  \n",
            "400                  0.11980  \n",
            "401                  0.07262  \n",
            "402                  0.07247  \n",
            "..                       ...  \n",
            "564                  0.07115  \n",
            "565                  0.06637  \n",
            "566                  0.07820  \n",
            "567                  0.12400  \n",
            "568                  0.07039  \n",
            "\n",
            "[171 rows x 30 columns]\n"
          ]
        }
      ]
    },
    {
      "cell_type": "code",
      "source": [
        "dataframe = []\n",
        "type(df_cancer)"
      ],
      "metadata": {
        "colab": {
          "base_uri": "https://localhost:8080/"
        },
        "id": "nlztfYGs_BVw",
        "outputId": "3f32b079-8140-42a2-9dac-827f9804cbbb"
      },
      "id": "nlztfYGs_BVw",
      "execution_count": null,
      "outputs": [
        {
          "output_type": "execute_result",
          "data": {
            "text/plain": [
              "sklearn.utils._bunch.Bunch"
            ]
          },
          "metadata": {},
          "execution_count": 23
        }
      ]
    },
    {
      "cell_type": "markdown",
      "id": "60c917d3",
      "metadata": {
        "id": "60c917d3"
      },
      "source": [
        "# Машинное обучение, метрики, сплит"
      ]
    },
    {
      "cell_type": "markdown",
      "id": "c5fcaa44",
      "metadata": {
        "id": "c5fcaa44"
      },
      "source": [
        "Машинное обучение - область знаний, которая изучает способность компьютера обучиться какой-либо задаче, не будучи явно запрограммированной. Машина должна на основе предыдущего опыта и полученных знаний решить схожую задачу. Например, просмотреть данные за последние 10 лет по выброрсам в атмосферу парниковых газов и спрогнозировать увеличение или уменьшение выбросов через 5 лет. По характеристикам организма предсказать предрасположенность к заболеванию"
      ]
    },
    {
      "cell_type": "markdown",
      "id": "19e62177",
      "metadata": {
        "id": "19e62177"
      },
      "source": [
        "Две основные характеристики, которые задаёт исследователь - данные и метод. С данными мы с вами научились работать. Убирали дубликаты, заполняли пропуски средним значением/медианой/модой. Научились искать визуально корреляции. Сегодня коснёмся именно подбора методов"
      ]
    },
    {
      "cell_type": "markdown",
      "id": "c13b5479",
      "metadata": {
        "id": "c13b5479"
      },
      "source": [
        "Помимо этих двух характеристик исследователь должен определить метрику, она также будет разная в зависимости от задачи"
      ]
    },
    {
      "cell_type": "markdown",
      "id": "9dfb6998",
      "metadata": {
        "id": "9dfb6998"
      },
      "source": [
        "Обучать будем нашу модель с учителем: каждый семпл будет иметь ответ. При таком подходе каждый датасет имеет фичи - параметры, которые имеет объект. И таргетная переменная - то, что мы хотим предсказать. Фичи обязательно должны быть подобраны таким образом, чтобы имели связь с таргетной переменной или хотя бы гипотетически могли на неё влиять"
      ]
    },
    {
      "cell_type": "markdown",
      "id": "bc9baa73",
      "metadata": {
        "id": "bc9baa73"
      },
      "source": [
        "Напомним себе основные задачи машинного обучения: классификация - предсказания категории/класса (болеет или не болеет), регрессия - предсказания вещественного числа (количество гормона в организме), кластеризация - предсказания группы/кластера (сбор объектов по схожим характеристикам - разбить гены по их активности в какой-то момент времени)"
      ]
    },
    {
      "cell_type": "markdown",
      "id": "df369642",
      "metadata": {
        "id": "df369642"
      },
      "source": [
        "Метрики служат для определения качества модели. Как оценить качество модели по метрики? Необходимо с чем-то сравнивать модель. Для этого сущесвтует стандартный метод Train-test split. Он заключается в разбиении вашего датасета на тренировочный (модель учится на нём) и тестовый (замерять качество). Цель данного метода проверить модель на данных, которые она ранее не видела, на которых не обучалась. Стандартное разделение - 70/30 или 80/20. При этом данные должны отбираться случайным образом"
      ]
    },
    {
      "cell_type": "markdown",
      "id": "eef6e0ec",
      "metadata": {
        "id": "eef6e0ec"
      },
      "source": [
        "## Разделите датасет на тренировочный и тестовый набор (70/30). Перемешивать не нужно"
      ]
    },
    {
      "cell_type": "code",
      "execution_count": null,
      "id": "d678a592",
      "metadata": {
        "id": "d678a592"
      },
      "outputs": [],
      "source": [
        "data_f = [1,0,1,2,4,6,4,2,4,6,7,8,4,3,4,6,6,3,4,8,0]\n",
        "data_t = [0,0,0,0,1,1,1,0,1,1,1,1,1,0,1,1,1,0,1,1,0]"
      ]
    },
    {
      "cell_type": "code",
      "execution_count": null,
      "id": "ca166a7e",
      "metadata": {
        "id": "ca166a7e"
      },
      "outputs": [],
      "source": [
        "# code"
      ]
    },
    {
      "cell_type": "code",
      "execution_count": null,
      "id": "46689551",
      "metadata": {
        "id": "46689551"
      },
      "outputs": [],
      "source": [
        "from sklearn.model_selection import train_test_split"
      ]
    },
    {
      "cell_type": "code",
      "execution_count": null,
      "id": "9c2d7c26",
      "metadata": {
        "colab": {
          "base_uri": "https://localhost:8080/"
        },
        "id": "9c2d7c26",
        "outputId": "042cb431-11cb-4aff-8398-0d4b2e60fba0"
      },
      "outputs": [
        {
          "output_type": "execute_result",
          "data": {
            "text/plain": [
              "([2, 4, 6, 3, 1, 6, 0, 4, 4, 2, 7, 4, 8, 4],\n",
              " [1, 3, 6, 0, 4, 6, 8],\n",
              " [0, 1, 1, 0, 0, 1, 0, 1, 1, 0, 1, 1, 1, 1],\n",
              " [0, 0, 1, 0, 1, 1, 1])"
            ]
          },
          "metadata": {},
          "execution_count": 4
        }
      ],
      "source": [
        "train_x, test_x, train_y, test_y = train_test_split(data_f, data_t, test_size=0.3, random_state=42)\n",
        "train_x, test_x, train_y, test_y"
      ]
    },
    {
      "cell_type": "markdown",
      "id": "68dadb75",
      "metadata": {
        "id": "68dadb75"
      },
      "source": [
        "Самый простой способ проверить модель - accuracy. Качество модели замеряется так: количество правильных прогнозов / количество всех прогнозов * 100"
      ]
    },
    {
      "cell_type": "markdown",
      "id": "02798dda",
      "metadata": {
        "id": "02798dda"
      },
      "source": [
        "## Рассчитайте accuracy для следующего примера:"
      ]
    },
    {
      "cell_type": "code",
      "execution_count": null,
      "id": "be7382f6",
      "metadata": {
        "id": "be7382f6",
        "colab": {
          "base_uri": "https://localhost:8080/"
        },
        "outputId": "cbca8415-2fd1-49ca-8b1d-30044d77ab0f"
      },
      "outputs": [
        {
          "output_type": "stream",
          "name": "stdout",
          "text": [
            "0.6666666666666666\n"
          ]
        }
      ],
      "source": [
        "true_l = [1,1,0,1,1,0]\n",
        "pred_l = [1,1,0,1,0,1]\n",
        "count = 0\n",
        "for i, el in enumerate(true_l):\n",
        "  if el == pred_l[i]:\n",
        "    count += 1\n",
        "\n",
        "acc = count / len(pred_l)\n",
        "print(acc)"
      ]
    },
    {
      "cell_type": "code",
      "execution_count": null,
      "id": "876bbe9e",
      "metadata": {
        "id": "876bbe9e"
      },
      "outputs": [],
      "source": [
        "# code"
      ]
    },
    {
      "cell_type": "code",
      "execution_count": null,
      "id": "62434f54",
      "metadata": {
        "id": "62434f54"
      },
      "outputs": [],
      "source": [
        "from sklearn.metrics import accuracy_score"
      ]
    },
    {
      "cell_type": "code",
      "execution_count": null,
      "id": "3f38adf0",
      "metadata": {
        "colab": {
          "base_uri": "https://localhost:8080/"
        },
        "id": "3f38adf0",
        "outputId": "bf2ea7b8-e50b-4e9c-9c28-6be7dc25d76b"
      },
      "outputs": [
        {
          "output_type": "execute_result",
          "data": {
            "text/plain": [
              "0.6666666666666666"
            ]
          },
          "metadata": {},
          "execution_count": 41
        }
      ],
      "source": [
        "accuracy_score(true_l, pred_l)"
      ]
    },
    {
      "cell_type": "markdown",
      "id": "c0894c4e",
      "metadata": {
        "id": "c0894c4e"
      },
      "source": [
        "Матрица ошибок - это таблица, которая позволяет визуализировать эффективность алгоритма классификации путем сравнения прогнозируемого значения целевой переменной с ее фактическим значением. Столбцы матрицы представляют наблюдения в прогнозируемом классе, а строки - наблюдения в фактическом классе\n",
        "\n",
        "![image-4.png](attachment:image-4.png)\n",
        "![image-5.png](attachment:image-5.png)\n",
        "![image-6.png](attachment:image-6.png)\n",
        "![image-7.png](attachment:image-7.png)"
      ]
    },
    {
      "cell_type": "markdown",
      "id": "b5ce46b5",
      "metadata": {
        "id": "b5ce46b5"
      },
      "source": [
        "## Рассчитайте confusion matrix для следующего примера:"
      ]
    },
    {
      "cell_type": "code",
      "execution_count": null,
      "id": "65025208",
      "metadata": {
        "id": "65025208"
      },
      "outputs": [],
      "source": [
        "true_l = [1,1,0,1,1,0]\n",
        "pred_l = [1,1,0,1,0,1]"
      ]
    },
    {
      "cell_type": "code",
      "execution_count": null,
      "id": "ec094856",
      "metadata": {
        "id": "ec094856",
        "colab": {
          "base_uri": "https://localhost:8080/"
        },
        "outputId": "047dc359-4347-4f72-84a8-334cf9fdf785"
      },
      "outputs": [
        {
          "output_type": "stream",
          "name": "stdout",
          "text": [
            "[3, 1]\n",
            "[1, 1]\n"
          ]
        }
      ],
      "source": [
        "# code\n",
        "count_TP = 0\n",
        "count_TN = 0\n",
        "count_FN = 0\n",
        "count_FT = 0\n",
        "\n",
        "for i, el in enumerate(pred_l):\n",
        "  if true_l[i] == el == 1:\n",
        "    count_TP += 1\n",
        "  elif true_l[i] > el:\n",
        "    count_FT += 1\n",
        "  elif true_l[i] < el:\n",
        "    count_FN += 1\n",
        "else:\n",
        "    count_TN += 1\n",
        "\n",
        "matrix = [[count_TP, count_FN],\n",
        "          [count_FT, count_TN]]\n",
        "\n",
        "for row in matrix:\n",
        "  print(row)"
      ]
    },
    {
      "cell_type": "code",
      "execution_count": null,
      "id": "467226dc",
      "metadata": {
        "id": "467226dc"
      },
      "outputs": [],
      "source": [
        "from sklearn.metrics import confusion_matrix"
      ]
    },
    {
      "cell_type": "code",
      "execution_count": null,
      "id": "eb63ff20",
      "metadata": {
        "scrolled": false,
        "colab": {
          "base_uri": "https://localhost:8080/"
        },
        "id": "eb63ff20",
        "outputId": "caa81967-bde3-4dfe-90e3-67f2e453b214"
      },
      "outputs": [
        {
          "output_type": "execute_result",
          "data": {
            "text/plain": [
              "array([[1, 1],\n",
              "       [1, 3]])"
            ]
          },
          "metadata": {},
          "execution_count": 10
        }
      ],
      "source": [
        "confusion_matrix(true_l, pred_l)"
      ]
    },
    {
      "cell_type": "markdown",
      "id": "ee9ecbd2",
      "metadata": {
        "id": "ee9ecbd2"
      },
      "source": [
        "Теперь давайте взглянем на пример"
      ]
    },
    {
      "cell_type": "code",
      "execution_count": null,
      "id": "ac80306e",
      "metadata": {
        "scrolled": true,
        "colab": {
          "base_uri": "https://localhost:8080/"
        },
        "id": "ac80306e",
        "outputId": "e91b22fa-5546-4ab4-b8ad-85f6f04771b2"
      },
      "outputs": [
        {
          "output_type": "execute_result",
          "data": {
            "text/plain": [
              "0.8333333333333334"
            ]
          },
          "metadata": {},
          "execution_count": 11
        }
      ],
      "source": [
        "t = [0,0,0,0,0,0,0,0,1,1,0,0,0,0,0,0,0,0,0,0,0,0,0,0]\n",
        "p = [0,0,0,0,0,0,0,0,0,1,0,0,0,0,0,0,0,0,0,0,0,1,1,1]\n",
        "\n",
        "accuracy_score(t,p)"
      ]
    },
    {
      "cell_type": "markdown",
      "id": "82eeb24f",
      "metadata": {
        "id": "82eeb24f"
      },
      "source": [
        "Recall рассчитывается как отношение числа Positive выборок, корректно классифицированных как Positive, к общему количеству Positive семплов. Recall демонстрирует способность алгоритма обнаруживать данный класс вообще.\n",
        "\n",
        "![image.png](attachment:image.png)"
      ]
    },
    {
      "cell_type": "code",
      "execution_count": null,
      "id": "d8b3c4d7",
      "metadata": {
        "colab": {
          "base_uri": "https://localhost:8080/"
        },
        "id": "d8b3c4d7",
        "outputId": "e04fbeb8-42c2-4208-88a1-68627d88a989"
      },
      "outputs": [
        {
          "output_type": "execute_result",
          "data": {
            "text/plain": [
              "array([[19,  3],\n",
              "       [ 1,  1]])"
            ]
          },
          "metadata": {},
          "execution_count": 12
        }
      ],
      "source": [
        "confusion_matrix(t,p)"
      ]
    },
    {
      "cell_type": "code",
      "execution_count": null,
      "id": "3c18376a",
      "metadata": {
        "id": "3c18376a",
        "outputId": "b312bf46-c2f2-484e-86d5-c766026da416"
      },
      "outputs": [
        {
          "data": {
            "text/plain": [
              "0.5"
            ]
          },
          "execution_count": 100,
          "metadata": {},
          "output_type": "execute_result"
        }
      ],
      "source": [
        "1 / 2"
      ]
    },
    {
      "cell_type": "code",
      "execution_count": null,
      "id": "94a3be79",
      "metadata": {
        "id": "94a3be79"
      },
      "outputs": [],
      "source": [
        "from sklearn.metrics import recall_score"
      ]
    },
    {
      "cell_type": "code",
      "execution_count": null,
      "id": "61f383ce",
      "metadata": {
        "scrolled": true,
        "colab": {
          "base_uri": "https://localhost:8080/"
        },
        "id": "61f383ce",
        "outputId": "7b172db6-65c4-4a03-888a-c1d9d7a5a082"
      },
      "outputs": [
        {
          "output_type": "execute_result",
          "data": {
            "text/plain": [
              "0.5"
            ]
          },
          "metadata": {},
          "execution_count": 14
        }
      ],
      "source": [
        "recall_score(t, p)"
      ]
    },
    {
      "cell_type": "markdown",
      "id": "5ad4ad1f",
      "metadata": {
        "id": "5ad4ad1f"
      },
      "source": [
        "Это означает, что когда нам попадается объект класса 1, мы его предсказываем со точностью подбрасывания монеты"
      ]
    },
    {
      "cell_type": "markdown",
      "id": "f4ac6996",
      "metadata": {
        "id": "f4ac6996"
      },
      "source": [
        "Precision - отношение числа семплов, верно классифицированных как Positive, к общему числу выборок с меткой Positive (распознанных правильно и неправильно). Цель precision – классифицировать все Positive семплы как Positive, не допуская ложных определений Negative как Positive. Именно введение precision не позволяет нам записывать все объекты в один класс, так как в этом случае мы получаем рост уровня False Positive.\n",
        "\n",
        "![image.png](attachment:image.png)"
      ]
    },
    {
      "cell_type": "code",
      "execution_count": null,
      "id": "a7ec63a5",
      "metadata": {
        "id": "a7ec63a5",
        "outputId": "3c134a39-7462-4876-dc08-68a9e211333b"
      },
      "outputs": [
        {
          "data": {
            "text/plain": [
              "0.25"
            ]
          },
          "execution_count": 103,
          "metadata": {},
          "output_type": "execute_result"
        }
      ],
      "source": [
        "1/4"
      ]
    },
    {
      "cell_type": "code",
      "execution_count": null,
      "id": "d366b83d",
      "metadata": {
        "id": "d366b83d"
      },
      "outputs": [],
      "source": [
        "from sklearn.metrics import precision_score"
      ]
    },
    {
      "cell_type": "code",
      "execution_count": null,
      "id": "249456cd",
      "metadata": {
        "colab": {
          "base_uri": "https://localhost:8080/"
        },
        "id": "249456cd",
        "outputId": "c7566169-c80d-40de-d831-42caead593a9"
      },
      "outputs": [
        {
          "output_type": "execute_result",
          "data": {
            "text/plain": [
              "0.25"
            ]
          },
          "metadata": {},
          "execution_count": 16
        }
      ],
      "source": [
        "precision_score(t,p)"
      ]
    },
    {
      "cell_type": "markdown",
      "id": "a5e9d276",
      "metadata": {
        "id": "a5e9d276"
      },
      "source": [
        "Точность предсказания класса 1 (всего 4 раза предсказала модель) равна 0.25. Лучше монету кидать"
      ]
    },
    {
      "cell_type": "markdown",
      "id": "e48c78b1",
      "metadata": {
        "id": "e48c78b1"
      },
      "source": [
        "# Дерево решений"
      ]
    },
    {
      "cell_type": "markdown",
      "id": "3734a903",
      "metadata": {
        "id": "3734a903"
      },
      "source": [
        "Для начала попробуем самый простой метод обучений - деревья решений. Дерево решений представляет собой иерархическую древовидную структуру, состоящую из правила вида «Если …, то ...». За счет обучающего множества правила генерируются автоматически в процессе обучения"
      ]
    },
    {
      "cell_type": "code",
      "execution_count": null,
      "id": "796e6b10",
      "metadata": {
        "id": "796e6b10"
      },
      "outputs": [],
      "source": [
        "data_f = [1,0,1,2,4,6,4,2,4,6,7,8,4,3,4,6,6,3,4,8,0]\n",
        "data_t = [0,0,0,0,1,1,1,0,1,1,1,1,1,0,1,1,1,0,1,1,0]"
      ]
    },
    {
      "cell_type": "code",
      "execution_count": null,
      "id": "40ff5021",
      "metadata": {
        "id": "40ff5021",
        "outputId": "62587b2f-1aa5-4564-85fe-cc15cd06f122"
      },
      "outputs": [
        {
          "data": {
            "text/plain": [
              "[0, 0, 0, 0, 1, 1, 1, 0, 1, 1, 1, 1, 1, 0, 1, 1, 1, 0, 1, 1, 0]"
            ]
          },
          "execution_count": 107,
          "metadata": {},
          "output_type": "execute_result"
        }
      ],
      "source": [
        "target = []\n",
        "for el in data_f:\n",
        "    if el >= 4:\n",
        "        target.append(1)\n",
        "    else:\n",
        "        target.append(0)\n",
        "target"
      ]
    },
    {
      "cell_type": "markdown",
      "id": "5cf40a18",
      "metadata": {
        "id": "5cf40a18"
      },
      "source": [
        "## Даны входные и выходные данные, составьте дерево решений, чтобы получить ответ как в data_f"
      ]
    },
    {
      "cell_type": "code",
      "execution_count": null,
      "id": "7b52aebb",
      "metadata": {
        "id": "7b52aebb"
      },
      "outputs": [],
      "source": [
        "data_f = [[2,6], [4,1], [3,1], [1,1]]\n",
        "data_t = [1,1,0,0]"
      ]
    },
    {
      "cell_type": "code",
      "execution_count": null,
      "id": "2a436431",
      "metadata": {
        "colab": {
          "base_uri": "https://localhost:8080/"
        },
        "id": "2a436431",
        "outputId": "cfd670f1-19c7-4d8e-ac83-cae828d25683"
      },
      "outputs": [
        {
          "output_type": "execute_result",
          "data": {
            "text/plain": [
              "[1, 1, 0, 0]"
            ]
          },
          "metadata": {},
          "execution_count": 19
        }
      ],
      "source": [
        "data_f = [[2,6], [4,1], [3,1], [1,1]]\n",
        "data_t = [1,1,0,0]\n",
        "\n",
        "targets = []\n",
        "for data in data_f:\n",
        "\n",
        "  if max(data) >= 4:\n",
        "    targets.append(1)\n",
        "\n",
        "  else:\n",
        "    targets.append(0)\n",
        "\n",
        "targets\n"
      ]
    },
    {
      "cell_type": "markdown",
      "id": "91e7d1b7",
      "metadata": {
        "id": "91e7d1b7"
      },
      "source": [
        "Импортируем и рассмотрим датасет с предыдущего занятия"
      ]
    },
    {
      "cell_type": "code",
      "execution_count": null,
      "id": "cc786b44",
      "metadata": {
        "scrolled": false,
        "colab": {
          "base_uri": "https://localhost:8080/",
          "height": 458
        },
        "id": "cc786b44",
        "outputId": "2609a1b5-4c64-4b2d-8719-c4c2545bcf1b"
      },
      "outputs": [
        {
          "output_type": "execute_result",
          "data": {
            "text/plain": [
              "     mean radius  mean texture  mean perimeter  mean area  mean smoothness  \\\n",
              "0          17.99         10.38          122.80     1001.0          0.11840   \n",
              "1          20.57         17.77          132.90     1326.0          0.08474   \n",
              "2          19.69         21.25          130.00     1203.0          0.10960   \n",
              "3          11.42         20.38           77.58      386.1          0.14250   \n",
              "4          20.29         14.34          135.10     1297.0          0.10030   \n",
              "..           ...           ...             ...        ...              ...   \n",
              "564        21.56         22.39          142.00     1479.0          0.11100   \n",
              "565        20.13         28.25          131.20     1261.0          0.09780   \n",
              "566        16.60         28.08          108.30      858.1          0.08455   \n",
              "567        20.60         29.33          140.10     1265.0          0.11780   \n",
              "568         7.76         24.54           47.92      181.0          0.05263   \n",
              "\n",
              "     mean compactness  mean concavity  mean concave points  mean symmetry  \\\n",
              "0             0.27760         0.30010              0.14710         0.2419   \n",
              "1             0.07864         0.08690              0.07017         0.1812   \n",
              "2             0.15990         0.19740              0.12790         0.2069   \n",
              "3             0.28390         0.24140              0.10520         0.2597   \n",
              "4             0.13280         0.19800              0.10430         0.1809   \n",
              "..                ...             ...                  ...            ...   \n",
              "564           0.11590         0.24390              0.13890         0.1726   \n",
              "565           0.10340         0.14400              0.09791         0.1752   \n",
              "566           0.10230         0.09251              0.05302         0.1590   \n",
              "567           0.27700         0.35140              0.15200         0.2397   \n",
              "568           0.04362         0.00000              0.00000         0.1587   \n",
              "\n",
              "     mean fractal dimension  ...  worst texture  worst perimeter  worst area  \\\n",
              "0                   0.07871  ...          17.33           184.60      2019.0   \n",
              "1                   0.05667  ...          23.41           158.80      1956.0   \n",
              "2                   0.05999  ...          25.53           152.50      1709.0   \n",
              "3                   0.09744  ...          26.50            98.87       567.7   \n",
              "4                   0.05883  ...          16.67           152.20      1575.0   \n",
              "..                      ...  ...            ...              ...         ...   \n",
              "564                 0.05623  ...          26.40           166.10      2027.0   \n",
              "565                 0.05533  ...          38.25           155.00      1731.0   \n",
              "566                 0.05648  ...          34.12           126.70      1124.0   \n",
              "567                 0.07016  ...          39.42           184.60      1821.0   \n",
              "568                 0.05884  ...          30.37            59.16       268.6   \n",
              "\n",
              "     worst smoothness  worst compactness  worst concavity  \\\n",
              "0             0.16220            0.66560           0.7119   \n",
              "1             0.12380            0.18660           0.2416   \n",
              "2             0.14440            0.42450           0.4504   \n",
              "3             0.20980            0.86630           0.6869   \n",
              "4             0.13740            0.20500           0.4000   \n",
              "..                ...                ...              ...   \n",
              "564           0.14100            0.21130           0.4107   \n",
              "565           0.11660            0.19220           0.3215   \n",
              "566           0.11390            0.30940           0.3403   \n",
              "567           0.16500            0.86810           0.9387   \n",
              "568           0.08996            0.06444           0.0000   \n",
              "\n",
              "     worst concave points  worst symmetry  worst fractal dimension  target  \n",
              "0                  0.2654          0.4601                  0.11890     0.0  \n",
              "1                  0.1860          0.2750                  0.08902     0.0  \n",
              "2                  0.2430          0.3613                  0.08758     0.0  \n",
              "3                  0.2575          0.6638                  0.17300     0.0  \n",
              "4                  0.1625          0.2364                  0.07678     0.0  \n",
              "..                    ...             ...                      ...     ...  \n",
              "564                0.2216          0.2060                  0.07115     0.0  \n",
              "565                0.1628          0.2572                  0.06637     0.0  \n",
              "566                0.1418          0.2218                  0.07820     0.0  \n",
              "567                0.2650          0.4087                  0.12400     0.0  \n",
              "568                0.0000          0.2871                  0.07039     1.0  \n",
              "\n",
              "[569 rows x 31 columns]"
            ],
            "text/html": [
              "\n",
              "  <div id=\"df-313797ca-9537-4f06-abc0-9c647c1b22ed\" class=\"colab-df-container\">\n",
              "    <div>\n",
              "<style scoped>\n",
              "    .dataframe tbody tr th:only-of-type {\n",
              "        vertical-align: middle;\n",
              "    }\n",
              "\n",
              "    .dataframe tbody tr th {\n",
              "        vertical-align: top;\n",
              "    }\n",
              "\n",
              "    .dataframe thead th {\n",
              "        text-align: right;\n",
              "    }\n",
              "</style>\n",
              "<table border=\"1\" class=\"dataframe\">\n",
              "  <thead>\n",
              "    <tr style=\"text-align: right;\">\n",
              "      <th></th>\n",
              "      <th>mean radius</th>\n",
              "      <th>mean texture</th>\n",
              "      <th>mean perimeter</th>\n",
              "      <th>mean area</th>\n",
              "      <th>mean smoothness</th>\n",
              "      <th>mean compactness</th>\n",
              "      <th>mean concavity</th>\n",
              "      <th>mean concave points</th>\n",
              "      <th>mean symmetry</th>\n",
              "      <th>mean fractal dimension</th>\n",
              "      <th>...</th>\n",
              "      <th>worst texture</th>\n",
              "      <th>worst perimeter</th>\n",
              "      <th>worst area</th>\n",
              "      <th>worst smoothness</th>\n",
              "      <th>worst compactness</th>\n",
              "      <th>worst concavity</th>\n",
              "      <th>worst concave points</th>\n",
              "      <th>worst symmetry</th>\n",
              "      <th>worst fractal dimension</th>\n",
              "      <th>target</th>\n",
              "    </tr>\n",
              "  </thead>\n",
              "  <tbody>\n",
              "    <tr>\n",
              "      <th>0</th>\n",
              "      <td>17.99</td>\n",
              "      <td>10.38</td>\n",
              "      <td>122.80</td>\n",
              "      <td>1001.0</td>\n",
              "      <td>0.11840</td>\n",
              "      <td>0.27760</td>\n",
              "      <td>0.30010</td>\n",
              "      <td>0.14710</td>\n",
              "      <td>0.2419</td>\n",
              "      <td>0.07871</td>\n",
              "      <td>...</td>\n",
              "      <td>17.33</td>\n",
              "      <td>184.60</td>\n",
              "      <td>2019.0</td>\n",
              "      <td>0.16220</td>\n",
              "      <td>0.66560</td>\n",
              "      <td>0.7119</td>\n",
              "      <td>0.2654</td>\n",
              "      <td>0.4601</td>\n",
              "      <td>0.11890</td>\n",
              "      <td>0.0</td>\n",
              "    </tr>\n",
              "    <tr>\n",
              "      <th>1</th>\n",
              "      <td>20.57</td>\n",
              "      <td>17.77</td>\n",
              "      <td>132.90</td>\n",
              "      <td>1326.0</td>\n",
              "      <td>0.08474</td>\n",
              "      <td>0.07864</td>\n",
              "      <td>0.08690</td>\n",
              "      <td>0.07017</td>\n",
              "      <td>0.1812</td>\n",
              "      <td>0.05667</td>\n",
              "      <td>...</td>\n",
              "      <td>23.41</td>\n",
              "      <td>158.80</td>\n",
              "      <td>1956.0</td>\n",
              "      <td>0.12380</td>\n",
              "      <td>0.18660</td>\n",
              "      <td>0.2416</td>\n",
              "      <td>0.1860</td>\n",
              "      <td>0.2750</td>\n",
              "      <td>0.08902</td>\n",
              "      <td>0.0</td>\n",
              "    </tr>\n",
              "    <tr>\n",
              "      <th>2</th>\n",
              "      <td>19.69</td>\n",
              "      <td>21.25</td>\n",
              "      <td>130.00</td>\n",
              "      <td>1203.0</td>\n",
              "      <td>0.10960</td>\n",
              "      <td>0.15990</td>\n",
              "      <td>0.19740</td>\n",
              "      <td>0.12790</td>\n",
              "      <td>0.2069</td>\n",
              "      <td>0.05999</td>\n",
              "      <td>...</td>\n",
              "      <td>25.53</td>\n",
              "      <td>152.50</td>\n",
              "      <td>1709.0</td>\n",
              "      <td>0.14440</td>\n",
              "      <td>0.42450</td>\n",
              "      <td>0.4504</td>\n",
              "      <td>0.2430</td>\n",
              "      <td>0.3613</td>\n",
              "      <td>0.08758</td>\n",
              "      <td>0.0</td>\n",
              "    </tr>\n",
              "    <tr>\n",
              "      <th>3</th>\n",
              "      <td>11.42</td>\n",
              "      <td>20.38</td>\n",
              "      <td>77.58</td>\n",
              "      <td>386.1</td>\n",
              "      <td>0.14250</td>\n",
              "      <td>0.28390</td>\n",
              "      <td>0.24140</td>\n",
              "      <td>0.10520</td>\n",
              "      <td>0.2597</td>\n",
              "      <td>0.09744</td>\n",
              "      <td>...</td>\n",
              "      <td>26.50</td>\n",
              "      <td>98.87</td>\n",
              "      <td>567.7</td>\n",
              "      <td>0.20980</td>\n",
              "      <td>0.86630</td>\n",
              "      <td>0.6869</td>\n",
              "      <td>0.2575</td>\n",
              "      <td>0.6638</td>\n",
              "      <td>0.17300</td>\n",
              "      <td>0.0</td>\n",
              "    </tr>\n",
              "    <tr>\n",
              "      <th>4</th>\n",
              "      <td>20.29</td>\n",
              "      <td>14.34</td>\n",
              "      <td>135.10</td>\n",
              "      <td>1297.0</td>\n",
              "      <td>0.10030</td>\n",
              "      <td>0.13280</td>\n",
              "      <td>0.19800</td>\n",
              "      <td>0.10430</td>\n",
              "      <td>0.1809</td>\n",
              "      <td>0.05883</td>\n",
              "      <td>...</td>\n",
              "      <td>16.67</td>\n",
              "      <td>152.20</td>\n",
              "      <td>1575.0</td>\n",
              "      <td>0.13740</td>\n",
              "      <td>0.20500</td>\n",
              "      <td>0.4000</td>\n",
              "      <td>0.1625</td>\n",
              "      <td>0.2364</td>\n",
              "      <td>0.07678</td>\n",
              "      <td>0.0</td>\n",
              "    </tr>\n",
              "    <tr>\n",
              "      <th>...</th>\n",
              "      <td>...</td>\n",
              "      <td>...</td>\n",
              "      <td>...</td>\n",
              "      <td>...</td>\n",
              "      <td>...</td>\n",
              "      <td>...</td>\n",
              "      <td>...</td>\n",
              "      <td>...</td>\n",
              "      <td>...</td>\n",
              "      <td>...</td>\n",
              "      <td>...</td>\n",
              "      <td>...</td>\n",
              "      <td>...</td>\n",
              "      <td>...</td>\n",
              "      <td>...</td>\n",
              "      <td>...</td>\n",
              "      <td>...</td>\n",
              "      <td>...</td>\n",
              "      <td>...</td>\n",
              "      <td>...</td>\n",
              "      <td>...</td>\n",
              "    </tr>\n",
              "    <tr>\n",
              "      <th>564</th>\n",
              "      <td>21.56</td>\n",
              "      <td>22.39</td>\n",
              "      <td>142.00</td>\n",
              "      <td>1479.0</td>\n",
              "      <td>0.11100</td>\n",
              "      <td>0.11590</td>\n",
              "      <td>0.24390</td>\n",
              "      <td>0.13890</td>\n",
              "      <td>0.1726</td>\n",
              "      <td>0.05623</td>\n",
              "      <td>...</td>\n",
              "      <td>26.40</td>\n",
              "      <td>166.10</td>\n",
              "      <td>2027.0</td>\n",
              "      <td>0.14100</td>\n",
              "      <td>0.21130</td>\n",
              "      <td>0.4107</td>\n",
              "      <td>0.2216</td>\n",
              "      <td>0.2060</td>\n",
              "      <td>0.07115</td>\n",
              "      <td>0.0</td>\n",
              "    </tr>\n",
              "    <tr>\n",
              "      <th>565</th>\n",
              "      <td>20.13</td>\n",
              "      <td>28.25</td>\n",
              "      <td>131.20</td>\n",
              "      <td>1261.0</td>\n",
              "      <td>0.09780</td>\n",
              "      <td>0.10340</td>\n",
              "      <td>0.14400</td>\n",
              "      <td>0.09791</td>\n",
              "      <td>0.1752</td>\n",
              "      <td>0.05533</td>\n",
              "      <td>...</td>\n",
              "      <td>38.25</td>\n",
              "      <td>155.00</td>\n",
              "      <td>1731.0</td>\n",
              "      <td>0.11660</td>\n",
              "      <td>0.19220</td>\n",
              "      <td>0.3215</td>\n",
              "      <td>0.1628</td>\n",
              "      <td>0.2572</td>\n",
              "      <td>0.06637</td>\n",
              "      <td>0.0</td>\n",
              "    </tr>\n",
              "    <tr>\n",
              "      <th>566</th>\n",
              "      <td>16.60</td>\n",
              "      <td>28.08</td>\n",
              "      <td>108.30</td>\n",
              "      <td>858.1</td>\n",
              "      <td>0.08455</td>\n",
              "      <td>0.10230</td>\n",
              "      <td>0.09251</td>\n",
              "      <td>0.05302</td>\n",
              "      <td>0.1590</td>\n",
              "      <td>0.05648</td>\n",
              "      <td>...</td>\n",
              "      <td>34.12</td>\n",
              "      <td>126.70</td>\n",
              "      <td>1124.0</td>\n",
              "      <td>0.11390</td>\n",
              "      <td>0.30940</td>\n",
              "      <td>0.3403</td>\n",
              "      <td>0.1418</td>\n",
              "      <td>0.2218</td>\n",
              "      <td>0.07820</td>\n",
              "      <td>0.0</td>\n",
              "    </tr>\n",
              "    <tr>\n",
              "      <th>567</th>\n",
              "      <td>20.60</td>\n",
              "      <td>29.33</td>\n",
              "      <td>140.10</td>\n",
              "      <td>1265.0</td>\n",
              "      <td>0.11780</td>\n",
              "      <td>0.27700</td>\n",
              "      <td>0.35140</td>\n",
              "      <td>0.15200</td>\n",
              "      <td>0.2397</td>\n",
              "      <td>0.07016</td>\n",
              "      <td>...</td>\n",
              "      <td>39.42</td>\n",
              "      <td>184.60</td>\n",
              "      <td>1821.0</td>\n",
              "      <td>0.16500</td>\n",
              "      <td>0.86810</td>\n",
              "      <td>0.9387</td>\n",
              "      <td>0.2650</td>\n",
              "      <td>0.4087</td>\n",
              "      <td>0.12400</td>\n",
              "      <td>0.0</td>\n",
              "    </tr>\n",
              "    <tr>\n",
              "      <th>568</th>\n",
              "      <td>7.76</td>\n",
              "      <td>24.54</td>\n",
              "      <td>47.92</td>\n",
              "      <td>181.0</td>\n",
              "      <td>0.05263</td>\n",
              "      <td>0.04362</td>\n",
              "      <td>0.00000</td>\n",
              "      <td>0.00000</td>\n",
              "      <td>0.1587</td>\n",
              "      <td>0.05884</td>\n",
              "      <td>...</td>\n",
              "      <td>30.37</td>\n",
              "      <td>59.16</td>\n",
              "      <td>268.6</td>\n",
              "      <td>0.08996</td>\n",
              "      <td>0.06444</td>\n",
              "      <td>0.0000</td>\n",
              "      <td>0.0000</td>\n",
              "      <td>0.2871</td>\n",
              "      <td>0.07039</td>\n",
              "      <td>1.0</td>\n",
              "    </tr>\n",
              "  </tbody>\n",
              "</table>\n",
              "<p>569 rows × 31 columns</p>\n",
              "</div>\n",
              "    <div class=\"colab-df-buttons\">\n",
              "\n",
              "  <div class=\"colab-df-container\">\n",
              "    <button class=\"colab-df-convert\" onclick=\"convertToInteractive('df-313797ca-9537-4f06-abc0-9c647c1b22ed')\"\n",
              "            title=\"Convert this dataframe to an interactive table.\"\n",
              "            style=\"display:none;\">\n",
              "\n",
              "  <svg xmlns=\"http://www.w3.org/2000/svg\" height=\"24px\" viewBox=\"0 -960 960 960\">\n",
              "    <path d=\"M120-120v-720h720v720H120Zm60-500h600v-160H180v160Zm220 220h160v-160H400v160Zm0 220h160v-160H400v160ZM180-400h160v-160H180v160Zm440 0h160v-160H620v160ZM180-180h160v-160H180v160Zm440 0h160v-160H620v160Z\"/>\n",
              "  </svg>\n",
              "    </button>\n",
              "\n",
              "  <style>\n",
              "    .colab-df-container {\n",
              "      display:flex;\n",
              "      gap: 12px;\n",
              "    }\n",
              "\n",
              "    .colab-df-convert {\n",
              "      background-color: #E8F0FE;\n",
              "      border: none;\n",
              "      border-radius: 50%;\n",
              "      cursor: pointer;\n",
              "      display: none;\n",
              "      fill: #1967D2;\n",
              "      height: 32px;\n",
              "      padding: 0 0 0 0;\n",
              "      width: 32px;\n",
              "    }\n",
              "\n",
              "    .colab-df-convert:hover {\n",
              "      background-color: #E2EBFA;\n",
              "      box-shadow: 0px 1px 2px rgba(60, 64, 67, 0.3), 0px 1px 3px 1px rgba(60, 64, 67, 0.15);\n",
              "      fill: #174EA6;\n",
              "    }\n",
              "\n",
              "    .colab-df-buttons div {\n",
              "      margin-bottom: 4px;\n",
              "    }\n",
              "\n",
              "    [theme=dark] .colab-df-convert {\n",
              "      background-color: #3B4455;\n",
              "      fill: #D2E3FC;\n",
              "    }\n",
              "\n",
              "    [theme=dark] .colab-df-convert:hover {\n",
              "      background-color: #434B5C;\n",
              "      box-shadow: 0px 1px 3px 1px rgba(0, 0, 0, 0.15);\n",
              "      filter: drop-shadow(0px 1px 2px rgba(0, 0, 0, 0.3));\n",
              "      fill: #FFFFFF;\n",
              "    }\n",
              "  </style>\n",
              "\n",
              "    <script>\n",
              "      const buttonEl =\n",
              "        document.querySelector('#df-313797ca-9537-4f06-abc0-9c647c1b22ed button.colab-df-convert');\n",
              "      buttonEl.style.display =\n",
              "        google.colab.kernel.accessAllowed ? 'block' : 'none';\n",
              "\n",
              "      async function convertToInteractive(key) {\n",
              "        const element = document.querySelector('#df-313797ca-9537-4f06-abc0-9c647c1b22ed');\n",
              "        const dataTable =\n",
              "          await google.colab.kernel.invokeFunction('convertToInteractive',\n",
              "                                                    [key], {});\n",
              "        if (!dataTable) return;\n",
              "\n",
              "        const docLinkHtml = 'Like what you see? Visit the ' +\n",
              "          '<a target=\"_blank\" href=https://colab.research.google.com/notebooks/data_table.ipynb>data table notebook</a>'\n",
              "          + ' to learn more about interactive tables.';\n",
              "        element.innerHTML = '';\n",
              "        dataTable['output_type'] = 'display_data';\n",
              "        await google.colab.output.renderOutput(dataTable, element);\n",
              "        const docLink = document.createElement('div');\n",
              "        docLink.innerHTML = docLinkHtml;\n",
              "        element.appendChild(docLink);\n",
              "      }\n",
              "    </script>\n",
              "  </div>\n",
              "\n",
              "\n",
              "<div id=\"df-b2c28efa-7327-41e5-9dc4-7eb40e277401\">\n",
              "  <button class=\"colab-df-quickchart\" onclick=\"quickchart('df-b2c28efa-7327-41e5-9dc4-7eb40e277401')\"\n",
              "            title=\"Suggest charts.\"\n",
              "            style=\"display:none;\">\n",
              "\n",
              "<svg xmlns=\"http://www.w3.org/2000/svg\" height=\"24px\"viewBox=\"0 0 24 24\"\n",
              "     width=\"24px\">\n",
              "    <g>\n",
              "        <path d=\"M19 3H5c-1.1 0-2 .9-2 2v14c0 1.1.9 2 2 2h14c1.1 0 2-.9 2-2V5c0-1.1-.9-2-2-2zM9 17H7v-7h2v7zm4 0h-2V7h2v10zm4 0h-2v-4h2v4z\"/>\n",
              "    </g>\n",
              "</svg>\n",
              "  </button>\n",
              "\n",
              "<style>\n",
              "  .colab-df-quickchart {\n",
              "      --bg-color: #E8F0FE;\n",
              "      --fill-color: #1967D2;\n",
              "      --hover-bg-color: #E2EBFA;\n",
              "      --hover-fill-color: #174EA6;\n",
              "      --disabled-fill-color: #AAA;\n",
              "      --disabled-bg-color: #DDD;\n",
              "  }\n",
              "\n",
              "  [theme=dark] .colab-df-quickchart {\n",
              "      --bg-color: #3B4455;\n",
              "      --fill-color: #D2E3FC;\n",
              "      --hover-bg-color: #434B5C;\n",
              "      --hover-fill-color: #FFFFFF;\n",
              "      --disabled-bg-color: #3B4455;\n",
              "      --disabled-fill-color: #666;\n",
              "  }\n",
              "\n",
              "  .colab-df-quickchart {\n",
              "    background-color: var(--bg-color);\n",
              "    border: none;\n",
              "    border-radius: 50%;\n",
              "    cursor: pointer;\n",
              "    display: none;\n",
              "    fill: var(--fill-color);\n",
              "    height: 32px;\n",
              "    padding: 0;\n",
              "    width: 32px;\n",
              "  }\n",
              "\n",
              "  .colab-df-quickchart:hover {\n",
              "    background-color: var(--hover-bg-color);\n",
              "    box-shadow: 0 1px 2px rgba(60, 64, 67, 0.3), 0 1px 3px 1px rgba(60, 64, 67, 0.15);\n",
              "    fill: var(--button-hover-fill-color);\n",
              "  }\n",
              "\n",
              "  .colab-df-quickchart-complete:disabled,\n",
              "  .colab-df-quickchart-complete:disabled:hover {\n",
              "    background-color: var(--disabled-bg-color);\n",
              "    fill: var(--disabled-fill-color);\n",
              "    box-shadow: none;\n",
              "  }\n",
              "\n",
              "  .colab-df-spinner {\n",
              "    border: 2px solid var(--fill-color);\n",
              "    border-color: transparent;\n",
              "    border-bottom-color: var(--fill-color);\n",
              "    animation:\n",
              "      spin 1s steps(1) infinite;\n",
              "  }\n",
              "\n",
              "  @keyframes spin {\n",
              "    0% {\n",
              "      border-color: transparent;\n",
              "      border-bottom-color: var(--fill-color);\n",
              "      border-left-color: var(--fill-color);\n",
              "    }\n",
              "    20% {\n",
              "      border-color: transparent;\n",
              "      border-left-color: var(--fill-color);\n",
              "      border-top-color: var(--fill-color);\n",
              "    }\n",
              "    30% {\n",
              "      border-color: transparent;\n",
              "      border-left-color: var(--fill-color);\n",
              "      border-top-color: var(--fill-color);\n",
              "      border-right-color: var(--fill-color);\n",
              "    }\n",
              "    40% {\n",
              "      border-color: transparent;\n",
              "      border-right-color: var(--fill-color);\n",
              "      border-top-color: var(--fill-color);\n",
              "    }\n",
              "    60% {\n",
              "      border-color: transparent;\n",
              "      border-right-color: var(--fill-color);\n",
              "    }\n",
              "    80% {\n",
              "      border-color: transparent;\n",
              "      border-right-color: var(--fill-color);\n",
              "      border-bottom-color: var(--fill-color);\n",
              "    }\n",
              "    90% {\n",
              "      border-color: transparent;\n",
              "      border-bottom-color: var(--fill-color);\n",
              "    }\n",
              "  }\n",
              "</style>\n",
              "\n",
              "  <script>\n",
              "    async function quickchart(key) {\n",
              "      const quickchartButtonEl =\n",
              "        document.querySelector('#' + key + ' button');\n",
              "      quickchartButtonEl.disabled = true;  // To prevent multiple clicks.\n",
              "      quickchartButtonEl.classList.add('colab-df-spinner');\n",
              "      try {\n",
              "        const charts = await google.colab.kernel.invokeFunction(\n",
              "            'suggestCharts', [key], {});\n",
              "      } catch (error) {\n",
              "        console.error('Error during call to suggestCharts:', error);\n",
              "      }\n",
              "      quickchartButtonEl.classList.remove('colab-df-spinner');\n",
              "      quickchartButtonEl.classList.add('colab-df-quickchart-complete');\n",
              "    }\n",
              "    (() => {\n",
              "      let quickchartButtonEl =\n",
              "        document.querySelector('#df-b2c28efa-7327-41e5-9dc4-7eb40e277401 button');\n",
              "      quickchartButtonEl.style.display =\n",
              "        google.colab.kernel.accessAllowed ? 'block' : 'none';\n",
              "    })();\n",
              "  </script>\n",
              "</div>\n",
              "    </div>\n",
              "  </div>\n"
            ]
          },
          "metadata": {},
          "execution_count": 20
        }
      ],
      "source": [
        "cancer = load_breast_cancer()\n",
        "\n",
        "df = pd.DataFrame(np.c_[cancer['data'], cancer['target']],\n",
        "                  columns= np.append(cancer['feature_names'], ['target']))\n",
        "df"
      ]
    },
    {
      "cell_type": "markdown",
      "id": "614c49bd",
      "metadata": {
        "id": "614c49bd"
      },
      "source": [
        "Разделим нашу выборку на тест и трейн"
      ]
    },
    {
      "cell_type": "code",
      "execution_count": null,
      "id": "95d38c79",
      "metadata": {
        "scrolled": true,
        "colab": {
          "base_uri": "https://localhost:8080/"
        },
        "id": "95d38c79",
        "outputId": "fa96db4e-78ad-4aeb-f2f9-8620867534b3"
      },
      "outputs": [
        {
          "output_type": "execute_result",
          "data": {
            "text/plain": [
              "((398, 30), (171, 30))"
            ]
          },
          "metadata": {},
          "execution_count": 27
        }
      ],
      "source": [
        "x = df.drop(['target'], axis=1)\n",
        "#print(x)\n",
        "y = df['target']\n",
        "\n",
        "x_train, x_test, y_train, y_test = train_test_split(x, y, test_size=0.3, random_state=42)\n",
        "x_train.shape, x_test.shape"
      ]
    },
    {
      "cell_type": "code",
      "execution_count": null,
      "id": "45b100b9",
      "metadata": {
        "id": "45b100b9"
      },
      "outputs": [],
      "source": [
        "from sklearn.tree import DecisionTreeClassifier"
      ]
    },
    {
      "cell_type": "code",
      "execution_count": null,
      "id": "4e14ff86",
      "metadata": {
        "colab": {
          "base_uri": "https://localhost:8080/",
          "height": 75
        },
        "id": "4e14ff86",
        "outputId": "48495367-69a6-471d-b63d-10b5a5c96450"
      },
      "outputs": [
        {
          "output_type": "execute_result",
          "data": {
            "text/plain": [
              "DecisionTreeClassifier()"
            ],
            "text/html": [
              "<style>#sk-container-id-1 {color: black;background-color: white;}#sk-container-id-1 pre{padding: 0;}#sk-container-id-1 div.sk-toggleable {background-color: white;}#sk-container-id-1 label.sk-toggleable__label {cursor: pointer;display: block;width: 100%;margin-bottom: 0;padding: 0.3em;box-sizing: border-box;text-align: center;}#sk-container-id-1 label.sk-toggleable__label-arrow:before {content: \"▸\";float: left;margin-right: 0.25em;color: #696969;}#sk-container-id-1 label.sk-toggleable__label-arrow:hover:before {color: black;}#sk-container-id-1 div.sk-estimator:hover label.sk-toggleable__label-arrow:before {color: black;}#sk-container-id-1 div.sk-toggleable__content {max-height: 0;max-width: 0;overflow: hidden;text-align: left;background-color: #f0f8ff;}#sk-container-id-1 div.sk-toggleable__content pre {margin: 0.2em;color: black;border-radius: 0.25em;background-color: #f0f8ff;}#sk-container-id-1 input.sk-toggleable__control:checked~div.sk-toggleable__content {max-height: 200px;max-width: 100%;overflow: auto;}#sk-container-id-1 input.sk-toggleable__control:checked~label.sk-toggleable__label-arrow:before {content: \"▾\";}#sk-container-id-1 div.sk-estimator input.sk-toggleable__control:checked~label.sk-toggleable__label {background-color: #d4ebff;}#sk-container-id-1 div.sk-label input.sk-toggleable__control:checked~label.sk-toggleable__label {background-color: #d4ebff;}#sk-container-id-1 input.sk-hidden--visually {border: 0;clip: rect(1px 1px 1px 1px);clip: rect(1px, 1px, 1px, 1px);height: 1px;margin: -1px;overflow: hidden;padding: 0;position: absolute;width: 1px;}#sk-container-id-1 div.sk-estimator {font-family: monospace;background-color: #f0f8ff;border: 1px dotted black;border-radius: 0.25em;box-sizing: border-box;margin-bottom: 0.5em;}#sk-container-id-1 div.sk-estimator:hover {background-color: #d4ebff;}#sk-container-id-1 div.sk-parallel-item::after {content: \"\";width: 100%;border-bottom: 1px solid gray;flex-grow: 1;}#sk-container-id-1 div.sk-label:hover label.sk-toggleable__label {background-color: #d4ebff;}#sk-container-id-1 div.sk-serial::before {content: \"\";position: absolute;border-left: 1px solid gray;box-sizing: border-box;top: 0;bottom: 0;left: 50%;z-index: 0;}#sk-container-id-1 div.sk-serial {display: flex;flex-direction: column;align-items: center;background-color: white;padding-right: 0.2em;padding-left: 0.2em;position: relative;}#sk-container-id-1 div.sk-item {position: relative;z-index: 1;}#sk-container-id-1 div.sk-parallel {display: flex;align-items: stretch;justify-content: center;background-color: white;position: relative;}#sk-container-id-1 div.sk-item::before, #sk-container-id-1 div.sk-parallel-item::before {content: \"\";position: absolute;border-left: 1px solid gray;box-sizing: border-box;top: 0;bottom: 0;left: 50%;z-index: -1;}#sk-container-id-1 div.sk-parallel-item {display: flex;flex-direction: column;z-index: 1;position: relative;background-color: white;}#sk-container-id-1 div.sk-parallel-item:first-child::after {align-self: flex-end;width: 50%;}#sk-container-id-1 div.sk-parallel-item:last-child::after {align-self: flex-start;width: 50%;}#sk-container-id-1 div.sk-parallel-item:only-child::after {width: 0;}#sk-container-id-1 div.sk-dashed-wrapped {border: 1px dashed gray;margin: 0 0.4em 0.5em 0.4em;box-sizing: border-box;padding-bottom: 0.4em;background-color: white;}#sk-container-id-1 div.sk-label label {font-family: monospace;font-weight: bold;display: inline-block;line-height: 1.2em;}#sk-container-id-1 div.sk-label-container {text-align: center;}#sk-container-id-1 div.sk-container {/* jupyter's `normalize.less` sets `[hidden] { display: none; }` but bootstrap.min.css set `[hidden] { display: none !important; }` so we also need the `!important` here to be able to override the default hidden behavior on the sphinx rendered scikit-learn.org. See: https://github.com/scikit-learn/scikit-learn/issues/21755 */display: inline-block !important;position: relative;}#sk-container-id-1 div.sk-text-repr-fallback {display: none;}</style><div id=\"sk-container-id-1\" class=\"sk-top-container\"><div class=\"sk-text-repr-fallback\"><pre>DecisionTreeClassifier()</pre><b>In a Jupyter environment, please rerun this cell to show the HTML representation or trust the notebook. <br />On GitHub, the HTML representation is unable to render, please try loading this page with nbviewer.org.</b></div><div class=\"sk-container\" hidden><div class=\"sk-item\"><div class=\"sk-estimator sk-toggleable\"><input class=\"sk-toggleable__control sk-hidden--visually\" id=\"sk-estimator-id-1\" type=\"checkbox\" checked><label for=\"sk-estimator-id-1\" class=\"sk-toggleable__label sk-toggleable__label-arrow\">DecisionTreeClassifier</label><div class=\"sk-toggleable__content\"><pre>DecisionTreeClassifier()</pre></div></div></div></div></div>"
            ]
          },
          "metadata": {},
          "execution_count": 23
        }
      ],
      "source": [
        "model = DecisionTreeClassifier() #задаём переменной класс дерева решений\n",
        "model.fit(x_train, y_train) #метод fit - обучает модель на трейне"
      ]
    },
    {
      "cell_type": "code",
      "execution_count": null,
      "id": "a7fae04e",
      "metadata": {
        "colab": {
          "base_uri": "https://localhost:8080/"
        },
        "id": "a7fae04e",
        "outputId": "6394a5f6-8e20-4946-98fc-d4474f43cd3d"
      },
      "outputs": [
        {
          "output_type": "execute_result",
          "data": {
            "text/plain": [
              "(array([1., 1., 1., 1., 1., 0., 1., 1., 1., 1., 1., 1., 0., 0., 0., 1., 1.,\n",
              "        0., 1., 0., 1., 1., 1., 1., 0., 1., 1., 0., 1., 1., 1., 0., 1., 0.,\n",
              "        0., 1., 1., 1., 0., 1., 1., 1., 1., 0., 1., 1., 1., 1., 1., 0., 1.,\n",
              "        0., 0., 1., 1., 0., 1., 1., 1., 1., 1., 1., 1., 0., 0., 0., 1., 1.,\n",
              "        0., 1., 1., 0., 1., 0., 1., 0., 1., 0., 1., 1., 0., 1., 1., 1., 0.,\n",
              "        1., 0., 1., 0., 1., 0., 1., 1., 0., 1., 1., 1., 1., 0., 1., 1., 1.,\n",
              "        0., 1., 1., 0., 1., 1., 0., 1., 1., 1., 1., 1., 1., 1., 0., 1., 1.,\n",
              "        1., 0., 1., 0., 1., 1., 1., 0., 1., 0., 0., 1., 1., 0., 1., 0., 0.,\n",
              "        0., 1., 1., 1., 0., 1., 1., 0., 1., 0., 1., 1., 1., 0., 1., 0., 1.,\n",
              "        1., 0., 0., 1., 1., 0., 1., 0., 0., 1., 0., 0., 1., 1., 0., 0., 0.,\n",
              "        1., 1., 1., 1., 0., 1., 0., 0., 0., 0., 1., 1., 1., 1., 1., 1., 1.,\n",
              "        1., 0., 0., 1., 1., 0., 1., 1., 1., 1., 1., 0., 1., 1., 0., 0., 1.,\n",
              "        0., 1., 0., 1., 1., 1., 1., 1., 1., 0., 1., 1., 0., 1., 1., 1., 1.,\n",
              "        1., 1., 0., 1., 1., 0., 1., 0., 0., 0., 1., 0., 1., 1., 0., 0., 0.,\n",
              "        1., 1., 1., 1., 1., 1., 1., 0., 1., 1., 1., 0., 1., 1., 0., 0., 1.,\n",
              "        0., 1., 0., 0., 1., 1., 0., 1., 0., 0., 1., 0., 0., 1., 1., 0., 1.,\n",
              "        0., 1., 1., 0., 1., 1., 0., 0., 0., 1., 1., 1., 0., 0., 1., 0., 0.,\n",
              "        1., 1., 1., 0., 1., 0., 0., 0., 0., 1., 1., 0., 1., 1., 0., 0., 0.,\n",
              "        0., 0., 0., 1., 1., 1., 1., 1., 1., 1., 0., 0., 0., 0., 1., 1., 1.,\n",
              "        1., 0., 1., 0., 1., 1., 1., 1., 1., 0., 0., 0., 1., 1., 0., 1., 1.,\n",
              "        0., 0., 0., 0., 1., 1., 0., 0., 1., 1., 1., 0., 0., 0., 1., 1., 0.,\n",
              "        1., 1., 1., 1., 0., 1., 1., 1., 1., 1., 1., 1., 1., 1., 0., 1., 1.,\n",
              "        1., 1., 1., 1., 0., 1., 1., 0., 1., 1., 0., 0., 0., 1., 0., 0., 1.,\n",
              "        0., 1., 1., 1., 1., 0., 1.]),\n",
              " array([1., 0., 0., 1., 1., 0., 0., 1., 1., 1., 0., 0., 1., 0., 1., 0., 1.,\n",
              "        1., 1., 0., 1., 1., 0., 1., 1., 1., 1., 1., 1., 0., 1., 1., 1., 1.,\n",
              "        1., 1., 0., 1., 0., 1., 1., 0., 1., 1., 1., 1., 0., 0., 1., 1., 0.,\n",
              "        0., 1., 1., 1., 1., 1., 0., 0., 1., 1., 0., 0., 1., 1., 1., 0., 0.,\n",
              "        1., 1., 0., 0., 1., 0., 1., 1., 1., 0., 1., 1., 0., 1., 1., 0., 0.,\n",
              "        0., 0., 0., 1., 1., 1., 1., 0., 1., 1., 1., 0., 0., 1., 0., 0., 1.,\n",
              "        0., 0., 1., 1., 1., 0., 1., 1., 0., 1., 1., 0., 1., 0., 1., 1., 1.,\n",
              "        0., 0., 1., 1., 0., 1., 0., 0., 1., 1., 0., 0., 0., 0., 1., 1., 0.,\n",
              "        0., 1., 1., 0., 1., 0., 1., 1., 0., 1., 0., 0., 0., 1., 0., 1., 1.,\n",
              "        1., 0., 0., 0., 1., 1., 1., 1., 1., 1., 1., 0., 1., 1., 1., 1., 0.,\n",
              "        1.]))"
            ]
          },
          "metadata": {},
          "execution_count": 24
        }
      ],
      "source": [
        "predicted_train = model.predict(x_train) #метод predict показывает ответы модели для каждого семпла\n",
        "predicted_test = model.predict(x_test)\n",
        "predicted_train, predicted_test"
      ]
    },
    {
      "cell_type": "code",
      "execution_count": null,
      "id": "4ae800a9",
      "metadata": {
        "colab": {
          "base_uri": "https://localhost:8080/"
        },
        "id": "4ae800a9",
        "outputId": "1e503702-f0e6-4c09-c768-27f951d1cf47"
      },
      "outputs": [
        {
          "output_type": "execute_result",
          "data": {
            "text/plain": [
              "(1.0, 0.935672514619883)"
            ]
          },
          "metadata": {},
          "execution_count": 25
        }
      ],
      "source": [
        "accuracy_score(y_train, predicted_train), accuracy_score(y_test, predicted_test)"
      ]
    },
    {
      "cell_type": "code",
      "execution_count": null,
      "id": "ed355f4f",
      "metadata": {
        "colab": {
          "base_uri": "https://localhost:8080/"
        },
        "id": "ed355f4f",
        "outputId": "d083d6ca-7bcc-4d07-c6d4-347f0cc1581f"
      },
      "outputs": [
        {
          "output_type": "execute_result",
          "data": {
            "text/plain": [
              "array([[ 60,   3],\n",
              "       [  8, 100]])"
            ]
          },
          "metadata": {},
          "execution_count": 28
        }
      ],
      "source": [
        "confusion_matrix(y_test, predicted_test)"
      ]
    },
    {
      "cell_type": "code",
      "execution_count": null,
      "id": "79ecb6fc",
      "metadata": {
        "colab": {
          "base_uri": "https://localhost:8080/"
        },
        "id": "79ecb6fc",
        "outputId": "e88c2e15-3080-4fe1-cec6-edb7ff2fc63f"
      },
      "outputs": [
        {
          "output_type": "execute_result",
          "data": {
            "text/plain": [
              "array([0.        , 0.        , 0.        , 0.        , 0.        ,\n",
              "       0.        , 0.        , 0.73648849, 0.        , 0.        ,\n",
              "       0.01356259, 0.00715165, 0.        , 0.        , 0.00200417,\n",
              "       0.        , 0.        , 0.01716396, 0.        , 0.        ,\n",
              "       0.0481188 , 0.12836564, 0.        , 0.0366527 , 0.01049202,\n",
              "       0.        , 0.        , 0.        , 0.        , 0.        ])"
            ]
          },
          "metadata": {},
          "execution_count": 29
        }
      ],
      "source": [
        "model.feature_importances_"
      ]
    },
    {
      "cell_type": "code",
      "execution_count": null,
      "id": "27e5ebc4",
      "metadata": {
        "colab": {
          "base_uri": "https://localhost:8080/"
        },
        "id": "27e5ebc4",
        "outputId": "890a0378-a66b-4ae5-927c-19c017e080e9"
      },
      "outputs": [
        {
          "output_type": "execute_result",
          "data": {
            "text/plain": [
              "[('mean radius', 0.0),\n",
              " ('mean texture', 0.0),\n",
              " ('mean perimeter', 0.0),\n",
              " ('mean area', 0.0),\n",
              " ('mean smoothness', 0.0),\n",
              " ('mean compactness', 0.0),\n",
              " ('mean concavity', 0.0),\n",
              " ('mean concave points', 0.7364884884620588),\n",
              " ('mean symmetry', 0.0),\n",
              " ('mean fractal dimension', 0.0),\n",
              " ('radius error', 0.013562586797775495),\n",
              " ('texture error', 0.007151649102000844),\n",
              " ('perimeter error', 0.0),\n",
              " ('area error', 0.0),\n",
              " ('smoothness error', 0.0020041685450463767),\n",
              " ('compactness error', 0.0),\n",
              " ('concavity error', 0.0),\n",
              " ('concave points error', 0.017163957844802027),\n",
              " ('symmetry error', 0.0),\n",
              " ('fractal dimension error', 0.0),\n",
              " ('worst radius', 0.04811879537986433),\n",
              " ('worst texture', 0.1283656353976493),\n",
              " ('worst perimeter', 0.0),\n",
              " ('worst area', 0.036652696366148256),\n",
              " ('worst smoothness', 0.01049202210465462),\n",
              " ('worst compactness', 0.0),\n",
              " ('worst concavity', 0.0),\n",
              " ('worst concave points', 0.0),\n",
              " ('worst symmetry', 0.0),\n",
              " ('worst fractal dimension', 0.0)]"
            ]
          },
          "metadata": {},
          "execution_count": 30
        }
      ],
      "source": [
        "list(zip(x_train.columns, model.feature_importances_))"
      ]
    },
    {
      "cell_type": "code",
      "execution_count": null,
      "id": "00e3a586",
      "metadata": {
        "scrolled": false,
        "id": "00e3a586",
        "outputId": "ce085b92-4841-4bb8-c584-eef95f2ec2d2"
      },
      "outputs": [
        {
          "data": {
            "text/plain": [
              "(0.9705882352941176, 0.9166666666666666)"
            ]
          },
          "execution_count": 119,
          "metadata": {},
          "output_type": "execute_result"
        }
      ],
      "source": [
        "precision_score(y_test, predicted_test), recall_score(y_test, predicted_test)"
      ]
    },
    {
      "cell_type": "markdown",
      "id": "e98b01e0",
      "metadata": {
        "id": "e98b01e0"
      },
      "source": [
        "# Random forest"
      ]
    },
    {
      "cell_type": "markdown",
      "id": "6be6dcad",
      "metadata": {
        "id": "6be6dcad"
      },
      "source": [
        "Random forest - модель, состоящая из множества деревьев решений. Вместо того,чтобы просто усреднять прогнозы разных деревьев (такая концепция называется просто «лес»), эта модель использует две ключевые концепции, которые и делают этот лес случайным.\n",
        "\n",
        "1. Случайная выборка образцов из набора данных при построении деревьев.\n",
        "2. При разделении узлов выбираются случайные наборы параметров."
      ]
    },
    {
      "cell_type": "markdown",
      "id": "56b8fe64",
      "metadata": {
        "id": "56b8fe64"
      },
      "source": [
        "Сделаем несколько обучений нашей модели, но при разделении укажем параметр shufle. Будем перемешивать каждый раз данные"
      ]
    },
    {
      "cell_type": "code",
      "execution_count": null,
      "id": "87b787a3",
      "metadata": {
        "id": "87b787a3"
      },
      "outputs": [],
      "source": [
        "acc_list, acc_list2 = [], []\n",
        "model = DecisionTreeClassifier()\n",
        "model2 = DecisionTreeClassifier()\n",
        "\n",
        "for i in range(50):\n",
        "    x_train, x_test, y_train, y_test = train_test_split(x, y, test_size=0.3, random_state=42, shuffle=True)\n",
        "\n",
        "    model.fit(x_train, y_train)\n",
        "    model2.fit(x_train, y_train)\n",
        "\n",
        "    predicted_test = model.predict(x_test)\n",
        "    predicted_test2 = model2.predict(x_test)\n",
        "\n",
        "    acc_list.append(accuracy_score(y_test, predicted_test))\n",
        "    acc_list2.append(accuracy_score(y_test, predicted_test2))"
      ]
    },
    {
      "cell_type": "code",
      "execution_count": null,
      "id": "a90f60ea",
      "metadata": {
        "colab": {
          "base_uri": "https://localhost:8080/"
        },
        "id": "a90f60ea",
        "outputId": "53ad6797-ac85-4a43-85ed-85addc8aeed4"
      },
      "outputs": [
        {
          "output_type": "execute_result",
          "data": {
            "text/plain": [
              "(0.9298245614035088, 0.007669518741873683)"
            ]
          },
          "metadata": {},
          "execution_count": 32
        }
      ],
      "source": [
        "np.mean(acc_list), np.std(acc_list)"
      ]
    },
    {
      "cell_type": "code",
      "execution_count": null,
      "id": "8bae83b0",
      "metadata": {
        "colab": {
          "base_uri": "https://localhost:8080/"
        },
        "id": "8bae83b0",
        "outputId": "e2f531f5-4ba0-4f05-e7c0-21925c4e4738"
      },
      "outputs": [
        {
          "output_type": "execute_result",
          "data": {
            "text/plain": [
              "(0.9313450292397658, 0.007471661405232489)"
            ]
          },
          "metadata": {},
          "execution_count": 33
        }
      ],
      "source": [
        "np.mean(acc_list2), np.std(acc_list2)"
      ]
    },
    {
      "cell_type": "code",
      "execution_count": null,
      "id": "168ff6e7",
      "metadata": {
        "id": "168ff6e7"
      },
      "outputs": [],
      "source": [
        "from sklearn.ensemble import RandomForestClassifier"
      ]
    },
    {
      "cell_type": "code",
      "execution_count": null,
      "id": "b8143a8e",
      "metadata": {
        "colab": {
          "base_uri": "https://localhost:8080/"
        },
        "id": "b8143a8e",
        "outputId": "e8c7777e-e6e4-435e-a82d-25ef4032ea2d"
      },
      "outputs": [
        {
          "output_type": "execute_result",
          "data": {
            "text/plain": [
              "((398, 30), (171, 30))"
            ]
          },
          "metadata": {},
          "execution_count": 35
        }
      ],
      "source": [
        "x_train, x_test, y_train, y_test = train_test_split(x, y, test_size=0.3, random_state=42)\n",
        "x_train.shape, x_test.shape"
      ]
    },
    {
      "cell_type": "code",
      "execution_count": null,
      "id": "1acbac03",
      "metadata": {
        "scrolled": true,
        "colab": {
          "base_uri": "https://localhost:8080/",
          "height": 75
        },
        "id": "1acbac03",
        "outputId": "66622c6f-037b-4fc4-8489-95f1618e9ad0"
      },
      "outputs": [
        {
          "output_type": "execute_result",
          "data": {
            "text/plain": [
              "RandomForestClassifier()"
            ],
            "text/html": [
              "<style>#sk-container-id-2 {color: black;background-color: white;}#sk-container-id-2 pre{padding: 0;}#sk-container-id-2 div.sk-toggleable {background-color: white;}#sk-container-id-2 label.sk-toggleable__label {cursor: pointer;display: block;width: 100%;margin-bottom: 0;padding: 0.3em;box-sizing: border-box;text-align: center;}#sk-container-id-2 label.sk-toggleable__label-arrow:before {content: \"▸\";float: left;margin-right: 0.25em;color: #696969;}#sk-container-id-2 label.sk-toggleable__label-arrow:hover:before {color: black;}#sk-container-id-2 div.sk-estimator:hover label.sk-toggleable__label-arrow:before {color: black;}#sk-container-id-2 div.sk-toggleable__content {max-height: 0;max-width: 0;overflow: hidden;text-align: left;background-color: #f0f8ff;}#sk-container-id-2 div.sk-toggleable__content pre {margin: 0.2em;color: black;border-radius: 0.25em;background-color: #f0f8ff;}#sk-container-id-2 input.sk-toggleable__control:checked~div.sk-toggleable__content {max-height: 200px;max-width: 100%;overflow: auto;}#sk-container-id-2 input.sk-toggleable__control:checked~label.sk-toggleable__label-arrow:before {content: \"▾\";}#sk-container-id-2 div.sk-estimator input.sk-toggleable__control:checked~label.sk-toggleable__label {background-color: #d4ebff;}#sk-container-id-2 div.sk-label input.sk-toggleable__control:checked~label.sk-toggleable__label {background-color: #d4ebff;}#sk-container-id-2 input.sk-hidden--visually {border: 0;clip: rect(1px 1px 1px 1px);clip: rect(1px, 1px, 1px, 1px);height: 1px;margin: -1px;overflow: hidden;padding: 0;position: absolute;width: 1px;}#sk-container-id-2 div.sk-estimator {font-family: monospace;background-color: #f0f8ff;border: 1px dotted black;border-radius: 0.25em;box-sizing: border-box;margin-bottom: 0.5em;}#sk-container-id-2 div.sk-estimator:hover {background-color: #d4ebff;}#sk-container-id-2 div.sk-parallel-item::after {content: \"\";width: 100%;border-bottom: 1px solid gray;flex-grow: 1;}#sk-container-id-2 div.sk-label:hover label.sk-toggleable__label {background-color: #d4ebff;}#sk-container-id-2 div.sk-serial::before {content: \"\";position: absolute;border-left: 1px solid gray;box-sizing: border-box;top: 0;bottom: 0;left: 50%;z-index: 0;}#sk-container-id-2 div.sk-serial {display: flex;flex-direction: column;align-items: center;background-color: white;padding-right: 0.2em;padding-left: 0.2em;position: relative;}#sk-container-id-2 div.sk-item {position: relative;z-index: 1;}#sk-container-id-2 div.sk-parallel {display: flex;align-items: stretch;justify-content: center;background-color: white;position: relative;}#sk-container-id-2 div.sk-item::before, #sk-container-id-2 div.sk-parallel-item::before {content: \"\";position: absolute;border-left: 1px solid gray;box-sizing: border-box;top: 0;bottom: 0;left: 50%;z-index: -1;}#sk-container-id-2 div.sk-parallel-item {display: flex;flex-direction: column;z-index: 1;position: relative;background-color: white;}#sk-container-id-2 div.sk-parallel-item:first-child::after {align-self: flex-end;width: 50%;}#sk-container-id-2 div.sk-parallel-item:last-child::after {align-self: flex-start;width: 50%;}#sk-container-id-2 div.sk-parallel-item:only-child::after {width: 0;}#sk-container-id-2 div.sk-dashed-wrapped {border: 1px dashed gray;margin: 0 0.4em 0.5em 0.4em;box-sizing: border-box;padding-bottom: 0.4em;background-color: white;}#sk-container-id-2 div.sk-label label {font-family: monospace;font-weight: bold;display: inline-block;line-height: 1.2em;}#sk-container-id-2 div.sk-label-container {text-align: center;}#sk-container-id-2 div.sk-container {/* jupyter's `normalize.less` sets `[hidden] { display: none; }` but bootstrap.min.css set `[hidden] { display: none !important; }` so we also need the `!important` here to be able to override the default hidden behavior on the sphinx rendered scikit-learn.org. See: https://github.com/scikit-learn/scikit-learn/issues/21755 */display: inline-block !important;position: relative;}#sk-container-id-2 div.sk-text-repr-fallback {display: none;}</style><div id=\"sk-container-id-2\" class=\"sk-top-container\"><div class=\"sk-text-repr-fallback\"><pre>RandomForestClassifier()</pre><b>In a Jupyter environment, please rerun this cell to show the HTML representation or trust the notebook. <br />On GitHub, the HTML representation is unable to render, please try loading this page with nbviewer.org.</b></div><div class=\"sk-container\" hidden><div class=\"sk-item\"><div class=\"sk-estimator sk-toggleable\"><input class=\"sk-toggleable__control sk-hidden--visually\" id=\"sk-estimator-id-2\" type=\"checkbox\" checked><label for=\"sk-estimator-id-2\" class=\"sk-toggleable__label sk-toggleable__label-arrow\">RandomForestClassifier</label><div class=\"sk-toggleable__content\"><pre>RandomForestClassifier()</pre></div></div></div></div></div>"
            ]
          },
          "metadata": {},
          "execution_count": 36
        }
      ],
      "source": [
        "model = RandomForestClassifier()\n",
        "model.fit(x_train, y_train)"
      ]
    },
    {
      "cell_type": "code",
      "execution_count": null,
      "id": "67852ffc",
      "metadata": {
        "colab": {
          "base_uri": "https://localhost:8080/"
        },
        "id": "67852ffc",
        "outputId": "6be47623-af75-4b81-943a-293e63328487"
      },
      "outputs": [
        {
          "output_type": "execute_result",
          "data": {
            "text/plain": [
              "(array([1., 1., 1., 1., 1., 0., 1., 1., 1., 1., 1., 1., 0., 0., 0., 1., 1.,\n",
              "        0., 1., 0., 1., 1., 1., 1., 0., 1., 1., 0., 1., 1., 1., 0., 1., 0.,\n",
              "        0., 1., 1., 1., 0., 1., 1., 1., 1., 0., 1., 1., 1., 1., 1., 0., 1.,\n",
              "        0., 0., 1., 1., 0., 1., 1., 1., 1., 1., 1., 1., 0., 0., 0., 1., 1.,\n",
              "        0., 1., 1., 0., 1., 0., 1., 0., 1., 0., 1., 1., 0., 1., 1., 1., 0.,\n",
              "        1., 0., 1., 0., 1., 0., 1., 1., 0., 1., 1., 1., 1., 0., 1., 1., 1.,\n",
              "        0., 1., 1., 0., 1., 1., 0., 1., 1., 1., 1., 1., 1., 1., 0., 1., 1.,\n",
              "        1., 0., 1., 0., 1., 1., 1., 0., 1., 0., 0., 1., 1., 0., 1., 0., 0.,\n",
              "        0., 1., 1., 1., 0., 1., 1., 0., 1., 0., 1., 1., 1., 0., 1., 0., 1.,\n",
              "        1., 0., 0., 1., 1., 0., 1., 0., 0., 1., 0., 0., 1., 1., 0., 0., 0.,\n",
              "        1., 1., 1., 1., 0., 1., 0., 0., 0., 0., 1., 1., 1., 1., 1., 1., 1.,\n",
              "        1., 0., 0., 1., 1., 0., 1., 1., 1., 1., 1., 0., 1., 1., 0., 0., 1.,\n",
              "        0., 1., 0., 1., 1., 1., 1., 1., 1., 0., 1., 1., 0., 1., 1., 1., 1.,\n",
              "        1., 1., 0., 1., 1., 0., 1., 0., 0., 0., 1., 0., 1., 1., 0., 0., 0.,\n",
              "        1., 1., 1., 1., 1., 1., 1., 0., 1., 1., 1., 0., 1., 1., 0., 0., 1.,\n",
              "        0., 1., 0., 0., 1., 1., 0., 1., 0., 0., 1., 0., 0., 1., 1., 0., 1.,\n",
              "        0., 1., 1., 0., 1., 1., 0., 0., 0., 1., 1., 1., 0., 0., 1., 0., 0.,\n",
              "        1., 1., 1., 0., 1., 0., 0., 0., 0., 1., 1., 0., 1., 1., 0., 0., 0.,\n",
              "        0., 0., 0., 1., 1., 1., 1., 1., 1., 1., 0., 0., 0., 0., 1., 1., 1.,\n",
              "        1., 0., 1., 0., 1., 1., 1., 1., 1., 0., 0., 0., 1., 1., 0., 1., 1.,\n",
              "        0., 0., 0., 0., 1., 1., 0., 0., 1., 1., 1., 0., 0., 0., 1., 1., 0.,\n",
              "        1., 1., 1., 1., 0., 1., 1., 1., 1., 1., 1., 1., 1., 1., 0., 1., 1.,\n",
              "        1., 1., 1., 1., 0., 1., 1., 0., 1., 1., 0., 0., 0., 1., 0., 0., 1.,\n",
              "        0., 1., 1., 1., 1., 0., 1.]),\n",
              " array([1., 0., 0., 1., 1., 0., 0., 0., 0., 1., 1., 0., 1., 0., 1., 0., 1.,\n",
              "        1., 1., 0., 1., 1., 0., 1., 1., 1., 1., 1., 1., 0., 1., 1., 1., 1.,\n",
              "        1., 1., 0., 1., 0., 1., 1., 0., 1., 1., 1., 1., 1., 1., 1., 1., 0.,\n",
              "        0., 1., 1., 1., 1., 1., 0., 0., 1., 1., 0., 0., 1., 1., 1., 0., 0.,\n",
              "        1., 1., 0., 0., 1., 0., 1., 1., 1., 1., 1., 1., 0., 1., 1., 0., 0.,\n",
              "        0., 0., 0., 1., 1., 1., 1., 1., 1., 1., 1., 0., 0., 1., 0., 0., 1.,\n",
              "        0., 0., 1., 1., 1., 0., 1., 1., 0., 1., 1., 0., 1., 0., 1., 1., 1.,\n",
              "        0., 1., 1., 1., 0., 1., 0., 0., 1., 1., 0., 0., 0., 1., 1., 1., 0.,\n",
              "        1., 1., 1., 0., 1., 0., 1., 1., 0., 1., 0., 0., 0., 1., 0., 1., 1.,\n",
              "        1., 1., 0., 0., 1., 1., 1., 1., 1., 1., 1., 0., 1., 1., 1., 1., 0.,\n",
              "        1.]))"
            ]
          },
          "metadata": {},
          "execution_count": 37
        }
      ],
      "source": [
        "predicted_train = model.predict(x_train)\n",
        "predicted_test = model.predict(x_test)\n",
        "predicted_train, predicted_test"
      ]
    },
    {
      "cell_type": "code",
      "execution_count": null,
      "id": "137a8258",
      "metadata": {
        "colab": {
          "base_uri": "https://localhost:8080/"
        },
        "id": "137a8258",
        "outputId": "b50f94ac-a669-4acb-ec41-13adef7e11bf"
      },
      "outputs": [
        {
          "output_type": "execute_result",
          "data": {
            "text/plain": [
              "(1.0, 0.9766081871345029)"
            ]
          },
          "metadata": {},
          "execution_count": 38
        }
      ],
      "source": [
        "accuracy_score(y_train, predicted_train), accuracy_score(y_test, predicted_test)"
      ]
    },
    {
      "cell_type": "code",
      "execution_count": null,
      "id": "0577d025",
      "metadata": {
        "scrolled": false,
        "colab": {
          "base_uri": "https://localhost:8080/"
        },
        "id": "0577d025",
        "outputId": "3d81493f-43b8-4ff2-a8d2-d45b0dda2225"
      },
      "outputs": [
        {
          "output_type": "execute_result",
          "data": {
            "text/plain": [
              "(array([[ 60,   3],\n",
              "        [  1, 107]]),\n",
              " 0.9727272727272728,\n",
              " 0.9907407407407407)"
            ]
          },
          "metadata": {},
          "execution_count": 39
        }
      ],
      "source": [
        "confusion_matrix(y_test, predicted_test), precision_score(y_test, predicted_test), recall_score(y_test, predicted_test)"
      ]
    },
    {
      "cell_type": "markdown",
      "id": "180c4233",
      "metadata": {
        "id": "180c4233"
      },
      "source": [
        "# k-NN"
      ]
    },
    {
      "cell_type": "markdown",
      "id": "a93b2385",
      "metadata": {
        "id": "a93b2385"
      },
      "source": [
        "Метод ближайших соседей (k-nearest neighbors algorithm, k-NN) - Метод k-ближайших соседей используется для решения задачи классификации. Он относит объекты к классу, которому принадлежит большинство из k его ближайших соседей в многомерном пространстве признаков. Число k - это количество соседних объектов в пространстве признаков, которые сравниваются с классифицируемым объектом. Иными словами, если k=10, то каждый объект сравнивается с 10-ю соседями\n",
        "\n",
        "![image.png](attachment:image.png)"
      ]
    },
    {
      "cell_type": "markdown",
      "id": "21602bf5",
      "metadata": {
        "id": "21602bf5"
      },
      "source": [
        "## Есть два объекта, описанных десятью признаками. Нужно определить, к какому объекту - А или В - ближе объект X. Для этого:\n",
        "\n",
        "1. рассчитайте евклидово расстояние между объектами A/B и Х.\n",
        "2. определите, какой объект ближе и сделайте выводы.\n",
        "\n",
        "![image.png](attachment:image.png)"
      ]
    },
    {
      "cell_type": "code",
      "execution_count": null,
      "id": "79bdbb3b",
      "metadata": {
        "id": "79bdbb3b"
      },
      "outputs": [],
      "source": [
        "A = [2, 1, 2, 1, 2, 1, 2, 1, 10, 10]\n",
        "B = [3, 2, 5, 2, 2, 5, 4, 5, 6, 1]\n",
        "X = [2, 2, 2, 2, 2, 2, 2, 2, 2, 2]"
      ]
    },
    {
      "cell_type": "code",
      "execution_count": null,
      "id": "85e0bcc2",
      "metadata": {
        "id": "85e0bcc2"
      },
      "outputs": [],
      "source": [
        "# code"
      ]
    },
    {
      "cell_type": "markdown",
      "id": "7feccf5e",
      "metadata": {
        "id": "7feccf5e"
      },
      "source": [
        "Посмотрим на распределение классов в тесте, есть пересечения, но группы разделимы"
      ]
    },
    {
      "cell_type": "code",
      "execution_count": null,
      "id": "0a2ae1d0",
      "metadata": {
        "colab": {
          "base_uri": "https://localhost:8080/",
          "height": 445
        },
        "id": "0a2ae1d0",
        "outputId": "c59136dc-70e2-4b60-ec6c-8139928d657e"
      },
      "outputs": [
        {
          "output_type": "display_data",
          "data": {
            "text/plain": [
              "<Figure size 1000x500 with 1 Axes>"
            ],
            "image/png": "[encoded data removed]"
          },
          "metadata": {}
        }
      ],
      "source": [
        "f, ax1 = plt.subplots(1, figsize=(10,5))\n",
        "ax1.scatter(x_test[\"mean concave points\"], x_test[\"worst texture\"], c=y_test);"
      ]
    },
    {
      "cell_type": "code",
      "execution_count": null,
      "id": "0c59ccd0",
      "metadata": {
        "id": "0c59ccd0"
      },
      "outputs": [],
      "source": [
        "from sklearn.neighbors import KNeighborsClassifier"
      ]
    },
    {
      "cell_type": "code",
      "execution_count": null,
      "id": "024de4cc",
      "metadata": {
        "scrolled": true,
        "colab": {
          "base_uri": "https://localhost:8080/",
          "height": 52
        },
        "id": "024de4cc",
        "outputId": "2efca116-0bd8-423a-adce-4282301193c0"
      },
      "outputs": [
        {
          "output_type": "execute_result",
          "data": {
            "text/plain": [
              "KNeighborsClassifier()"
            ],
            "text/html": [
              "<style>#sk-container-id-3 {color: black;background-color: white;}#sk-container-id-3 pre{padding: 0;}#sk-container-id-3 div.sk-toggleable {background-color: white;}#sk-container-id-3 label.sk-toggleable__label {cursor: pointer;display: block;width: 100%;margin-bottom: 0;padding: 0.3em;box-sizing: border-box;text-align: center;}#sk-container-id-3 label.sk-toggleable__label-arrow:before {content: \"▸\";float: left;margin-right: 0.25em;color: #696969;}#sk-container-id-3 label.sk-toggleable__label-arrow:hover:before {color: black;}#sk-container-id-3 div.sk-estimator:hover label.sk-toggleable__label-arrow:before {color: black;}#sk-container-id-3 div.sk-toggleable__content {max-height: 0;max-width: 0;overflow: hidden;text-align: left;background-color: #f0f8ff;}#sk-container-id-3 div.sk-toggleable__content pre {margin: 0.2em;color: black;border-radius: 0.25em;background-color: #f0f8ff;}#sk-container-id-3 input.sk-toggleable__control:checked~div.sk-toggleable__content {max-height: 200px;max-width: 100%;overflow: auto;}#sk-container-id-3 input.sk-toggleable__control:checked~label.sk-toggleable__label-arrow:before {content: \"▾\";}#sk-container-id-3 div.sk-estimator input.sk-toggleable__control:checked~label.sk-toggleable__label {background-color: #d4ebff;}#sk-container-id-3 div.sk-label input.sk-toggleable__control:checked~label.sk-toggleable__label {background-color: #d4ebff;}#sk-container-id-3 input.sk-hidden--visually {border: 0;clip: rect(1px 1px 1px 1px);clip: rect(1px, 1px, 1px, 1px);height: 1px;margin: -1px;overflow: hidden;padding: 0;position: absolute;width: 1px;}#sk-container-id-3 div.sk-estimator {font-family: monospace;background-color: #f0f8ff;border: 1px dotted black;border-radius: 0.25em;box-sizing: border-box;margin-bottom: 0.5em;}#sk-container-id-3 div.sk-estimator:hover {background-color: #d4ebff;}#sk-container-id-3 div.sk-parallel-item::after {content: \"\";width: 100%;border-bottom: 1px solid gray;flex-grow: 1;}#sk-container-id-3 div.sk-label:hover label.sk-toggleable__label {background-color: #d4ebff;}#sk-container-id-3 div.sk-serial::before {content: \"\";position: absolute;border-left: 1px solid gray;box-sizing: border-box;top: 0;bottom: 0;left: 50%;z-index: 0;}#sk-container-id-3 div.sk-serial {display: flex;flex-direction: column;align-items: center;background-color: white;padding-right: 0.2em;padding-left: 0.2em;position: relative;}#sk-container-id-3 div.sk-item {position: relative;z-index: 1;}#sk-container-id-3 div.sk-parallel {display: flex;align-items: stretch;justify-content: center;background-color: white;position: relative;}#sk-container-id-3 div.sk-item::before, #sk-container-id-3 div.sk-parallel-item::before {content: \"\";position: absolute;border-left: 1px solid gray;box-sizing: border-box;top: 0;bottom: 0;left: 50%;z-index: -1;}#sk-container-id-3 div.sk-parallel-item {display: flex;flex-direction: column;z-index: 1;position: relative;background-color: white;}#sk-container-id-3 div.sk-parallel-item:first-child::after {align-self: flex-end;width: 50%;}#sk-container-id-3 div.sk-parallel-item:last-child::after {align-self: flex-start;width: 50%;}#sk-container-id-3 div.sk-parallel-item:only-child::after {width: 0;}#sk-container-id-3 div.sk-dashed-wrapped {border: 1px dashed gray;margin: 0 0.4em 0.5em 0.4em;box-sizing: border-box;padding-bottom: 0.4em;background-color: white;}#sk-container-id-3 div.sk-label label {font-family: monospace;font-weight: bold;display: inline-block;line-height: 1.2em;}#sk-container-id-3 div.sk-label-container {text-align: center;}#sk-container-id-3 div.sk-container {/* jupyter's `normalize.less` sets `[hidden] { display: none; }` but bootstrap.min.css set `[hidden] { display: none !important; }` so we also need the `!important` here to be able to override the default hidden behavior on the sphinx rendered scikit-learn.org. See: https://github.com/scikit-learn/scikit-learn/issues/21755 */display: inline-block !important;position: relative;}#sk-container-id-3 div.sk-text-repr-fallback {display: none;}</style><div id=\"sk-container-id-3\" class=\"sk-top-container\"><div class=\"sk-text-repr-fallback\"><pre>KNeighborsClassifier()</pre><b>In a Jupyter environment, please rerun this cell to show the HTML representation or trust the notebook. <br />On GitHub, the HTML representation is unable to render, please try loading this page with nbviewer.org.</b></div><div class=\"sk-container\" hidden><div class=\"sk-item\"><div class=\"sk-estimator sk-toggleable\"><input class=\"sk-toggleable__control sk-hidden--visually\" id=\"sk-estimator-id-3\" type=\"checkbox\" checked><label for=\"sk-estimator-id-3\" class=\"sk-toggleable__label sk-toggleable__label-arrow\">KNeighborsClassifier</label><div class=\"sk-toggleable__content\"><pre>KNeighborsClassifier()</pre></div></div></div></div></div>"
            ]
          },
          "metadata": {},
          "execution_count": 45
        }
      ],
      "source": [
        "model = KNeighborsClassifier()\n",
        "model.fit(x_train, y_train)"
      ]
    },
    {
      "cell_type": "code",
      "execution_count": null,
      "id": "6f205568",
      "metadata": {
        "id": "6f205568"
      },
      "outputs": [],
      "source": [
        "predicted_train = model.predict(x_train)\n",
        "predicted_test = model.predict(x_test)"
      ]
    },
    {
      "cell_type": "code",
      "execution_count": null,
      "id": "6959e93f",
      "metadata": {
        "colab": {
          "base_uri": "https://localhost:8080/"
        },
        "id": "6959e93f",
        "outputId": "9489d13b-fcc3-474a-d6bc-c73fa04b9715"
      },
      "outputs": [
        {
          "output_type": "execute_result",
          "data": {
            "text/plain": [
              "0.9590643274853801"
            ]
          },
          "metadata": {},
          "execution_count": 47
        }
      ],
      "source": [
        "accuracy_score(y_test, predicted_test)"
      ]
    },
    {
      "cell_type": "code",
      "execution_count": null,
      "id": "0907a60a",
      "metadata": {
        "scrolled": false,
        "colab": {
          "base_uri": "https://localhost:8080/"
        },
        "id": "0907a60a",
        "outputId": "d110fdb2-3c3a-4638-cb05-25bf457dd413"
      },
      "outputs": [
        {
          "output_type": "execute_result",
          "data": {
            "text/plain": [
              "(array([[ 57,   6],\n",
              "        [  1, 107]]),\n",
              " 0.9469026548672567,\n",
              " 0.9907407407407407)"
            ]
          },
          "metadata": {},
          "execution_count": 48
        }
      ],
      "source": [
        "confusion_matrix(y_test, predicted_test), precision_score(y_test, predicted_test), recall_score(y_test, predicted_test)"
      ]
    },
    {
      "cell_type": "markdown",
      "id": "de89fa56",
      "metadata": {
        "id": "de89fa56"
      },
      "source": [
        "## Найдите оптимальное количество соседей (до 15)"
      ]
    },
    {
      "cell_type": "code",
      "execution_count": null,
      "id": "c452c0e2",
      "metadata": {
        "colab": {
          "base_uri": "https://localhost:8080/",
          "height": 264
        },
        "id": "c452c0e2",
        "outputId": "32dbbba3-61e0-4df4-feb4-6c11b7b37c90"
      },
      "outputs": [
        {
          "output_type": "error",
          "ename": "NameError",
          "evalue": "ignored",
          "traceback": [
            "\u001b[0;31m---------------------------------------------------------------------------\u001b[0m",
            "\u001b[0;31mNameError\u001b[0m                                 Traceback (most recent call last)",
            "\u001b[0;32m<ipython-input-1-d1f3fdaf5e29>\u001b[0m in \u001b[0;36m<cell line: 8>\u001b[0;34m()\u001b[0m\n\u001b[1;32m      6\u001b[0m \u001b[0;32mimport\u001b[0m \u001b[0mmatplotlib\u001b[0m\u001b[0;34m.\u001b[0m\u001b[0mpyplot\u001b[0m \u001b[0;32mas\u001b[0m \u001b[0mplt\u001b[0m\u001b[0;34m\u001b[0m\u001b[0;34m\u001b[0m\u001b[0m\n\u001b[1;32m      7\u001b[0m \u001b[0;34m\u001b[0m\u001b[0m\n\u001b[0;32m----> 8\u001b[0;31m \u001b[0mx_train\u001b[0m\u001b[0;34m,\u001b[0m \u001b[0mx_test\u001b[0m\u001b[0;34m,\u001b[0m \u001b[0my_train\u001b[0m\u001b[0;34m,\u001b[0m \u001b[0my_test\u001b[0m \u001b[0;34m=\u001b[0m \u001b[0mtrain_test_split\u001b[0m\u001b[0;34m(\u001b[0m\u001b[0mx\u001b[0m\u001b[0;34m,\u001b[0m \u001b[0my\u001b[0m\u001b[0;34m,\u001b[0m \u001b[0mtest_size\u001b[0m\u001b[0;34m=\u001b[0m\u001b[0;36m0.3\u001b[0m\u001b[0;34m,\u001b[0m \u001b[0mrandom_state\u001b[0m\u001b[0;34m=\u001b[0m\u001b[0;36m42\u001b[0m\u001b[0;34m)\u001b[0m\u001b[0;34m\u001b[0m\u001b[0;34m\u001b[0m\u001b[0m\n\u001b[0m\u001b[1;32m      9\u001b[0m \u001b[0mx_train\u001b[0m\u001b[0;34m.\u001b[0m\u001b[0mshape\u001b[0m\u001b[0;34m,\u001b[0m \u001b[0mx_test\u001b[0m\u001b[0;34m.\u001b[0m\u001b[0mshape\u001b[0m\u001b[0;34m\u001b[0m\u001b[0;34m\u001b[0m\u001b[0m\n\u001b[1;32m     10\u001b[0m \u001b[0;34m\u001b[0m\u001b[0m\n",
            "\u001b[0;31mNameError\u001b[0m: name 'x' is not defined"
          ]
        }
      ],
      "source": [
        "# code\n",
        "from sklearn.neighbors import KNeighborsClassifier\n",
        "from sklearn.model_selection import train_test_split\n",
        "from sklearn.metrics import accuracy_score\n",
        "import numpy as np\n",
        "import matplotlib.pyplot as plt\n",
        "\n",
        "x_train, x_test, y_train, y_test = train_test_split(x, y, test_size=0.3, random_state=42)\n",
        "x_train.shape, x_test.shape\n",
        "\n",
        "neighbors = np.arange(1, 16)\n",
        "accuracy_scores = []\n",
        "\n",
        "for k in neighbors:\n",
        "    # Создать модель KNN с параметром n_neighbors = k\n",
        "    knn = KNeighborsClassifier(n_neighbors=k)\n",
        "\n",
        "    # Обучить модель на обучающей выборке\n",
        "    knn.fit(x_train, y_train)\n",
        "\n",
        "    # Получить предсказания модели для тестовой выборки\n",
        "    y_pred = knn.predict(x_test)\n",
        "\n",
        "    # Вычислить и добавить в список точность модели\n",
        "    accuracy_scores.append(accuracy_score(y_test, y_pred))\n",
        "\n",
        "# Построить график точности модели от количества соседей\n",
        "plt.plot(neighbors, accuracy_scores, '-o')\n",
        "plt.xlabel('Number of Neighbors (k)')\n",
        "plt.ylabel('Accuracy')\n",
        "plt.title('KNN Accuracy')\n",
        "plt.xticks(neighbors)\n",
        "plt.show()\n",
        "\n",
        "# Найти индекс максимального значения точности\n",
        "max_index = np.argmax(accuracy_scores)\n",
        "\n",
        "# Получить оптимальное количество соседей\n",
        "optimal_neighbors = neighbors[max_index]\n",
        "\n",
        "# Вывести оптимальное количество соседей и соответствующую точность модели\n",
        "print(\"Optimal number of neighbors:\", optimal_neighbors)\n",
        "print(\"Accuracy with optimal number of neighbors:\", accuracy_scores[max_index])"
      ]
    },
    {
      "cell_type": "markdown",
      "id": "dbe18b2d",
      "metadata": {
        "id": "dbe18b2d"
      },
      "source": [
        "# Логистическая регрессия"
      ]
    },
    {
      "cell_type": "markdown",
      "id": "d6cf2492",
      "metadata": {
        "id": "d6cf2492"
      },
      "source": [
        "Логистическая регрессия схожа с линейной, за исключением того факта, что вместо вычисления значения у, она оценивает к какой категории принадлежит точка данных. Логистическая регрессия хорошо подходит для решения задач двоичной классификации - назначая разным категориям значения 0 и 1 соответственно"
      ]
    },
    {
      "cell_type": "markdown",
      "id": "b1d25c98",
      "metadata": {
        "id": "b1d25c98"
      },
      "source": [
        "По опыту построения предыдущих моделей, постройте модель логистической регрессии. Посчитайте confusion matrix, accuracy, precision и recall. Тюнингуя параметр C (от 0.05 до 5 с шагом 0.1), найдите наилучшую точность на тесте\n",
        "\n",
        "C (C Regularization Parameter) - это параметр штрафования или неверной классификации. За каждую ошибку модель штрафуется, что может увеличить эффективность, но и увеличить переобучение"
      ]
    },
    {
      "cell_type": "code",
      "execution_count": null,
      "id": "c578410c",
      "metadata": {
        "id": "c578410c"
      },
      "outputs": [],
      "source": [
        "from sklearn.linear_model import LogisticRegression"
      ]
    },
    {
      "cell_type": "code",
      "execution_count": null,
      "id": "fb0d5b87",
      "metadata": {
        "colab": {
          "base_uri": "https://localhost:8080/"
        },
        "id": "fb0d5b87",
        "outputId": "cbd39640-0105-45f5-e157-5c6bae963500"
      },
      "outputs": [
        {
          "output_type": "stream",
          "name": "stdout",
          "text": [
            "Значение С с наибольшей точностью модели: 4.950000000000001 Наибольшая точность модели: 0.9649122807017544\n"
          ]
        }
      ],
      "source": [
        "# code\n",
        "from sklearn.linear_model import LogisticRegression\n",
        "C_values = np.arange(0.05, 5, 0.1)\n",
        "accuracy_scores =[]\n",
        "\n",
        "x_train, x_test, y_train, y_test = train_test_split(x, y, test_size=0.3, random_state=42)\n",
        "x_train.shape, x_test.shape\n",
        "\n",
        "for C in C_values:\n",
        "    # Создание модели и обучение на тренировочных данных\n",
        "    model = LogisticRegression(C=C)\n",
        "    model.fit(x_train, y_train)\n",
        "\n",
        "# Предсказание на тестовых данных\n",
        "    x_pred_test = model.predict(x_test)\n",
        "    #print(x_pred_test)\n",
        "\n",
        "# Расчет метрик оценки модели\n",
        "    accuracy = accuracy_score(y_test, x_pred_test)\n",
        "    precision = precision_score(y_test, x_pred_test)\n",
        "    recall = recall_score(y_test, x_pred_test)\n",
        "    confusion = confusion_matrix(y_test, x_pred_test)\n",
        "\n",
        "# Обновление списка с точностью модели на данной итерации\n",
        "    accuracy_scores.append(accuracy)\n",
        "\n",
        "# Создание списка из пар значений С и значений точности\n",
        "best_list = list(zip(C_values, accuracy_scores))\n",
        "\n",
        "#Получение наибольшего значения из списка и его индекса\n",
        "max_value = max(best_list)\n",
        "max_index = best_list.index(max_value)\n",
        "print('Значение С с наибольшей точностью модели:', best_list[max_index][0], 'Наибольшая точность модели:', best_list[max_index][1] )"
      ]
    },
    {
      "cell_type": "markdown",
      "id": "d3f2f677",
      "metadata": {
        "id": "d3f2f677"
      },
      "source": [
        "## Нейронная сеть"
      ]
    },
    {
      "cell_type": "markdown",
      "id": "1da5ed3d",
      "metadata": {
        "id": "1da5ed3d"
      },
      "source": [
        "Искусственная нейронная сеть — это математическая модель, созданная по подобию биологических нейронных сетей. На входной слой нейронов поступает некая информация, которая по синапсам переходит на следующий слой. При этом каждый синапс обладает собственным коэффициентным весом, а любой следующий нейрон в новом слое может иметь несколько входов. Информация передается дальше до тех пор, пока не дойдет до конечного выхода\n",
        "\n",
        "Модель узнает, какие связи между нейронами важны для успешного прогнозирования во время обучения. На каждом этапе тренировки сеть использует математическую функцию, чтобы определить, насколько точным был ее последний прогноз по сравнению с ожидаемым.\n",
        "\n",
        "Эта функция генерирует серию значений ошибок, которые могут использоваться системой для расчета того, как модель должна обновлять значение весов, прикрепленных к каждой ссылке, с конечной целью повышения точности прогнозов сети."
      ]
    },
    {
      "cell_type": "code",
      "execution_count": null,
      "id": "976699db",
      "metadata": {
        "id": "976699db"
      },
      "outputs": [],
      "source": [
        "from sklearn.neural_network import MLPClassifier\n"
      ]
    },
    {
      "cell_type": "code",
      "execution_count": null,
      "metadata": {
        "id": "Af0JrLC2LhE5"
      },
      "outputs": [],
      "source": [
        "# code"
      ],
      "id": "Af0JrLC2LhE5"
    },
    {
      "cell_type": "code",
      "execution_count": null,
      "id": "d540abdd",
      "metadata": {
        "id": "d540abdd",
        "outputId": "da577bc0-6831-4306-bb63-6e6008656bd0",
        "colab": {
          "base_uri": "https://localhost:8080/"
        }
      },
      "outputs": [
        {
          "output_type": "execute_result",
          "data": {
            "text/plain": [
              "{'activation': 'relu',\n",
              " 'alpha': 0.0001,\n",
              " 'batch_size': 'auto',\n",
              " 'beta_1': 0.9,\n",
              " 'beta_2': 0.999,\n",
              " 'early_stopping': False,\n",
              " 'epsilon': 1e-08,\n",
              " 'hidden_layer_sizes': (100,),\n",
              " 'learning_rate': 'constant',\n",
              " 'learning_rate_init': 0.001,\n",
              " 'max_fun': 15000,\n",
              " 'max_iter': 200,\n",
              " 'momentum': 0.9,\n",
              " 'n_iter_no_change': 10,\n",
              " 'nesterovs_momentum': True,\n",
              " 'power_t': 0.5,\n",
              " 'random_state': None,\n",
              " 'shuffle': True,\n",
              " 'solver': 'adam',\n",
              " 'tol': 0.0001,\n",
              " 'validation_fraction': 0.1,\n",
              " 'verbose': False,\n",
              " 'warm_start': False}"
            ]
          },
          "metadata": {},
          "execution_count": 2
        }
      ],
      "source": [
        "ml = MLPClassifier()\n",
        "ml.get_params()"
      ]
    },
    {
      "cell_type": "code",
      "execution_count": null,
      "id": "18bd820d",
      "metadata": {
        "id": "18bd820d"
      },
      "outputs": [],
      "source": [
        "ml.fit(x_train, y_train)\n",
        "predicted_test_ml = ml.predict(x_test)"
      ]
    },
    {
      "cell_type": "code",
      "execution_count": null,
      "id": "8ff8dac8",
      "metadata": {
        "id": "8ff8dac8",
        "outputId": "b8f20701-f63a-474f-e5d3-8f795f429243"
      },
      "outputs": [
        {
          "data": {
            "text/plain": [
              "array([[ 61,   2],\n",
              "       [  3, 105]], dtype=int64)"
            ]
          },
          "execution_count": 144,
          "metadata": {},
          "output_type": "execute_result"
        }
      ],
      "source": [
        "confusion_matrix(y_test, predicted_test_ml)"
      ]
    },
    {
      "cell_type": "code",
      "execution_count": null,
      "id": "c70ea62e",
      "metadata": {
        "scrolled": true,
        "id": "c70ea62e",
        "outputId": "59a738db-42f3-4ac2-abab-4c0308ca324e"
      },
      "outputs": [
        {
          "data": {
            "text/plain": [
              "(0.9707602339181286, 0.9813084112149533, 0.9722222222222222)"
            ]
          },
          "execution_count": 145,
          "metadata": {},
          "output_type": "execute_result"
        }
      ],
      "source": [
        "accuracy_score(y_test, predicted_test_ml), precision_score(y_test, predicted_test_ml), recall_score(y_test, predicted_test_ml)"
      ]
    },
    {
      "cell_type": "markdown",
      "id": "d6656f3a",
      "metadata": {
        "id": "d6656f3a"
      },
      "source": [
        "## Используя предыдущие модели (можно тюнинговать) найдите наилучшую, которая покажет максимальный accuracy_score на тестовом наборе данных (25 минут). Победитель получит +4 балла, которые будут разделены по его усмотрению на 2 уср"
      ]
    },
    {
      "cell_type": "code",
      "source": [
        "import os\n",
        "from google.colab import drive\n",
        "\n",
        "drive.mount('/content/drive')\n",
        "path = '/content/drive/MyDrive/CNN/python practice'\n",
        "print(\"Исходный путь к рабочей директории: \", os.getcwd())\n",
        "os.chdir(path)\n",
        "print(\"Новый путь к рабочей директории: \", os.getcwd())\n",
        "\n",
        "# code\n",
        "import pandas as pd\n",
        "from sklearn.preprocessing import StandardScaler\n",
        "from sklearn.neural_network import MLPClassifier\n",
        "from sklearn.model_selection import train_test_split\n",
        "from sklearn.metrics import accuracy_score\n",
        "from sklearn.metrics import confusion_matrix\n",
        "import numpy as np\n",
        "import matplotlib.pyplot as plt\n",
        "from sklearn.model_selection import GridSearchCV\n",
        "from sklearn.datasets import load_breast_cancer\n",
        "\n",
        "#Загрузка датасета из подготовленных в библиотеке pandas\n",
        "df = pd.read_csv('cancer_cleaned_prepared.csv')\n",
        "\n",
        "x = df.drop(['target'], axis=1)\n",
        "#print(x)\n",
        "y = df['target']\n",
        "\n",
        "#Best parameters found:\n",
        "#{'activation': 'tanh', 'alpha': 0.0001, 'hidden_layer_sizes': (100,), 'learning_rate': 'constant', 'solver': 'adam'}\n",
        "\n",
        "\n",
        "\n",
        "#Разделение датасета на тренировочный и тестовый\n",
        "x_train, x_test, y_train, y_test = train_test_split(x, y, test_size=0.3, random_state=42)\n",
        "x_train.shape, x_test.shape\n",
        "\n",
        "#Определение экземпляра класса инструмента по нормализации данных\n",
        "scaler = StandardScaler()\n",
        "\n",
        "#Преобразование тренировочного и тестового датасета(нормализация)\n",
        "scaler.fit(x_train)\n",
        "scaled_x_train = scaler.transform(x_train)\n",
        "scaled_x_test = scaler.transform(x_test)\n",
        "\n",
        "#Определение гиперпараметров модели\n",
        "ml = MLPClassifier(alpha=1e-4, max_iter=400, solver='adam', activation='tanh', hidden_layer_sizes=(100,), learning_rate='constant')\n",
        "\n",
        "\n",
        "parameter_space = {\n",
        "    'hidden_layer_sizes': [(50,50,50), (50,100,50), (100,)],\n",
        "    'activation': ['tanh', 'relu'],\n",
        "    'solver': ['sgd', 'adam'],\n",
        "    'alpha': [0.0001, 0.05],\n",
        "    'learning_rate': ['constant','adaptive'],\n",
        "}\n",
        "\n",
        "#Создание экземпляра класса инструмента по поиску наиболее оптимальных гиперпараметров\n",
        "clf = GridSearchCV(ml, parameter_space, n_jobs=-1, cv=3)\n",
        "\n",
        "#Обучение модели с использованием инструмента поиска оптимальных гиперпараметров\n",
        "clf.fit(scaled_x_train, y_train)\n",
        "\n",
        "#Вывод результата работы инструмента по поиску оптимальных гиперпараметров\n",
        "print('Best parameters found:\\n', clf.best_params_)\n",
        "\n",
        "#Вывод всей информации\n",
        "means = clf.cv_results_['mean_test_score']\n",
        "stds = clf.cv_results_['std_test_score']\n",
        "for mean, std, params in zip(means, stds, clf.cv_results_['params']):\n",
        "    print(\"%0.3f (+/-%0.03f) for %r\" % (mean, std * 2, params))\n",
        "\n",
        "#Обучение модели с использованием полученной информации об оптимальных гиперпараметрах\n",
        "#Наиболее оптимальные параметры согласно инструменту GridSearchCV\n",
        "#alpha=1e-4, max_iter=400, solver='adam', activation='relu', hidden_layer_sizes=(100,), learning_rate='constant'\n",
        "ml.fit(scaled_x_train, y_train)\n",
        "predicted_test_ml = ml.predict(scaled_x_test)\n",
        "\n",
        "#Вывод информации о модели(матрица ошибок + точность)\n",
        "print(confusion_matrix(y_test, predicted_test_ml))\n",
        "print('Accurace_score: ', accuracy_score(y_test, predicted_test_ml))"
      ],
      "metadata": {
        "colab": {
          "base_uri": "https://localhost:8080/"
        },
        "id": "byvUy3USIaT1",
        "outputId": "de148fd0-52ef-4778-e9fd-bb8ae79bf2b7"
      },
      "id": "byvUy3USIaT1",
      "execution_count": null,
      "outputs": [
        {
          "output_type": "stream",
          "name": "stdout",
          "text": [
            "Drive already mounted at /content/drive; to attempt to forcibly remount, call drive.mount(\"/content/drive\", force_remount=True).\n",
            "Исходный путь к рабочей директории:  /content/drive/My Drive/CNN/python practice\n",
            "Новый путь к рабочей директории:  /content/drive/MyDrive/CNN/python practice\n",
            "Best parameters found:\n",
            " {'activation': 'tanh', 'alpha': 0.05, 'hidden_layer_sizes': (50, 100, 50), 'learning_rate': 'constant', 'solver': 'adam'}\n",
            "0.894 (+/-0.078) for {'activation': 'tanh', 'alpha': 0.0001, 'hidden_layer_sizes': (50, 50, 50), 'learning_rate': 'constant', 'solver': 'sgd'}\n",
            "0.897 (+/-0.038) for {'activation': 'tanh', 'alpha': 0.0001, 'hidden_layer_sizes': (50, 50, 50), 'learning_rate': 'constant', 'solver': 'adam'}\n",
            "0.894 (+/-0.057) for {'activation': 'tanh', 'alpha': 0.0001, 'hidden_layer_sizes': (50, 50, 50), 'learning_rate': 'adaptive', 'solver': 'sgd'}\n",
            "0.894 (+/-0.054) for {'activation': 'tanh', 'alpha': 0.0001, 'hidden_layer_sizes': (50, 50, 50), 'learning_rate': 'adaptive', 'solver': 'adam'}\n",
            "0.891 (+/-0.064) for {'activation': 'tanh', 'alpha': 0.0001, 'hidden_layer_sizes': (50, 100, 50), 'learning_rate': 'constant', 'solver': 'sgd'}\n",
            "0.905 (+/-0.051) for {'activation': 'tanh', 'alpha': 0.0001, 'hidden_layer_sizes': (50, 100, 50), 'learning_rate': 'constant', 'solver': 'adam'}\n",
            "0.888 (+/-0.057) for {'activation': 'tanh', 'alpha': 0.0001, 'hidden_layer_sizes': (50, 100, 50), 'learning_rate': 'adaptive', 'solver': 'sgd'}\n",
            "0.894 (+/-0.030) for {'activation': 'tanh', 'alpha': 0.0001, 'hidden_layer_sizes': (50, 100, 50), 'learning_rate': 'adaptive', 'solver': 'adam'}\n",
            "0.891 (+/-0.070) for {'activation': 'tanh', 'alpha': 0.0001, 'hidden_layer_sizes': (100,), 'learning_rate': 'constant', 'solver': 'sgd'}\n",
            "0.897 (+/-0.025) for {'activation': 'tanh', 'alpha': 0.0001, 'hidden_layer_sizes': (100,), 'learning_rate': 'constant', 'solver': 'adam'}\n",
            "0.897 (+/-0.071) for {'activation': 'tanh', 'alpha': 0.0001, 'hidden_layer_sizes': (100,), 'learning_rate': 'adaptive', 'solver': 'sgd'}\n",
            "0.905 (+/-0.038) for {'activation': 'tanh', 'alpha': 0.0001, 'hidden_layer_sizes': (100,), 'learning_rate': 'adaptive', 'solver': 'adam'}\n",
            "0.888 (+/-0.065) for {'activation': 'tanh', 'alpha': 0.05, 'hidden_layer_sizes': (50, 50, 50), 'learning_rate': 'constant', 'solver': 'sgd'}\n",
            "0.894 (+/-0.036) for {'activation': 'tanh', 'alpha': 0.05, 'hidden_layer_sizes': (50, 50, 50), 'learning_rate': 'constant', 'solver': 'adam'}\n",
            "0.902 (+/-0.057) for {'activation': 'tanh', 'alpha': 0.05, 'hidden_layer_sizes': (50, 50, 50), 'learning_rate': 'adaptive', 'solver': 'sgd'}\n",
            "0.894 (+/-0.044) for {'activation': 'tanh', 'alpha': 0.05, 'hidden_layer_sizes': (50, 50, 50), 'learning_rate': 'adaptive', 'solver': 'adam'}\n",
            "0.891 (+/-0.073) for {'activation': 'tanh', 'alpha': 0.05, 'hidden_layer_sizes': (50, 100, 50), 'learning_rate': 'constant', 'solver': 'sgd'}\n",
            "0.908 (+/-0.046) for {'activation': 'tanh', 'alpha': 0.05, 'hidden_layer_sizes': (50, 100, 50), 'learning_rate': 'constant', 'solver': 'adam'}\n",
            "0.900 (+/-0.046) for {'activation': 'tanh', 'alpha': 0.05, 'hidden_layer_sizes': (50, 100, 50), 'learning_rate': 'adaptive', 'solver': 'sgd'}\n",
            "0.897 (+/-0.051) for {'activation': 'tanh', 'alpha': 0.05, 'hidden_layer_sizes': (50, 100, 50), 'learning_rate': 'adaptive', 'solver': 'adam'}\n",
            "0.891 (+/-0.073) for {'activation': 'tanh', 'alpha': 0.05, 'hidden_layer_sizes': (100,), 'learning_rate': 'constant', 'solver': 'sgd'}\n",
            "0.905 (+/-0.038) for {'activation': 'tanh', 'alpha': 0.05, 'hidden_layer_sizes': (100,), 'learning_rate': 'constant', 'solver': 'adam'}\n",
            "0.891 (+/-0.064) for {'activation': 'tanh', 'alpha': 0.05, 'hidden_layer_sizes': (100,), 'learning_rate': 'adaptive', 'solver': 'sgd'}\n",
            "0.908 (+/-0.046) for {'activation': 'tanh', 'alpha': 0.05, 'hidden_layer_sizes': (100,), 'learning_rate': 'adaptive', 'solver': 'adam'}\n",
            "0.894 (+/-0.057) for {'activation': 'relu', 'alpha': 0.0001, 'hidden_layer_sizes': (50, 50, 50), 'learning_rate': 'constant', 'solver': 'sgd'}\n",
            "0.885 (+/-0.022) for {'activation': 'relu', 'alpha': 0.0001, 'hidden_layer_sizes': (50, 50, 50), 'learning_rate': 'constant', 'solver': 'adam'}\n",
            "0.888 (+/-0.051) for {'activation': 'relu', 'alpha': 0.0001, 'hidden_layer_sizes': (50, 50, 50), 'learning_rate': 'adaptive', 'solver': 'sgd'}\n",
            "0.877 (+/-0.036) for {'activation': 'relu', 'alpha': 0.0001, 'hidden_layer_sizes': (50, 50, 50), 'learning_rate': 'adaptive', 'solver': 'adam'}\n",
            "0.897 (+/-0.057) for {'activation': 'relu', 'alpha': 0.0001, 'hidden_layer_sizes': (50, 100, 50), 'learning_rate': 'constant', 'solver': 'sgd'}\n",
            "0.880 (+/-0.043) for {'activation': 'relu', 'alpha': 0.0001, 'hidden_layer_sizes': (50, 100, 50), 'learning_rate': 'constant', 'solver': 'adam'}\n",
            "0.880 (+/-0.065) for {'activation': 'relu', 'alpha': 0.0001, 'hidden_layer_sizes': (50, 100, 50), 'learning_rate': 'adaptive', 'solver': 'sgd'}\n",
            "0.874 (+/-0.030) for {'activation': 'relu', 'alpha': 0.0001, 'hidden_layer_sizes': (50, 100, 50), 'learning_rate': 'adaptive', 'solver': 'adam'}\n",
            "0.888 (+/-0.075) for {'activation': 'relu', 'alpha': 0.0001, 'hidden_layer_sizes': (100,), 'learning_rate': 'constant', 'solver': 'sgd'}\n",
            "0.891 (+/-0.046) for {'activation': 'relu', 'alpha': 0.0001, 'hidden_layer_sizes': (100,), 'learning_rate': 'constant', 'solver': 'adam'}\n",
            "0.888 (+/-0.062) for {'activation': 'relu', 'alpha': 0.0001, 'hidden_layer_sizes': (100,), 'learning_rate': 'adaptive', 'solver': 'sgd'}\n",
            "0.885 (+/-0.041) for {'activation': 'relu', 'alpha': 0.0001, 'hidden_layer_sizes': (100,), 'learning_rate': 'adaptive', 'solver': 'adam'}\n",
            "0.888 (+/-0.065) for {'activation': 'relu', 'alpha': 0.05, 'hidden_layer_sizes': (50, 50, 50), 'learning_rate': 'constant', 'solver': 'sgd'}\n",
            "0.891 (+/-0.022) for {'activation': 'relu', 'alpha': 0.05, 'hidden_layer_sizes': (50, 50, 50), 'learning_rate': 'constant', 'solver': 'adam'}\n",
            "0.891 (+/-0.070) for {'activation': 'relu', 'alpha': 0.05, 'hidden_layer_sizes': (50, 50, 50), 'learning_rate': 'adaptive', 'solver': 'sgd'}\n",
            "0.882 (+/-0.044) for {'activation': 'relu', 'alpha': 0.05, 'hidden_layer_sizes': (50, 50, 50), 'learning_rate': 'adaptive', 'solver': 'adam'}\n",
            "0.880 (+/-0.075) for {'activation': 'relu', 'alpha': 0.05, 'hidden_layer_sizes': (50, 100, 50), 'learning_rate': 'constant', 'solver': 'sgd'}\n",
            "0.877 (+/-0.017) for {'activation': 'relu', 'alpha': 0.05, 'hidden_layer_sizes': (50, 100, 50), 'learning_rate': 'constant', 'solver': 'adam'}\n",
            "0.885 (+/-0.054) for {'activation': 'relu', 'alpha': 0.05, 'hidden_layer_sizes': (50, 100, 50), 'learning_rate': 'adaptive', 'solver': 'sgd'}\n",
            "0.885 (+/-0.041) for {'activation': 'relu', 'alpha': 0.05, 'hidden_layer_sizes': (50, 100, 50), 'learning_rate': 'adaptive', 'solver': 'adam'}\n",
            "0.897 (+/-0.065) for {'activation': 'relu', 'alpha': 0.05, 'hidden_layer_sizes': (100,), 'learning_rate': 'constant', 'solver': 'sgd'}\n",
            "0.897 (+/-0.049) for {'activation': 'relu', 'alpha': 0.05, 'hidden_layer_sizes': (100,), 'learning_rate': 'constant', 'solver': 'adam'}\n",
            "0.894 (+/-0.067) for {'activation': 'relu', 'alpha': 0.05, 'hidden_layer_sizes': (100,), 'learning_rate': 'adaptive', 'solver': 'sgd'}\n",
            "0.885 (+/-0.022) for {'activation': 'relu', 'alpha': 0.05, 'hidden_layer_sizes': (100,), 'learning_rate': 'adaptive', 'solver': 'adam'}\n",
            "[[52  6]\n",
            " [ 9 83]]\n",
            "Accurace_score:  0.9\n"
          ]
        }
      ]
    },
    {
      "cell_type": "code",
      "execution_count": null,
      "id": "d7a92d4b",
      "metadata": {
        "id": "d7a92d4b",
        "colab": {
          "base_uri": "https://localhost:8080/"
        },
        "outputId": "0eb00ca0-0d48-4d0f-fdc8-21f74b9e9749"
      },
      "outputs": [
        {
          "output_type": "stream",
          "name": "stdout",
          "text": [
            "[[ 61   2]\n",
            " [  1 107]]\n",
            "Accurace_score:  0.9824561403508771\n"
          ]
        }
      ],
      "source": [
        "# code\n",
        "import pandas as pd\n",
        "from sklearn.preprocessing import StandardScaler\n",
        "from sklearn.neural_network import MLPClassifier\n",
        "from sklearn.model_selection import train_test_split\n",
        "from sklearn.metrics import accuracy_score\n",
        "from sklearn.metrics import confusion_matrix\n",
        "import numpy as np\n",
        "import matplotlib.pyplot as plt\n",
        "from sklearn.model_selection import GridSearchCV\n",
        "from sklearn.datasets import load_breast_cancer\n",
        "\n",
        "#Загрузка датасета из подготовленных в библиотеке pandas\n",
        "cancer = load_breast_cancer()\n",
        "df = pd.DataFrame(np.c_[cancer['data'], cancer['target']],\n",
        "                  columns= np.append(cancer['feature_names'], ['target']))\n",
        "\n",
        "x = df.drop(['target'], axis=1)\n",
        "#print(x)\n",
        "y = df['target']\n",
        "\n",
        "\n",
        "\n",
        "\n",
        "\n",
        "#Разделение датасета на тренировочный и тестовый\n",
        "x_train, x_test, y_train, y_test = train_test_split(x, y, test_size=0.3, random_state=42)\n",
        "x_train.shape, x_test.shape\n",
        "\n",
        "#Определение экземпляра класса инструмента по нормализации данных\n",
        "scaler = StandardScaler()\n",
        "\n",
        "#Преобразование тренировочного и тестового датасета(нормализация)\n",
        "scaler.fit(x_train)\n",
        "scaled_x_train = scaler.transform(x_train)\n",
        "scaled_x_test = scaler.transform(x_test)\n",
        "\n",
        "#Определение гиперпараметров модели\n",
        "ml = MLPClassifier(alpha=1e-4, max_iter=400, solver='adam', activation='relu', hidden_layer_sizes=(100,), learning_rate='constant')\n",
        "\n",
        "'''\n",
        "parameter_space = {\n",
        "    'hidden_layer_sizes': [(50,50,50), (50,100,50), (100,)],\n",
        "    'activation': ['tanh', 'relu'],\n",
        "    'solver': ['sgd', 'adam'],\n",
        "    'alpha': [0.0001, 0.05],\n",
        "    'learning_rate': ['constant','adaptive'],\n",
        "}\n",
        "\n",
        "#Создание экземпляра класса инструмента по поиску наиболее оптимальных гиперпараметров\n",
        "clf = GridSearchCV(ml, parameter_space, n_jobs=-1, cv=3)\n",
        "\n",
        "#Обучение модели с использованием инструмента поиска оптимальных гиперпараметров\n",
        "clf.fit(scaled_x_train, y_train)\n",
        "\n",
        "#Вывод результата работы инструмента по поиску оптимальных гиперпараметров\n",
        "print('Best parameters found:\\n', clf.best_params_)\n",
        "\n",
        "#Вывод всей информации\n",
        "means = clf.cv_results_['mean_test_score']\n",
        "stds = clf.cv_results_['std_test_score']\n",
        "for mean, std, params in zip(means, stds, clf.cv_results_['params']):\n",
        "    print(\"%0.3f (+/-%0.03f) for %r\" % (mean, std * 2, params))'''\n",
        "\n",
        "#Обучение модели с использованием полученной информации об оптимальных гиперпараметрах\n",
        "#Наиболее оптимальные параметры согласно инструменту GridSearchCV\n",
        "#alpha=1e-4, max_iter=400, solver='adam', activation='relu', hidden_layer_sizes=(100,), learning_rate='constant'\n",
        "ml.fit(scaled_x_train, y_train)\n",
        "predicted_test_ml = ml.predict(scaled_x_test)\n",
        "\n",
        "#Вывод информации о модели(матрица ошибок + точность)\n",
        "print(confusion_matrix(y_test, predicted_test_ml))\n",
        "print('Accurace_score: ', accuracy_score(y_test, predicted_test_ml))"
      ]
    },
    {
      "cell_type": "markdown",
      "id": "db87fbd1",
      "metadata": {
        "id": "db87fbd1"
      },
      "source": [
        "# Кросс-валидация"
      ]
    },
    {
      "cell_type": "markdown",
      "id": "190d87ac",
      "metadata": {
        "id": "190d87ac"
      },
      "source": [
        "Кросс-валидация в основном используется в прикладном машинном обучении для оценки квалификации модели машинного обучения на не используемых данных. То есть использовать ограниченную выборку (test sample) для оценки того, как модель будет работать в целом при использовании ее при прогнозирования на данных, не используемых во время обучения модели."
      ]
    },
    {
      "cell_type": "code",
      "execution_count": null,
      "id": "a9eb26f6",
      "metadata": {
        "id": "a9eb26f6"
      },
      "outputs": [],
      "source": [
        "from sklearn.model_selection import cross_val_score"
      ]
    },
    {
      "cell_type": "code",
      "execution_count": null,
      "id": "b19db591",
      "metadata": {
        "id": "b19db591",
        "outputId": "e1d6fcfa-f4d8-401a-b83b-972169d2d05f"
      },
      "outputs": [
        {
          "data": {
            "text/plain": [
              "(array([0.93157895, 0.95263158, 0.92592593]), 0.9367121507472386)"
            ]
          },
          "execution_count": 62,
          "metadata": {},
          "output_type": "execute_result"
        }
      ],
      "source": [
        "scores = cross_val_score(ml, x, y, cv=3)\n",
        "scores, np.mean(scores)"
      ]
    },
    {
      "cell_type": "markdown",
      "id": "89e2c95d",
      "metadata": {
        "id": "89e2c95d"
      },
      "source": [
        "# One-Hot Encoding"
      ]
    },
    {
      "cell_type": "code",
      "execution_count": null,
      "id": "a4bb79b2",
      "metadata": {
        "id": "a4bb79b2",
        "outputId": "7d971017-5e20-41c1-d3de-90566866501f"
      },
      "outputs": [
        {
          "data": {
            "text/html": [
              "<div>\n",
              "<style scoped>\n",
              "    .dataframe tbody tr th:only-of-type {\n",
              "        vertical-align: middle;\n",
              "    }\n",
              "\n",
              "    .dataframe tbody tr th {\n",
              "        vertical-align: top;\n",
              "    }\n",
              "\n",
              "    .dataframe thead th {\n",
              "        text-align: right;\n",
              "    }\n",
              "</style>\n",
              "<table border=\"1\" class=\"dataframe\">\n",
              "  <thead>\n",
              "    <tr style=\"text-align: right;\">\n",
              "      <th></th>\n",
              "      <th>0</th>\n",
              "      <th>1</th>\n",
              "      <th>2</th>\n",
              "    </tr>\n",
              "  </thead>\n",
              "  <tbody>\n",
              "    <tr>\n",
              "      <th>0</th>\n",
              "      <td>cat</td>\n",
              "      <td>1</td>\n",
              "      <td>1000</td>\n",
              "    </tr>\n",
              "    <tr>\n",
              "      <th>1</th>\n",
              "      <td>dog</td>\n",
              "      <td>2</td>\n",
              "      <td>2000</td>\n",
              "    </tr>\n",
              "    <tr>\n",
              "      <th>2</th>\n",
              "      <td>cat</td>\n",
              "      <td>3</td>\n",
              "      <td>3000</td>\n",
              "    </tr>\n",
              "  </tbody>\n",
              "</table>\n",
              "</div>"
            ],
            "text/plain": [
              "     0  1     2\n",
              "0  cat  1  1000\n",
              "1  dog  2  2000\n",
              "2  cat  3  3000"
            ]
          },
          "execution_count": 63,
          "metadata": {},
          "output_type": "execute_result"
        }
      ],
      "source": [
        "df2 = pd.DataFrame({0:['cat','dog','cat'], 1:[1,2,3], 2:[1000,2000,3000]})\n",
        "df2"
      ]
    },
    {
      "cell_type": "code",
      "execution_count": null,
      "id": "30e21490",
      "metadata": {
        "id": "30e21490"
      },
      "outputs": [],
      "source": [
        "from sklearn.preprocessing import OneHotEncoder\n",
        "ohe = OneHotEncoder(sparse=False)"
      ]
    },
    {
      "cell_type": "code",
      "execution_count": null,
      "id": "9d0534c3",
      "metadata": {
        "id": "9d0534c3",
        "outputId": "7512e3f4-a5e6-4bf5-c1d5-b34a15d7c5e7"
      },
      "outputs": [
        {
          "data": {
            "text/html": [
              "<style>#sk-container-id-4 {color: black;background-color: white;}#sk-container-id-4 pre{padding: 0;}#sk-container-id-4 div.sk-toggleable {background-color: white;}#sk-container-id-4 label.sk-toggleable__label {cursor: pointer;display: block;width: 100%;margin-bottom: 0;padding: 0.3em;box-sizing: border-box;text-align: center;}#sk-container-id-4 label.sk-toggleable__label-arrow:before {content: \"▸\";float: left;margin-right: 0.25em;color: #696969;}#sk-container-id-4 label.sk-toggleable__label-arrow:hover:before {color: black;}#sk-container-id-4 div.sk-estimator:hover label.sk-toggleable__label-arrow:before {color: black;}#sk-container-id-4 div.sk-toggleable__content {max-height: 0;max-width: 0;overflow: hidden;text-align: left;background-color: #f0f8ff;}#sk-container-id-4 div.sk-toggleable__content pre {margin: 0.2em;color: black;border-radius: 0.25em;background-color: #f0f8ff;}#sk-container-id-4 input.sk-toggleable__control:checked~div.sk-toggleable__content {max-height: 200px;max-width: 100%;overflow: auto;}#sk-container-id-4 input.sk-toggleable__control:checked~label.sk-toggleable__label-arrow:before {content: \"▾\";}#sk-container-id-4 div.sk-estimator input.sk-toggleable__control:checked~label.sk-toggleable__label {background-color: #d4ebff;}#sk-container-id-4 div.sk-label input.sk-toggleable__control:checked~label.sk-toggleable__label {background-color: #d4ebff;}#sk-container-id-4 input.sk-hidden--visually {border: 0;clip: rect(1px 1px 1px 1px);clip: rect(1px, 1px, 1px, 1px);height: 1px;margin: -1px;overflow: hidden;padding: 0;position: absolute;width: 1px;}#sk-container-id-4 div.sk-estimator {font-family: monospace;background-color: #f0f8ff;border: 1px dotted black;border-radius: 0.25em;box-sizing: border-box;margin-bottom: 0.5em;}#sk-container-id-4 div.sk-estimator:hover {background-color: #d4ebff;}#sk-container-id-4 div.sk-parallel-item::after {content: \"\";width: 100%;border-bottom: 1px solid gray;flex-grow: 1;}#sk-container-id-4 div.sk-label:hover label.sk-toggleable__label {background-color: #d4ebff;}#sk-container-id-4 div.sk-serial::before {content: \"\";position: absolute;border-left: 1px solid gray;box-sizing: border-box;top: 0;bottom: 0;left: 50%;z-index: 0;}#sk-container-id-4 div.sk-serial {display: flex;flex-direction: column;align-items: center;background-color: white;padding-right: 0.2em;padding-left: 0.2em;position: relative;}#sk-container-id-4 div.sk-item {position: relative;z-index: 1;}#sk-container-id-4 div.sk-parallel {display: flex;align-items: stretch;justify-content: center;background-color: white;position: relative;}#sk-container-id-4 div.sk-item::before, #sk-container-id-4 div.sk-parallel-item::before {content: \"\";position: absolute;border-left: 1px solid gray;box-sizing: border-box;top: 0;bottom: 0;left: 50%;z-index: -1;}#sk-container-id-4 div.sk-parallel-item {display: flex;flex-direction: column;z-index: 1;position: relative;background-color: white;}#sk-container-id-4 div.sk-parallel-item:first-child::after {align-self: flex-end;width: 50%;}#sk-container-id-4 div.sk-parallel-item:last-child::after {align-self: flex-start;width: 50%;}#sk-container-id-4 div.sk-parallel-item:only-child::after {width: 0;}#sk-container-id-4 div.sk-dashed-wrapped {border: 1px dashed gray;margin: 0 0.4em 0.5em 0.4em;box-sizing: border-box;padding-bottom: 0.4em;background-color: white;}#sk-container-id-4 div.sk-label label {font-family: monospace;font-weight: bold;display: inline-block;line-height: 1.2em;}#sk-container-id-4 div.sk-label-container {text-align: center;}#sk-container-id-4 div.sk-container {/* jupyter's `normalize.less` sets `[hidden] { display: none; }` but bootstrap.min.css set `[hidden] { display: none !important; }` so we also need the `!important` here to be able to override the default hidden behavior on the sphinx rendered scikit-learn.org. See: https://github.com/scikit-learn/scikit-learn/issues/21755 */display: inline-block !important;position: relative;}#sk-container-id-4 div.sk-text-repr-fallback {display: none;}</style><div id=\"sk-container-id-4\" class=\"sk-top-container\"><div class=\"sk-text-repr-fallback\"><pre>OneHotEncoder(sparse=False)</pre><b>In a Jupyter environment, please rerun this cell to show the HTML representation or trust the notebook. <br />On GitHub, the HTML representation is unable to render, please try loading this page with nbviewer.org.</b></div><div class=\"sk-container\" hidden><div class=\"sk-item\"><div class=\"sk-estimator sk-toggleable\"><input class=\"sk-toggleable__control sk-hidden--visually\" id=\"sk-estimator-id-4\" type=\"checkbox\" checked><label for=\"sk-estimator-id-4\" class=\"sk-toggleable__label sk-toggleable__label-arrow\">OneHotEncoder</label><div class=\"sk-toggleable__content\"><pre>OneHotEncoder(sparse=False)</pre></div></div></div></div></div>"
            ],
            "text/plain": [
              "OneHotEncoder(sparse=False)"
            ]
          },
          "execution_count": 65,
          "metadata": {},
          "output_type": "execute_result"
        }
      ],
      "source": [
        "ohe.fit(df2[[0]])"
      ]
    },
    {
      "cell_type": "code",
      "execution_count": null,
      "id": "61d3a655",
      "metadata": {
        "id": "61d3a655",
        "outputId": "d0a19539-4fac-4c5a-a9f8-bbe34565b77e"
      },
      "outputs": [
        {
          "data": {
            "text/plain": [
              "array([[1., 0.],\n",
              "       [0., 1.],\n",
              "       [1., 0.]])"
            ]
          },
          "execution_count": 66,
          "metadata": {},
          "output_type": "execute_result"
        }
      ],
      "source": [
        "ohe_cat0 = ohe.transform(df2[[0]])\n",
        "ohe_cat0"
      ]
    },
    {
      "cell_type": "code",
      "execution_count": null,
      "id": "fe68e451",
      "metadata": {
        "id": "fe68e451",
        "outputId": "27171ac8-79ce-4134-dc5d-288f03748e6c"
      },
      "outputs": [
        {
          "data": {
            "text/plain": [
              "array([['cat'],\n",
              "       ['dog'],\n",
              "       ['cat']], dtype=object)"
            ]
          },
          "execution_count": 67,
          "metadata": {},
          "output_type": "execute_result"
        }
      ],
      "source": [
        "ohe.inverse_transform(ohe_cat0)"
      ]
    },
    {
      "cell_type": "code",
      "execution_count": null,
      "id": "32ea433f",
      "metadata": {
        "id": "32ea433f",
        "outputId": "779ba2fa-ff64-4ab2-aa1a-fc51dcd8bce2"
      },
      "outputs": [
        {
          "data": {
            "text/plain": [
              "array(['x0_cat', 'x0_dog'], dtype=object)"
            ]
          },
          "execution_count": 68,
          "metadata": {},
          "output_type": "execute_result"
        }
      ],
      "source": [
        "ohe.get_feature_names()"
      ]
    },
    {
      "cell_type": "code",
      "execution_count": null,
      "id": "0b9c4f31",
      "metadata": {
        "id": "0b9c4f31",
        "outputId": "cbf0f5ae-084d-4b15-e7e4-23ead78271b9"
      },
      "outputs": [
        {
          "data": {
            "text/html": [
              "<div>\n",
              "<style scoped>\n",
              "    .dataframe tbody tr th:only-of-type {\n",
              "        vertical-align: middle;\n",
              "    }\n",
              "\n",
              "    .dataframe tbody tr th {\n",
              "        vertical-align: top;\n",
              "    }\n",
              "\n",
              "    .dataframe thead th {\n",
              "        text-align: right;\n",
              "    }\n",
              "</style>\n",
              "<table border=\"1\" class=\"dataframe\">\n",
              "  <thead>\n",
              "    <tr style=\"text-align: right;\">\n",
              "      <th></th>\n",
              "      <th>0</th>\n",
              "      <th>1</th>\n",
              "      <th>2</th>\n",
              "      <th>x0_cat</th>\n",
              "      <th>x0_dog</th>\n",
              "    </tr>\n",
              "  </thead>\n",
              "  <tbody>\n",
              "    <tr>\n",
              "      <th>0</th>\n",
              "      <td>cat</td>\n",
              "      <td>1</td>\n",
              "      <td>1000</td>\n",
              "      <td>1.0</td>\n",
              "      <td>0.0</td>\n",
              "    </tr>\n",
              "    <tr>\n",
              "      <th>1</th>\n",
              "      <td>dog</td>\n",
              "      <td>2</td>\n",
              "      <td>2000</td>\n",
              "      <td>0.0</td>\n",
              "      <td>1.0</td>\n",
              "    </tr>\n",
              "    <tr>\n",
              "      <th>2</th>\n",
              "      <td>cat</td>\n",
              "      <td>3</td>\n",
              "      <td>3000</td>\n",
              "      <td>1.0</td>\n",
              "      <td>0.0</td>\n",
              "    </tr>\n",
              "  </tbody>\n",
              "</table>\n",
              "</div>"
            ],
            "text/plain": [
              "     0  1     2  x0_cat  x0_dog\n",
              "0  cat  1  1000     1.0     0.0\n",
              "1  dog  2  2000     0.0     1.0\n",
              "2  cat  3  3000     1.0     0.0"
            ]
          },
          "execution_count": 69,
          "metadata": {},
          "output_type": "execute_result"
        }
      ],
      "source": [
        "df2[ohe.get_feature_names()] = ohe_cat0\n",
        "df2"
      ]
    },
    {
      "cell_type": "code",
      "execution_count": null,
      "id": "ff063716",
      "metadata": {
        "id": "ff063716",
        "outputId": "a498b31d-4526-43a7-b725-6d0f5f0302e0"
      },
      "outputs": [
        {
          "data": {
            "text/html": [
              "<div>\n",
              "<style scoped>\n",
              "    .dataframe tbody tr th:only-of-type {\n",
              "        vertical-align: middle;\n",
              "    }\n",
              "\n",
              "    .dataframe tbody tr th {\n",
              "        vertical-align: top;\n",
              "    }\n",
              "\n",
              "    .dataframe thead th {\n",
              "        text-align: right;\n",
              "    }\n",
              "</style>\n",
              "<table border=\"1\" class=\"dataframe\">\n",
              "  <thead>\n",
              "    <tr style=\"text-align: right;\">\n",
              "      <th></th>\n",
              "      <th>1</th>\n",
              "      <th>2</th>\n",
              "      <th>x0_cat</th>\n",
              "      <th>x0_dog</th>\n",
              "    </tr>\n",
              "  </thead>\n",
              "  <tbody>\n",
              "    <tr>\n",
              "      <th>0</th>\n",
              "      <td>1</td>\n",
              "      <td>1000</td>\n",
              "      <td>1.0</td>\n",
              "      <td>0.0</td>\n",
              "    </tr>\n",
              "    <tr>\n",
              "      <th>1</th>\n",
              "      <td>2</td>\n",
              "      <td>2000</td>\n",
              "      <td>0.0</td>\n",
              "      <td>1.0</td>\n",
              "    </tr>\n",
              "    <tr>\n",
              "      <th>2</th>\n",
              "      <td>3</td>\n",
              "      <td>3000</td>\n",
              "      <td>1.0</td>\n",
              "      <td>0.0</td>\n",
              "    </tr>\n",
              "  </tbody>\n",
              "</table>\n",
              "</div>"
            ],
            "text/plain": [
              "   1     2  x0_cat  x0_dog\n",
              "0  1  1000     1.0     0.0\n",
              "1  2  2000     0.0     1.0\n",
              "2  3  3000     1.0     0.0"
            ]
          },
          "execution_count": 70,
          "metadata": {},
          "output_type": "execute_result"
        }
      ],
      "source": [
        "df2 = df2.drop([0], axis=1)\n",
        "df2"
      ]
    },
    {
      "cell_type": "markdown",
      "id": "8c1ad4f3",
      "metadata": {
        "id": "8c1ad4f3"
      },
      "source": [
        "# Нормализация данных"
      ]
    },
    {
      "cell_type": "code",
      "execution_count": null,
      "id": "7a2b8c20",
      "metadata": {
        "id": "7a2b8c20"
      },
      "outputs": [],
      "source": [
        "from sklearn.preprocessing import StandardScaler"
      ]
    },
    {
      "cell_type": "code",
      "execution_count": null,
      "id": "23824ab5",
      "metadata": {
        "id": "23824ab5"
      },
      "outputs": [],
      "source": [
        "col = df2.columns.tolist()"
      ]
    },
    {
      "cell_type": "code",
      "execution_count": null,
      "id": "45c0c3a7",
      "metadata": {
        "id": "45c0c3a7",
        "outputId": "cb17ba7c-e490-4b48-86c1-2e2880b92eae"
      },
      "outputs": [
        {
          "data": {
            "text/html": [
              "<style>#sk-container-id-5 {color: black;background-color: white;}#sk-container-id-5 pre{padding: 0;}#sk-container-id-5 div.sk-toggleable {background-color: white;}#sk-container-id-5 label.sk-toggleable__label {cursor: pointer;display: block;width: 100%;margin-bottom: 0;padding: 0.3em;box-sizing: border-box;text-align: center;}#sk-container-id-5 label.sk-toggleable__label-arrow:before {content: \"▸\";float: left;margin-right: 0.25em;color: #696969;}#sk-container-id-5 label.sk-toggleable__label-arrow:hover:before {color: black;}#sk-container-id-5 div.sk-estimator:hover label.sk-toggleable__label-arrow:before {color: black;}#sk-container-id-5 div.sk-toggleable__content {max-height: 0;max-width: 0;overflow: hidden;text-align: left;background-color: #f0f8ff;}#sk-container-id-5 div.sk-toggleable__content pre {margin: 0.2em;color: black;border-radius: 0.25em;background-color: #f0f8ff;}#sk-container-id-5 input.sk-toggleable__control:checked~div.sk-toggleable__content {max-height: 200px;max-width: 100%;overflow: auto;}#sk-container-id-5 input.sk-toggleable__control:checked~label.sk-toggleable__label-arrow:before {content: \"▾\";}#sk-container-id-5 div.sk-estimator input.sk-toggleable__control:checked~label.sk-toggleable__label {background-color: #d4ebff;}#sk-container-id-5 div.sk-label input.sk-toggleable__control:checked~label.sk-toggleable__label {background-color: #d4ebff;}#sk-container-id-5 input.sk-hidden--visually {border: 0;clip: rect(1px 1px 1px 1px);clip: rect(1px, 1px, 1px, 1px);height: 1px;margin: -1px;overflow: hidden;padding: 0;position: absolute;width: 1px;}#sk-container-id-5 div.sk-estimator {font-family: monospace;background-color: #f0f8ff;border: 1px dotted black;border-radius: 0.25em;box-sizing: border-box;margin-bottom: 0.5em;}#sk-container-id-5 div.sk-estimator:hover {background-color: #d4ebff;}#sk-container-id-5 div.sk-parallel-item::after {content: \"\";width: 100%;border-bottom: 1px solid gray;flex-grow: 1;}#sk-container-id-5 div.sk-label:hover label.sk-toggleable__label {background-color: #d4ebff;}#sk-container-id-5 div.sk-serial::before {content: \"\";position: absolute;border-left: 1px solid gray;box-sizing: border-box;top: 0;bottom: 0;left: 50%;z-index: 0;}#sk-container-id-5 div.sk-serial {display: flex;flex-direction: column;align-items: center;background-color: white;padding-right: 0.2em;padding-left: 0.2em;position: relative;}#sk-container-id-5 div.sk-item {position: relative;z-index: 1;}#sk-container-id-5 div.sk-parallel {display: flex;align-items: stretch;justify-content: center;background-color: white;position: relative;}#sk-container-id-5 div.sk-item::before, #sk-container-id-5 div.sk-parallel-item::before {content: \"\";position: absolute;border-left: 1px solid gray;box-sizing: border-box;top: 0;bottom: 0;left: 50%;z-index: -1;}#sk-container-id-5 div.sk-parallel-item {display: flex;flex-direction: column;z-index: 1;position: relative;background-color: white;}#sk-container-id-5 div.sk-parallel-item:first-child::after {align-self: flex-end;width: 50%;}#sk-container-id-5 div.sk-parallel-item:last-child::after {align-self: flex-start;width: 50%;}#sk-container-id-5 div.sk-parallel-item:only-child::after {width: 0;}#sk-container-id-5 div.sk-dashed-wrapped {border: 1px dashed gray;margin: 0 0.4em 0.5em 0.4em;box-sizing: border-box;padding-bottom: 0.4em;background-color: white;}#sk-container-id-5 div.sk-label label {font-family: monospace;font-weight: bold;display: inline-block;line-height: 1.2em;}#sk-container-id-5 div.sk-label-container {text-align: center;}#sk-container-id-5 div.sk-container {/* jupyter's `normalize.less` sets `[hidden] { display: none; }` but bootstrap.min.css set `[hidden] { display: none !important; }` so we also need the `!important` here to be able to override the default hidden behavior on the sphinx rendered scikit-learn.org. See: https://github.com/scikit-learn/scikit-learn/issues/21755 */display: inline-block !important;position: relative;}#sk-container-id-5 div.sk-text-repr-fallback {display: none;}</style><div id=\"sk-container-id-5\" class=\"sk-top-container\"><div class=\"sk-text-repr-fallback\"><pre>StandardScaler()</pre><b>In a Jupyter environment, please rerun this cell to show the HTML representation or trust the notebook. <br />On GitHub, the HTML representation is unable to render, please try loading this page with nbviewer.org.</b></div><div class=\"sk-container\" hidden><div class=\"sk-item\"><div class=\"sk-estimator sk-toggleable\"><input class=\"sk-toggleable__control sk-hidden--visually\" id=\"sk-estimator-id-5\" type=\"checkbox\" checked><label for=\"sk-estimator-id-5\" class=\"sk-toggleable__label sk-toggleable__label-arrow\">StandardScaler</label><div class=\"sk-toggleable__content\"><pre>StandardScaler()</pre></div></div></div></div></div>"
            ],
            "text/plain": [
              "StandardScaler()"
            ]
          },
          "execution_count": 73,
          "metadata": {},
          "output_type": "execute_result"
        }
      ],
      "source": [
        "std_scaler = StandardScaler()\n",
        "std_scaler.fit(df2[col])"
      ]
    },
    {
      "cell_type": "code",
      "execution_count": null,
      "id": "7e4c710f",
      "metadata": {
        "id": "7e4c710f",
        "outputId": "172307b6-157b-4357-c7fd-ad88f6318eea"
      },
      "outputs": [
        {
          "data": {
            "text/plain": [
              "array([[-1.22474487, -1.22474487,  0.70710678, -0.70710678],\n",
              "       [ 0.        ,  0.        , -1.41421356,  1.41421356],\n",
              "       [ 1.22474487,  1.22474487,  0.70710678, -0.70710678]])"
            ]
          },
          "execution_count": 74,
          "metadata": {},
          "output_type": "execute_result"
        }
      ],
      "source": [
        "std_scaled = std_scaler.transform(df2[col])\n",
        "std_scaled"
      ]
    },
    {
      "cell_type": "code",
      "execution_count": null,
      "id": "43ff04fe",
      "metadata": {
        "id": "43ff04fe",
        "outputId": "f15002f8-8438-442b-cd12-cdb6e21a95c4"
      },
      "outputs": [
        {
          "data": {
            "text/html": [
              "<div>\n",
              "<style scoped>\n",
              "    .dataframe tbody tr th:only-of-type {\n",
              "        vertical-align: middle;\n",
              "    }\n",
              "\n",
              "    .dataframe tbody tr th {\n",
              "        vertical-align: top;\n",
              "    }\n",
              "\n",
              "    .dataframe thead th {\n",
              "        text-align: right;\n",
              "    }\n",
              "</style>\n",
              "<table border=\"1\" class=\"dataframe\">\n",
              "  <thead>\n",
              "    <tr style=\"text-align: right;\">\n",
              "      <th></th>\n",
              "      <th>1</th>\n",
              "      <th>2</th>\n",
              "      <th>x0_cat</th>\n",
              "      <th>x0_dog</th>\n",
              "    </tr>\n",
              "  </thead>\n",
              "  <tbody>\n",
              "    <tr>\n",
              "      <th>0</th>\n",
              "      <td>-1.224745</td>\n",
              "      <td>-1.224745</td>\n",
              "      <td>0.707107</td>\n",
              "      <td>-0.707107</td>\n",
              "    </tr>\n",
              "    <tr>\n",
              "      <th>1</th>\n",
              "      <td>0.000000</td>\n",
              "      <td>0.000000</td>\n",
              "      <td>-1.414214</td>\n",
              "      <td>1.414214</td>\n",
              "    </tr>\n",
              "    <tr>\n",
              "      <th>2</th>\n",
              "      <td>1.224745</td>\n",
              "      <td>1.224745</td>\n",
              "      <td>0.707107</td>\n",
              "      <td>-0.707107</td>\n",
              "    </tr>\n",
              "  </tbody>\n",
              "</table>\n",
              "</div>"
            ],
            "text/plain": [
              "          1         2    x0_cat    x0_dog\n",
              "0 -1.224745 -1.224745  0.707107 -0.707107\n",
              "1  0.000000  0.000000 -1.414214  1.414214\n",
              "2  1.224745  1.224745  0.707107 -0.707107"
            ]
          },
          "execution_count": 75,
          "metadata": {},
          "output_type": "execute_result"
        }
      ],
      "source": [
        "df2 = pd.DataFrame(std_scaled, columns=col)\n",
        "df2"
      ]
    }
  ],
  "metadata": {
    "kernelspec": {
      "display_name": "Python 3 (ipykernel)",
      "language": "python",
      "name": "python3"
    },
    "language_info": {
      "codemirror_mode": {
        "name": "ipython",
        "version": 3
      },
      "file_extension": ".py",
      "mimetype": "text/x-python",
      "name": "python",
      "nbconvert_exporter": "python",
      "pygments_lexer": "ipython3",
      "version": "3.8.5"
    },
    "toc": {
      "base_numbering": 1,
      "nav_menu": {},
      "number_sections": true,
      "sideBar": true,
      "skip_h1_title": false,
      "title_cell": "Table of Contents",
      "title_sidebar": "Contents",
      "toc_cell": false,
      "toc_position": {},
      "toc_section_display": true,
      "toc_window_display": false
    },
    "colab": {
      "provenance": []
    }
  },
  "nbformat": 4,
  "nbformat_minor": 5
}