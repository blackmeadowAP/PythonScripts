{
 "cells": [
  {
   "cell_type": "markdown",
   "id": "d5cc6b9d",
   "metadata": {},
   "source": [
    "# ФУНКЦИИ"
   ]
  },
  {
   "cell_type": "markdown",
   "id": "b1721fe4",
   "metadata": {},
   "source": [
    "Функция должна определяться начальным словом def, через пробел указывается имя функции и без пробела в круглых скобах аргументы, которые необходимо ей передать. Аргументы также могут отсутствовать, в таком случае указываются только (). После двоеточие и с отступа идёт тело функции, которое содержит код, который выполняет функция. Пример ниже"
   ]
  },
  {
   "cell_type": "code",
   "execution_count": 1,
   "id": "3883a85a",
   "metadata": {},
   "outputs": [],
   "source": [
    "def sum_4():\n",
    "    return 2+2"
   ]
  },
  {
   "cell_type": "markdown",
   "id": "e18e8dce",
   "metadata": {},
   "source": [
    "Ключевое слово/оператор return используется для возвращения результата функции. Оператор return не только возвращает значение, но и производит выход из функции. Поэтому он должен определяться после остальных инструкций. Для вызова функции необходимо прописать её имя, указат () и передать аргументы, если таковые имеются"
   ]
  },
  {
   "cell_type": "code",
   "execution_count": 2,
   "id": "16a3fd09",
   "metadata": {
    "scrolled": true
   },
   "outputs": [
    {
     "data": {
      "text/plain": [
       "4"
      ]
     },
     "execution_count": 2,
     "metadata": {},
     "output_type": "execute_result"
    }
   ],
   "source": [
    "sum_4()"
   ]
  },
  {
   "cell_type": "markdown",
   "id": "757e8a95",
   "metadata": {},
   "source": [
    "Результат работы функции можно записать в переменную"
   ]
  },
  {
   "cell_type": "code",
   "execution_count": 3,
   "id": "44bea25a",
   "metadata": {},
   "outputs": [],
   "source": [
    "a = sum_4()"
   ]
  },
  {
   "cell_type": "markdown",
   "id": "07827333",
   "metadata": {},
   "source": [
    "Рассмотрим следующий пример, после return указан код, он выполняться не будет, так как return закончил работу функции"
   ]
  },
  {
   "cell_type": "code",
   "execution_count": 4,
   "id": "64dac3b9",
   "metadata": {},
   "outputs": [],
   "source": [
    "def sum_4():\n",
    "    return 2+2\n",
    "    print(\"Show text\")"
   ]
  },
  {
   "cell_type": "code",
   "execution_count": 5,
   "id": "eae5ede0",
   "metadata": {},
   "outputs": [
    {
     "data": {
      "text/plain": [
       "4"
      ]
     },
     "execution_count": 5,
     "metadata": {},
     "output_type": "execute_result"
    }
   ],
   "source": [
    "sum_4()"
   ]
  },
  {
   "cell_type": "markdown",
   "id": "2f129cf9",
   "metadata": {},
   "source": [
    "Также рассмотрим пример, когда операто return не указан"
   ]
  },
  {
   "cell_type": "code",
   "execution_count": 6,
   "id": "a9acf1b4",
   "metadata": {},
   "outputs": [],
   "source": [
    "def sum_5():\n",
    "    2+3"
   ]
  },
  {
   "cell_type": "code",
   "execution_count": 7,
   "id": "d761181b",
   "metadata": {},
   "outputs": [],
   "source": [
    "sum_5()"
   ]
  },
  {
   "cell_type": "markdown",
   "id": "80978e52",
   "metadata": {},
   "source": [
    "Аргументы в функии могут быть двух видов, обязательные и необязательные. В случае обязательных аргументов, при определении функции буквенно указывается имя аргумента и через запятую перечисляются все аргументы. Необязательному аргументу также указывается имя и через равно присваивается значение по умолчанию "
   ]
  },
  {
   "cell_type": "code",
   "execution_count": 8,
   "id": "507e613c",
   "metadata": {},
   "outputs": [],
   "source": [
    "def my_sum(a, b):\n",
    "    return a+b"
   ]
  },
  {
   "cell_type": "code",
   "execution_count": 9,
   "id": "75a6bc02",
   "metadata": {},
   "outputs": [
    {
     "data": {
      "text/plain": [
       "10"
      ]
     },
     "execution_count": 9,
     "metadata": {},
     "output_type": "execute_result"
    }
   ],
   "source": [
    "my_sum(4,6) "
   ]
  },
  {
   "cell_type": "markdown",
   "id": "0f860c5a",
   "metadata": {},
   "source": [
    "Интерпретировать вышеуказанный код можно следующим образом. Мы вызываем функцию и передаём два числа. Первое принимает переменная a (a=4), второй b(b=6). Функция возвращает сумму. Ниже функция с необязательным аргументом. Его указывать при вызове функции необязательно"
   ]
  },
  {
   "cell_type": "code",
   "execution_count": 10,
   "id": "33af6a68",
   "metadata": {},
   "outputs": [],
   "source": [
    "def my_sum(a, b, c=10):\n",
    "    return a+b+c"
   ]
  },
  {
   "cell_type": "code",
   "execution_count": 11,
   "id": "2e34fbad",
   "metadata": {},
   "outputs": [
    {
     "data": {
      "text/plain": [
       "20"
      ]
     },
     "execution_count": 11,
     "metadata": {},
     "output_type": "execute_result"
    }
   ],
   "source": [
    "my_sum(4,6)"
   ]
  },
  {
   "cell_type": "markdown",
   "id": "222b0049",
   "metadata": {},
   "source": [
    "При этом аргумент \"с\" можно переназначить"
   ]
  },
  {
   "cell_type": "code",
   "execution_count": 12,
   "id": "23306398",
   "metadata": {
    "scrolled": true
   },
   "outputs": [
    {
     "data": {
      "text/plain": [
       "16"
      ]
     },
     "execution_count": 12,
     "metadata": {},
     "output_type": "execute_result"
    }
   ],
   "source": [
    "my_sum(4,6,6)"
   ]
  },
  {
   "cell_type": "markdown",
   "id": "4675b488",
   "metadata": {},
   "source": [
    "Также аргументы можно передавать следующим образом"
   ]
  },
  {
   "cell_type": "code",
   "execution_count": 13,
   "id": "d67bfda8",
   "metadata": {},
   "outputs": [
    {
     "data": {
      "text/plain": [
       "17"
      ]
     },
     "execution_count": 13,
     "metadata": {},
     "output_type": "execute_result"
    }
   ],
   "source": [
    "my_sum(b=5, a=2)"
   ]
  },
  {
   "cell_type": "markdown",
   "id": "28815021",
   "metadata": {},
   "source": [
    "## Напишите функцию, которая принимает на вход три аргумента. Первый и третий аргумент складывает и делит на второй. Второй аргумент сделать необязательным и присвоить значение по умолчанию равным 10. Функция должна возвращать строку \"Полученное значение: float\" "
   ]
  },
  {
   "cell_type": "markdown",
   "id": "8d7c7638",
   "metadata": {},
   "source": [
    "## Напишите функцию, которая принимает на вход две строки одной длинны. Создайте словарь, в котором каждой букве из первой строки будет присвоено значение из второй строки (по индексу). Функция должна возвращать словарь"
   ]
  },
  {
   "cell_type": "markdown",
   "id": "83cf3825",
   "metadata": {},
   "source": [
    "Если функция из-за особенностей кода работает с неизвестным количеством аргументов, то можно использовать конструкцию \\*args, чтобы передавать список аргументов"
   ]
  },
  {
   "cell_type": "code",
   "execution_count": 10,
   "id": "c6ccc556",
   "metadata": {},
   "outputs": [
    {
     "name": "stdout",
     "output_type": "stream",
     "text": [
      "0.7\n"
     ]
    }
   ],
   "source": [
    "def sum_count(a, b = 10, c = 0):\n",
    "    return float((a + c) / b)\n",
    "print(sum_count(2, c = 5))"
   ]
  },
  {
   "cell_type": "code",
   "execution_count": 33,
   "id": "8927d866",
   "metadata": {},
   "outputs": [
    {
     "name": "stdout",
     "output_type": "stream",
     "text": [
      "{'1': 'a', '2': 'b', '3': 'c'}\n"
     ]
    }
   ],
   "source": [
    "a = \"123\"\n",
    "b = \"abc\"\n",
    "def zipping(*args):\n",
    "    a, b = args\n",
    "    dictionary = dict(zip(a, b))\n",
    "    return dictionary\n",
    "\n",
    "c = zipping(a, b)\n",
    "print(c)"
   ]
  },
  {
   "cell_type": "markdown",
   "id": "a0117f44",
   "metadata": {},
   "source": [
    "## Напишите функцию, которая принимает на вход неизвестное количество аргументов и считает их среднее значение"
   ]
  },
  {
   "cell_type": "code",
   "execution_count": 30,
   "id": "6aef0625",
   "metadata": {},
   "outputs": [
    {
     "name": "stdout",
     "output_type": "stream",
     "text": [
      "3\n"
     ]
    },
    {
     "data": {
      "text/plain": [
       "4.0"
      ]
     },
     "execution_count": 30,
     "metadata": {},
     "output_type": "execute_result"
    }
   ],
   "source": [
    "def average(*args):\n",
    "    number_sum = 0\n",
    "    for arg in args:\n",
    "        number_sum += arg\n",
    "    number_sum /= len(args)\n",
    "    return(number_sum)    \n",
    "average(2, 2, 8)    \n"
   ]
  },
  {
   "cell_type": "markdown",
   "id": "9796365a",
   "metadata": {},
   "source": [
    "## Напишите две функции. Первая принимает на вход значение и берёт из него корень. Вторая функция принимает на вход список и каждый элемент этого списка передаёт в первую функцию. Полученный результат записывает в новый список и выводит его в качестве ответа"
   ]
  },
  {
   "cell_type": "code",
   "execution_count": 1,
   "id": "c1b5790b",
   "metadata": {},
   "outputs": [
    {
     "data": {
      "text/plain": [
       "[1.0,\n",
       " 1.4142135623730951,\n",
       " 1.7320508075688772,\n",
       " 2.0,\n",
       " 2.23606797749979,\n",
       " 2.449489742783178,\n",
       " 2.6457513110645907,\n",
       " 2.8284271247461903,\n",
       " 3.0,\n",
       " 3.1622776601683795]"
      ]
     },
     "execution_count": 1,
     "metadata": {},
     "output_type": "execute_result"
    }
   ],
   "source": [
    "def square_root(number):\n",
    "    return number ** 0.5\n",
    "square_root(64)\n",
    "\n",
    "def list_square_root(number_list):\n",
    "    final_list = []\n",
    "    for index, element in enumerate(number_list):\n",
    "        final_list.append(square_root(element))\n",
    "    return final_list    \n",
    "        \n",
    "        \n",
    "        \n",
    "        \n",
    "number_list = [x for x in range(1, 11)]      \n",
    "list_square_root(number_list)"
   ]
  },
  {
   "cell_type": "markdown",
   "id": "c10fc928",
   "metadata": {},
   "source": [
    "# Lambda-фукнции"
   ]
  },
  {
   "cell_type": "markdown",
   "id": "1043274b",
   "metadata": {},
   "source": [
    "Lambda-функция позволяет создавать анонимную функцию, которая выполняет одно выражение"
   ]
  },
  {
   "cell_type": "code",
   "execution_count": 11,
   "id": "d3accc35",
   "metadata": {},
   "outputs": [
    {
     "data": {
      "text/plain": [
       "4"
      ]
     },
     "execution_count": 11,
     "metadata": {},
     "output_type": "execute_result"
    }
   ],
   "source": [
    "func = lambda x: x*2 #x — это аргумент, x*2 — это выражение, которое вычисляется и возвращается\n",
    "func(2)"
   ]
  },
  {
   "cell_type": "markdown",
   "id": "920ac734",
   "metadata": {},
   "source": [
    "Рассмотрим возможность применения lambda-функции. Чаще всего данная функция используется сразу с несколькими функциями, например, filter, которая принимает на вход первым аргументом функцию, вторым итерируемый объект с которым необходимо сделать какие-то манипуляции. filter - фильтрует переданный объект по условию, если условия нет, то она вернёт изначальный объект. В качестве первого аргумента может испольлзоваться lambda"
   ]
  },
  {
   "cell_type": "code",
   "execution_count": 12,
   "id": "ce9222d6",
   "metadata": {
    "scrolled": true
   },
   "outputs": [
    {
     "data": {
      "text/plain": [
       "[4, 6, 10, 12, 14]"
      ]
     },
     "execution_count": 12,
     "metadata": {},
     "output_type": "execute_result"
    }
   ],
   "source": [
    "list_1 = [1, 3, 4, 6, 10, 11, 15, 12, 14]\n",
    "list_2 = list(filter(lambda x: x%2 == 0, list_1))\n",
    "list_2"
   ]
  },
  {
   "cell_type": "markdown",
   "id": "30ed9df6",
   "metadata": {},
   "source": [
    "Функция map также принимает два аргумента: функцию и объект. Функция применяется к каждому элементу объекта "
   ]
  },
  {
   "cell_type": "code",
   "execution_count": 13,
   "id": "758092cf",
   "metadata": {
    "scrolled": true
   },
   "outputs": [
    {
     "data": {
      "text/plain": [
       "[1, 27, 64, 216, 1000, 1331, 3375, 1728, 2744]"
      ]
     },
     "execution_count": 13,
     "metadata": {},
     "output_type": "execute_result"
    }
   ],
   "source": [
    "list_1 = [1, 3, 4, 6, 10, 11, 15, 12, 14]\n",
    "list_2 = list(map(lambda x: x**3, list_1))\n",
    "list_2"
   ]
  },
  {
   "cell_type": "markdown",
   "id": "b6f118e9",
   "metadata": {},
   "source": [
    "sort в качестве ключа может принимать условие по которому необходимо отсортировать объект. В случае сортировки по нескольким условиям, условия перечисляются через запятую и помещаются в круглые скобы. Очерёдность сортировки по месту в кортеже"
   ]
  },
  {
   "cell_type": "code",
   "execution_count": 14,
   "id": "0f6c37b8",
   "metadata": {
    "scrolled": true
   },
   "outputs": [
    {
     "data": {
      "text/plain": [
       "[(0, 4), (3, -2), (7, 1)]"
      ]
     },
     "execution_count": 14,
     "metadata": {},
     "output_type": "execute_result"
    }
   ],
   "source": [
    "list_1 = [(3, -2), (7, 1), (0, 4)]\n",
    "list_1.sort(key=lambda list_1: list_1[0])\n",
    "list_1"
   ]
  },
  {
   "cell_type": "markdown",
   "id": "524eb779",
   "metadata": {},
   "source": [
    "Также возможно использование lambda с операторами if/else, синтаксис представлена на примере ниже"
   ]
  },
  {
   "cell_type": "code",
   "execution_count": 15,
   "id": "b4798fef",
   "metadata": {
    "scrolled": true
   },
   "outputs": [
    {
     "data": {
      "text/plain": [
       "30"
      ]
     },
     "execution_count": 15,
     "metadata": {},
     "output_type": "execute_result"
    }
   ],
   "source": [
    "max_number = lambda a, b: a if a > b else b\n",
    "max_number(30, 5)"
   ]
  },
  {
   "cell_type": "markdown",
   "id": "5c6c8427",
   "metadata": {},
   "source": [
    "## Дан список словарей, необходимо отсортировать список по значениям возраста в каждом словаре, используя lambda. [{\"name\": 'Name1', \"age\": 34}, {\"name\": 'Name2', \"age\": 26}, {\"name\": 'Name3', \"age\": 12}]"
   ]
  },
  {
   "cell_type": "code",
   "execution_count": 6,
   "id": "da77c651",
   "metadata": {},
   "outputs": [
    {
     "name": "stdout",
     "output_type": "stream",
     "text": [
      "[{'name': 'Name3', 'age': 12}, {'name': 'Name2', 'age': 26}, {'name': 'Name1', 'age': 34}]\n"
     ]
    }
   ],
   "source": [
    "names = [{\"name\": 'Name1', \"age\": 34},\n",
    "         {\"name\": 'Name2', \"age\": 26},\n",
    "         {\"name\": 'Name3', \"age\": 12}]\n",
    "\n",
    "sorted_lst = sorted(names, key=lambda x: x[\"age\"])\n",
    "\n",
    "print(sorted_lst)"
   ]
  },
  {
   "cell_type": "markdown",
   "id": "2417cdfd",
   "metadata": {},
   "source": [
    "## Даны пространственные коориданты некоторых точек. Необходимо осортировать каждый кортеж точек по двум условиям. 1 - Весь список отсортирован по возрастанию координаты Z. 2 - Кортежи с одинаковыми координатами Z в свою очередь сортируются по убыванию координаты Y. [(3, 11, 14), (3, 9, 18), (3, 10, 10), (3, 11, 12), (3, 11, 10), (3, 10, 12), (3, 9, 14)]"
   ]
  },
  {
   "cell_type": "code",
   "execution_count": 7,
   "id": "9a2347a8",
   "metadata": {},
   "outputs": [
    {
     "name": "stdout",
     "output_type": "stream",
     "text": [
      "[(3, 11, 10), (3, 10, 10), (3, 11, 12), (3, 10, 12), (3, 11, 14), (3, 9, 14), (3, 9, 18)]\n"
     ]
    }
   ],
   "source": [
    "coordinates = [(3, 11, 14),\n",
    "               (3, 9, 18), \n",
    "               (3, 10, 10), \n",
    "               (3, 11, 12),\n",
    "               (3, 11, 10), \n",
    "               (3, 10, 12),\n",
    "               (3, 9, 14)]\n",
    "\n",
    "sorted_coordinates = sorted(coordinates, key=lambda x:(x[2], -x[1]))\n",
    "print(sorted_coordinates)"
   ]
  },
  {
   "cell_type": "markdown",
   "id": "1b4db7c3",
   "metadata": {},
   "source": [
    "# Try/except"
   ]
  },
  {
   "cell_type": "markdown",
   "id": "b951a341",
   "metadata": {},
   "source": [
    "Данная конструкция необходима для нахождения и обрабатывания исключений. Конструкция предполагает в своём минимуме написание try:, после которого код попытается испольнить ниженаписанное условие. После следует except и название исключения, котороё необходимо отловить. Если исключений несколько, их указывают через запятую в (). Исключение в try обрабатываются построчно"
   ]
  },
  {
   "cell_type": "code",
   "execution_count": 16,
   "id": "352738a6",
   "metadata": {},
   "outputs": [
    {
     "ename": "ZeroDivisionError",
     "evalue": "division by zero",
     "output_type": "error",
     "traceback": [
      "\u001b[0;31m---------------------------------------------------------------------------\u001b[0m",
      "\u001b[0;31mZeroDivisionError\u001b[0m                         Traceback (most recent call last)",
      "Input \u001b[0;32mIn [16]\u001b[0m, in \u001b[0;36m<cell line: 3>\u001b[0;34m()\u001b[0m\n\u001b[1;32m      1\u001b[0m a \u001b[38;5;241m=\u001b[39m \u001b[38;5;241m100\u001b[39m\n\u001b[1;32m      2\u001b[0m b \u001b[38;5;241m=\u001b[39m \u001b[38;5;241m0\u001b[39m\n\u001b[0;32m----> 3\u001b[0m c \u001b[38;5;241m=\u001b[39m \u001b[43ma\u001b[49m\u001b[38;5;241;43m/\u001b[39;49m\u001b[43mb\u001b[49m\n",
      "\u001b[0;31mZeroDivisionError\u001b[0m: division by zero"
     ]
    }
   ],
   "source": [
    "a = 100\n",
    "b = 0\n",
    "c = a/b"
   ]
  },
  {
   "cell_type": "code",
   "execution_count": null,
   "id": "9fc10cd6",
   "metadata": {},
   "outputs": [],
   "source": [
    "try:\n",
    "    a = 100\n",
    "    b = 0\n",
    "    c = a/b\n",
    "except ZeroDivisionError:\n",
    "    c = \"Нельзя делить на ноль\"\n",
    "c"
   ]
  },
  {
   "cell_type": "markdown",
   "id": "9e982767",
   "metadata": {},
   "source": [
    "Как правило, исключения прописываются при создании достаточно объёмного проекта. Для этого сначала необходимо использовать уже существующее или написать свой. Свои исключения создаются с помощью классов (наследование от Exception). Для вызова исключений используется ключевое слово raise после которого указывается имя исключения и текст для вывода"
   ]
  },
  {
   "cell_type": "code",
   "execution_count": null,
   "id": "dc1b0bf9",
   "metadata": {},
   "outputs": [],
   "source": [
    "class MyError(Exception):\n",
    "    pass"
   ]
  },
  {
   "cell_type": "code",
   "execution_count": null,
   "id": "e9027122",
   "metadata": {
    "scrolled": true
   },
   "outputs": [],
   "source": [
    "def dev(a,b):\n",
    "    if b == 0:\n",
    "        raise MyError(\"Неправильные данные\")\n",
    "    return a/b\n",
    "dev(2,0)"
   ]
  },
  {
   "cell_type": "markdown",
   "id": "6c87b2fc",
   "metadata": {},
   "source": [
    "Для полной конструкции используются else и finally. Под else: код, который будет исполнен в случае, когда не возникает исключения. finaly выполняет блок инструкций в любом случае, было ли исключение, или нет"
   ]
  },
  {
   "cell_type": "code",
   "execution_count": null,
   "id": "d4b4182c",
   "metadata": {},
   "outputs": [],
   "source": [
    "def dev(a, b):\n",
    "    try:\n",
    "        c = a / b\n",
    "    except ZeroDivisionError:\n",
    "        b = 2\n",
    "    else:\n",
    "        print(\"На ноль не делили\") \n",
    "    finally:\n",
    "        return a/b"
   ]
  },
  {
   "cell_type": "code",
   "execution_count": null,
   "id": "3b6300e5",
   "metadata": {},
   "outputs": [],
   "source": [
    "dev(100,2)"
   ]
  },
  {
   "cell_type": "code",
   "execution_count": null,
   "id": "5f8d26dc",
   "metadata": {
    "scrolled": true
   },
   "outputs": [],
   "source": [
    "dev(100,0)"
   ]
  },
  {
   "cell_type": "markdown",
   "id": "990112b2",
   "metadata": {},
   "source": [
    "## Напишите функцию, которая будет принимать на вход три аргумента. Два складывать и на третье делить. Подумайте, какие ошибки могут возникнуть при выполнении кода и реализуйте возможные исключения"
   ]
  },
  {
   "cell_type": "code",
   "execution_count": 22,
   "id": "f0282cd8",
   "metadata": {},
   "outputs": [
    {
     "name": "stdout",
     "output_type": "stream",
     "text": [
      "Ошибка: Нельзя делить на ноль!\n",
      "Ошибка: Аргументы должны быть числами!\n"
     ]
    }
   ],
   "source": [
    "def error_test(a, b, c):\n",
    "    try:\n",
    "        sum_div = (a + b) / c\n",
    "        return sum_div\n",
    "    \n",
    "    except ZeroDivisionError:\n",
    "        print(\"Ошибка: Нельзя делить на ноль!\")\n",
    "        \n",
    "    except TypeError:\n",
    "        print(\"Ошибка: Аргументы должны быть числами!\")\n",
    "        \n",
    "a, b, c = 2, 4, 0\n",
    "error_test(a, b, c)\n",
    "\n",
    "a, b, c = \"c\", 2, 5\n",
    "error_test(a, b, c)"
   ]
  },
  {
   "cell_type": "markdown",
   "id": "c94359ae",
   "metadata": {},
   "source": [
    "## Реализуйте предыдущую функцию, но сейчас пробрасывая исключения, если таковые имеются"
   ]
  },
  {
   "cell_type": "markdown",
   "id": "6da8702c",
   "metadata": {},
   "source": [
    "# Классы"
   ]
  },
  {
   "cell_type": "markdown",
   "id": "ec3b3bf9",
   "metadata": {},
   "source": [
    "Классы в python - объекты. У классов могут быть указаны методы, атрибуты. Атрибуты могут хранить некоторые характеристики, а методы - функции класса. При создании прописывается конструктор класса, который хранит атрибуты. В случае создании атрибутов вне конструктора, атрибут будет применяться ко всем экземплярам класса. Методы класса имеют обязательный аргумент self, который является ссылкой на экземпляр класса. Методы могут быть статичные, в таком случае self указывать нет необходимости, так как такой метод должен вызываться у всего класса, а не у конкретного объекта"
   ]
  },
  {
   "cell_type": "code",
   "execution_count": 34,
   "id": "d35b5ee0",
   "metadata": {
    "scrolled": true
   },
   "outputs": [
    {
     "name": "stdout",
     "output_type": "stream",
     "text": [
      "1\n",
      "1\n"
     ]
    }
   ],
   "source": [
    "class Snake:\n",
    "    name = 'Python'\n",
    "    \n",
    "    def __init__(self):\n",
    "        self.mouse_eaten_counter = 0\n",
    "        print('1')\n",
    "    \n",
    "    def voice(self): \n",
    "        self.mouse_eaten_counter += 1\n",
    "        return \"shhh\"\n",
    "    \n",
    "    @staticmethod\n",
    "    def sleep():\n",
    "        return \"ZzZzZ\"\n",
    "\n",
    "s1 = Snake()\n",
    "mouse_eaten_counter = 0\n",
    "s1.mouse_eaten_counter = 1\n",
    "s1.__init__()"
   ]
  },
  {
   "cell_type": "markdown",
   "id": "ee29bc41",
   "metadata": {},
   "source": [
    "## Создайте класс для сиквенса белковых последовательностей. Атрибутами класса будут три значения: 1)переменная, которая содержит количество протеинов определённых в классе, 2)переменная, которая содержит id протеина и его последовательность в виде словаря, 3)переменная, которая содержит строку \"SEGAFGRDFHNRESHJRSTTTTHHREHSEHEHJ\" - контроль для выравнивания. В конструкторе класса определите переменную экземпляра, которая будет равна строке, которая приходит на вход при создании экзмепляра класса. Класс должен содержать статичный метод, который возвращает 2-ой атрибут. И метод, который сравнивает две последовательности (контроль и последовательность экземпляра), высчитывая процент гомологичности протеинов. Если последовательность экзмепляра больше контроля, её необходимо обрезать по длине контроля, сделая их равными. Если последовательность экземпляра меньше, её необходимо дополнить символом \"\\*\" до длины контроля\n",
    "\n",
    "Для получения рандомных id можно использовать следующий код"
   ]
  },
  {
   "cell_type": "code",
   "execution_count": null,
   "id": "63c135ad",
   "metadata": {},
   "outputs": [],
   "source": [
    "import random\n",
    "random.randint(1,100)"
   ]
  },
  {
   "cell_type": "code",
   "execution_count": 17,
   "id": "b8307a8d",
   "metadata": {},
   "outputs": [],
   "source": [
    "class sequence_protein:\n",
    " \n",
    "    count = 0\n",
    "    control_protein = \"SEGAFGRDFHNRESHJRSTTTTHHREHSEHEHJ\"\n",
    "    protein_base = []\n",
    "    protein_id = 0\n",
    "\n",
    "    def __init__(self, seq):\n",
    "        import random\n",
    "        self.count += 1\n",
    "        self.protein_id = random.randint(1,100)\n",
    "\n",
    "        if len(seq) == len(self.control_protein):\n",
    "            self.protein_base.append({self.protein_id: seq})\n",
    "\n",
    "        elif len(seq) > len(self.control_protein):\n",
    "            self.seq = seq[:len(self.control_protein)]\n",
    "            self.protein_base.append({self.protein_id:seq})\n",
    "\n",
    "        else:\n",
    "            insert = len(self.control_protein)-len(seq)\n",
    "            ins = \"*\" * insert\n",
    "            seq = seq + ins\n",
    "            self.protein_base.append({self.protein_id:seq})\n",
    "\n",
    "    def seq_comparasion(self, seq):\n",
    "        self.same = 0\n",
    "        for i in range(len(seq)):\n",
    "            if self.control_protein[i] == seq[i]:\n",
    "                self.same += 1\n",
    "\n",
    "        return round(self.same/len(self.control_protein)*100, 2)\n",
    "\n",
    "    @staticmethod\n",
    "    def base_view():\n",
    "        return sequence_protein.protein_base\n"
   ]
  },
  {
   "cell_type": "code",
   "execution_count": 18,
   "id": "06997efa",
   "metadata": {},
   "outputs": [
    {
     "data": {
      "text/plain": [
       "[{64: 'TTHHREHSEHEHJSEGAFGRDFHNRESHJRSTT'},\n",
       " {45: 'TTHHREHSEHJRSTT******************'}]"
      ]
     },
     "execution_count": 18,
     "metadata": {},
     "output_type": "execute_result"
    }
   ],
   "source": [
    "sample_2 = sequence_protein(\"TTHHREHSEHEHJSEGAFGRDFHNRESHJRSTT\")\n",
    "protein_2 = \"GSE\"\n",
    "sample_2.seq_comparasion(protein_2)\n",
    "sample_2.base_view()\n",
    "\n",
    "sample_1 = sequence_protein(\"TTHHREHSEHJRSTT\")\n",
    "protein_1 = \"GSSSSGEEEEE\"\n",
    "sample_1.seq_comparasion(protein_1)\n",
    "sample_1.base_view()"
   ]
  },
  {
   "cell_type": "code",
   "execution_count": null,
   "id": "87850dbe",
   "metadata": {},
   "outputs": [],
   "source": []
  },
  {
   "cell_type": "code",
   "execution_count": null,
   "id": "22a6c864",
   "metadata": {},
   "outputs": [],
   "source": []
  },
  {
   "cell_type": "code",
   "execution_count": null,
   "id": "7c212f63",
   "metadata": {},
   "outputs": [],
   "source": []
  },
  {
   "cell_type": "code",
   "execution_count": null,
   "id": "331c04a5",
   "metadata": {},
   "outputs": [],
   "source": []
  },
  {
   "cell_type": "code",
   "execution_count": null,
   "id": "4e4c8f9e",
   "metadata": {},
   "outputs": [],
   "source": []
  },
  {
   "cell_type": "code",
   "execution_count": 3,
   "id": "81e85eff",
   "metadata": {},
   "outputs": [
    {
     "data": {
      "text/plain": [
       "('Это метод из дочернего класса', 'Это родительский метод из класса Reptilia')"
      ]
     },
     "execution_count": 3,
     "metadata": {},
     "output_type": "execute_result"
    }
   ],
   "source": [
    "# Наследование\n",
    "\n",
    "class Reptilia:\n",
    "    def reptilia_method(self):\n",
    "        return \"Это родительский метод из класса Reptilia\"\n",
    "\n",
    "class Snake(Reptilia):\n",
    "    def snake_method(self):\n",
    "        return \"Это метод из дочернего класса\"\n",
    "    \n",
    "s1 = Snake()\n",
    "s1.snake_method(), s1.reptilia_method()"
   ]
  },
  {
   "cell_type": "code",
   "execution_count": null,
   "id": "06920dc3",
   "metadata": {},
   "outputs": [],
   "source": [
    "# Множественное наследование (2 родителя, один ребёнок)\n",
    "  \n",
    "class Animals:\n",
    "    def animals_method(self):\n",
    "        return \"Это родительский метод из класса Animals\"\n",
    "    \n",
    "class Reptilia:\n",
    "    def reptilia_method(self):\n",
    "        return \"Это родительский метод из класса Reptilia\"\n",
    "\n",
    "class Snake(Animals, Reptilia):\n",
    "    def snake_method(self):\n",
    "        return \"Это метод из дочернего класса\"\n",
    "    \n",
    "s1 = Snake()\n",
    "s1.snake_method(), s1.reptilia_method(), s1.animals_method()"
   ]
  },
  {
   "cell_type": "code",
   "execution_count": null,
   "id": "67210a7a",
   "metadata": {},
   "outputs": [],
   "source": [
    "# Множественное наследование (два ребёнка, один родитель)\n",
    "\n",
    "class Animals:\n",
    "    def animals_method(self):\n",
    "        return \"Это родительский метод из класса Animals\"\n",
    "    \n",
    "class Reptilia(Animals):\n",
    "    def reptilia_method(self):\n",
    "        return \"Это родительский метод из класса Reptilia\"\n",
    "\n",
    "class Snake(Reptilia):\n",
    "    def snake_method(self):\n",
    "        return \"Это метод из дочернего класса\"\n",
    "    \n",
    "s1 = Snake()\n",
    "s2 = Reptilia()\n",
    "s1.animals_method(), s1.animals_method()"
   ]
  },
  {
   "cell_type": "code",
   "execution_count": null,
   "id": "18bd98a0",
   "metadata": {},
   "outputs": [],
   "source": [
    "# Полиморфизм / Переопределение метода\n",
    "\n",
    "class Animals:\n",
    "    def method(self):\n",
    "        return \"Это родительский метод из класса Animals\"\n",
    "    \n",
    "class Reptilia(Animals):\n",
    "    def method(self):\n",
    "        return \"Это родительский метод из класса Reptilia\"\n",
    "\n",
    "class Snake(Reptilia):\n",
    "    def method(self):\n",
    "        return \"Это метод из дочернего класса\"\n",
    "    \n",
    "    \n",
    "s1 = Snake()\n",
    "s2 = Reptilia()\n",
    "s3 = Animals()\n",
    "s1.method(), s2.method(), s3.method()"
   ]
  },
  {
   "cell_type": "code",
   "execution_count": null,
   "id": "1d028967",
   "metadata": {
    "scrolled": true
   },
   "outputs": [],
   "source": [
    "# Инкапсуляция\n",
    "\n",
    "class Snake:\n",
    "\n",
    "    def __init__(self):\n",
    "        self.__mouse_eaten_counter = 0\n",
    "\n",
    "    def counter(self):\n",
    "        print(f\"Количество поетых мышей: {self.__mouse_eaten_counter}\")\n",
    "\n",
    "    def change_counter(self, num):\n",
    "        self.__mouse_eaten_counter = num\n",
    "\n",
    "s1 = Snake()\n",
    "s1.counter()\n",
    "\n",
    "#запрет на изменение приватной переменной\n",
    "s1.__mouse_eaten_counter = 12\n",
    "s1.counter()\n",
    "\n",
    "#функция изменения каунтера\n",
    "s1.change_counter(12)\n",
    "s1.counter()"
   ]
  },
  {
   "cell_type": "code",
   "execution_count": null,
   "id": "a390c54a",
   "metadata": {},
   "outputs": [],
   "source": []
  },
  {
   "cell_type": "markdown",
   "id": "f1a1ffa2",
   "metadata": {},
   "source": [
    "# Импорт"
   ]
  },
  {
   "cell_type": "markdown",
   "id": "e3026a82",
   "metadata": {},
   "source": [
    "Для инсталяции сторонних библиотек, необходимо использовать менеджер пакетов pip. На ubuntu sudo pip install name_pack. После этого в коде можно прописать import name_pack или from name_pacl import ... Некоторые библиотеки уже предустановлены в питоне, но импортировать их необходимо"
   ]
  },
  {
   "cell_type": "code",
   "execution_count": null,
   "id": "30e54c8a",
   "metadata": {},
   "outputs": [],
   "source": [
    "import math as m\n",
    "\n",
    "m.e"
   ]
  },
  {
   "cell_type": "code",
   "execution_count": null,
   "id": "3900a86d",
   "metadata": {},
   "outputs": [],
   "source": [
    "from math import e\n",
    "\n",
    "e"
   ]
  },
  {
   "cell_type": "code",
   "execution_count": null,
   "id": "a40a470f",
   "metadata": {},
   "outputs": [],
   "source": [
    "from math import (sin, cos, tan)\n",
    "\n",
    "sin(1)"
   ]
  },
  {
   "cell_type": "code",
   "execution_count": null,
   "id": "0ff2b5cc",
   "metadata": {},
   "outputs": [],
   "source": [
    "import random\n",
    "\n",
    "random.randint(10, 20) #случайное целое число N, A ≤ N ≤ B\n",
    "random.random() #случайное число от 0 до 1\n",
    "ml = [1,3,4,5,6]\n",
    "random.shuffle(ml) #перемешивает последовательность\n",
    "ml"
   ]
  },
  {
   "cell_type": "markdown",
   "id": "b90c079a",
   "metadata": {},
   "source": [
    "Для импорта своих модулей необходимо указать путь к файлу"
   ]
  },
  {
   "cell_type": "code",
   "execution_count": null,
   "id": "94a517c9",
   "metadata": {},
   "outputs": [],
   "source": [
    "import module_1\n",
    "\n",
    "module_1.voice()"
   ]
  },
  {
   "cell_type": "code",
   "execution_count": null,
   "id": "c94c1560",
   "metadata": {},
   "outputs": [],
   "source": [
    "import module_1 as m1\n",
    "\n",
    "m1.voice()"
   ]
  },
  {
   "cell_type": "code",
   "execution_count": null,
   "id": "25b54fea",
   "metadata": {},
   "outputs": [],
   "source": [
    "import matplotlib.pyplot as plt \n",
    "    \n",
    "nums = [] \n",
    "mu = 100\n",
    "sigma = 10\n",
    "    \n",
    "for i in range(100000): \n",
    "    temp = random.gauss(mu, sigma) \n",
    "    nums.append(temp) \n",
    "        \n",
    "plt.hist(nums, bins = 200) \n",
    "plt.show()"
   ]
  },
  {
   "cell_type": "markdown",
   "id": "ff0818d4",
   "metadata": {},
   "source": [
    "В juyter есть возможность устанавливать библиотеки без использования командной строки или терминала"
   ]
  },
  {
   "cell_type": "code",
   "execution_count": null,
   "id": "4e718164",
   "metadata": {},
   "outputs": [],
   "source": [
    "! pip install seaborn"
   ]
  },
  {
   "cell_type": "code",
   "execution_count": null,
   "id": "92ce913e",
   "metadata": {},
   "outputs": [],
   "source": [
    "import numpy as np\n",
    "import seaborn as sns\n",
    "uniform_data = np.random.rand(10, 12)\n",
    "ax = sns.heatmap(uniform_data)"
   ]
  },
  {
   "cell_type": "markdown",
   "id": "2e7e0856",
   "metadata": {},
   "source": [
    "## Создайте в одной директории с ноутбуком файл и запишите туда класс из задачи 4.1. Повторите создание экземпляров и получите значения гомологичности"
   ]
  },
  {
   "cell_type": "code",
   "execution_count": 19,
   "id": "dc71b960",
   "metadata": {},
   "outputs": [
    {
     "data": {
      "text/plain": [
       "[{64: 'TTHHREHSEHEHJSEGAFGRDFHNRESHJRSTT'},\n",
       " {45: 'TTHHREHSEHJRSTT******************'},\n",
       " {53: 'SGE******************************'}]"
      ]
     },
     "execution_count": 19,
     "metadata": {},
     "output_type": "execute_result"
    }
   ],
   "source": [
    "import os\n",
    "import protein\n",
    "\n",
    "sample_1 = sequence_protein(\"SGE\")\n",
    "sample_1.seq_comparasion(\"SGE\")\n",
    "sample_1.base_view()"
   ]
  }
 ],
 "metadata": {
  "kernelspec": {
   "display_name": "Python 3 (ipykernel)",
   "language": "python",
   "name": "python3"
  },
  "language_info": {
   "codemirror_mode": {
    "name": "ipython",
    "version": 3
   },
   "file_extension": ".py",
   "mimetype": "text/x-python",
   "name": "python",
   "nbconvert_exporter": "python",
   "pygments_lexer": "ipython3",
   "version": "3.9.12"
  },
  "toc": {
   "base_numbering": 1,
   "nav_menu": {},
   "number_sections": true,
   "sideBar": true,
   "skip_h1_title": false,
   "title_cell": "Table of Contents",
   "title_sidebar": "Contents",
   "toc_cell": false,
   "toc_position": {},
   "toc_section_display": true,
   "toc_window_display": false
  }
 },
 "nbformat": 4,
 "nbformat_minor": 5
}
